{
 "cells": [
  {
   "cell_type": "code",
   "execution_count": 2,
   "metadata": {
    "collapsed": true
   },
   "outputs": [],
   "source": [
    "import pandas as pd\n",
    "import numpy as np\n",
    "import re"
   ]
  },
  {
   "cell_type": "code",
   "execution_count": 3,
   "metadata": {
    "collapsed": true
   },
   "outputs": [],
   "source": [
    "cf=pd.read_csv(\"mortgag.csv\",names=[\"complaintdate\",\"product\",\"subproduct\" ,\"issue\",\"subissue\",\"consumer_narrative\",\"company_public_response\",\"company\",\"state\" ,\"zip\",\"tags\",\"companyconsent\",\"via\",\"send_to_company_date\",\"company_respons e_consumer\",\"timely\",\"consumer_disputed\",\"id\"],skiprows=1)"
   ]
  },
  {
   "cell_type": "code",
   "execution_count": 4,
   "metadata": {
    "collapsed": false
   },
   "outputs": [
    {
     "data": {
      "text/html": [
       "<div>\n",
       "<style>\n",
       "    .dataframe thead tr:only-child th {\n",
       "        text-align: right;\n",
       "    }\n",
       "\n",
       "    .dataframe thead th {\n",
       "        text-align: left;\n",
       "    }\n",
       "\n",
       "    .dataframe tbody tr th {\n",
       "        vertical-align: top;\n",
       "    }\n",
       "</style>\n",
       "<table border=\"1\" class=\"dataframe\">\n",
       "  <thead>\n",
       "    <tr style=\"text-align: right;\">\n",
       "      <th></th>\n",
       "      <th>consumer_narrative</th>\n",
       "    </tr>\n",
       "  </thead>\n",
       "  <tbody>\n",
       "    <tr>\n",
       "      <th>9</th>\n",
       "      <td>Started the refinance of home mortgage process...</td>\n",
       "    </tr>\n",
       "    <tr>\n",
       "      <th>10</th>\n",
       "      <td>In XXXX, I and my ex-husband applied for a ref...</td>\n",
       "    </tr>\n",
       "    <tr>\n",
       "      <th>11</th>\n",
       "      <td>Mortgage was transferred to Nationstar as of X...</td>\n",
       "    </tr>\n",
       "    <tr>\n",
       "      <th>26</th>\n",
       "      <td>Need to move into a XXXX facility. Can no long...</td>\n",
       "    </tr>\n",
       "    <tr>\n",
       "      <th>36</th>\n",
       "      <td>I had an FHA loan at US Bank that was paid off...</td>\n",
       "    </tr>\n",
       "    <tr>\n",
       "      <th>38</th>\n",
       "      <td>I went through a divorce several years ago and...</td>\n",
       "    </tr>\n",
       "    <tr>\n",
       "      <th>42</th>\n",
       "      <td>Select Portfolio Servicing has been deceptive ...</td>\n",
       "    </tr>\n",
       "    <tr>\n",
       "      <th>55</th>\n",
       "      <td>I got recent modification ( XXXX/XXXX/2015 ) f...</td>\n",
       "    </tr>\n",
       "    <tr>\n",
       "      <th>58</th>\n",
       "      <td>I was late on my mortgage payments and decided...</td>\n",
       "    </tr>\n",
       "    <tr>\n",
       "      <th>59</th>\n",
       "      <td>Requested a payoff quote by fax and certified ...</td>\n",
       "    </tr>\n",
       "    <tr>\n",
       "      <th>61</th>\n",
       "      <td>SENECA MORTGAGE SERVICING XXXX XXXX XXXX XXXX,...</td>\n",
       "    </tr>\n",
       "    <tr>\n",
       "      <th>69</th>\n",
       "      <td>We are in a hardship and received a letter reg...</td>\n",
       "    </tr>\n",
       "    <tr>\n",
       "      <th>82</th>\n",
       "      <td>I filed a complain against Chase Mortgage on X...</td>\n",
       "    </tr>\n",
       "    <tr>\n",
       "      <th>89</th>\n",
       "      <td>XXXX previous case numberSince my last written...</td>\n",
       "    </tr>\n",
       "    <tr>\n",
       "      <th>90</th>\n",
       "      <td>My present mortgage has been identified as one...</td>\n",
       "    </tr>\n",
       "    <tr>\n",
       "      <th>96</th>\n",
       "      <td>Quicken loan and fraudulent claims to get you ...</td>\n",
       "    </tr>\n",
       "    <tr>\n",
       "      <th>101</th>\n",
       "      <td>In XX/XX/2005 I obtained a home equity mortgag...</td>\n",
       "    </tr>\n",
       "    <tr>\n",
       "      <th>105</th>\n",
       "      <td>I received exceptional service from my lender ...</td>\n",
       "    </tr>\n",
       "    <tr>\n",
       "      <th>107</th>\n",
       "      <td>We were recently denied a settlement counter-o...</td>\n",
       "    </tr>\n",
       "    <tr>\n",
       "      <th>113</th>\n",
       "      <td>XX/XX/XXXX my mortgage company Nationstar sent...</td>\n",
       "    </tr>\n",
       "    <tr>\n",
       "      <th>138</th>\n",
       "      <td>This loan closed as a short sale with XXXX XXX...</td>\n",
       "    </tr>\n",
       "    <tr>\n",
       "      <th>152</th>\n",
       "      <td>( To preface this may be nothing but it is fro...</td>\n",
       "    </tr>\n",
       "    <tr>\n",
       "      <th>156</th>\n",
       "      <td>In XXXX XXXX my wife and I applied through the...</td>\n",
       "    </tr>\n",
       "    <tr>\n",
       "      <th>174</th>\n",
       "      <td>Submitted a short sale package to Loan Care vi...</td>\n",
       "    </tr>\n",
       "    <tr>\n",
       "      <th>183</th>\n",
       "      <td>During a loan modification process, prior to h...</td>\n",
       "    </tr>\n",
       "    <tr>\n",
       "      <th>185</th>\n",
       "      <td>Bank of America has continued to contact me on...</td>\n",
       "    </tr>\n",
       "    <tr>\n",
       "      <th>192</th>\n",
       "      <td>I have a delinquent tax account with my townsh...</td>\n",
       "    </tr>\n",
       "    <tr>\n",
       "      <th>203</th>\n",
       "      <td>I was denied a loan modification from BOA. I w...</td>\n",
       "    </tr>\n",
       "    <tr>\n",
       "      <th>204</th>\n",
       "      <td>the day after I closed on a new loan it was so...</td>\n",
       "    </tr>\n",
       "    <tr>\n",
       "      <th>206</th>\n",
       "      <td>Ocwen charged me XXXX for postage for sending ...</td>\n",
       "    </tr>\n",
       "    <tr>\n",
       "      <th>...</th>\n",
       "      <td>...</td>\n",
       "    </tr>\n",
       "    <tr>\n",
       "      <th>246262</th>\n",
       "      <td>I started the loan process with a company. The...</td>\n",
       "    </tr>\n",
       "    <tr>\n",
       "      <th>246263</th>\n",
       "      <td>Greetings All, I have/had a mortgage with HSBC...</td>\n",
       "    </tr>\n",
       "    <tr>\n",
       "      <th>246270</th>\n",
       "      <td>My loan was sold to XXXX in XX/XX/XXXX who sub...</td>\n",
       "    </tr>\n",
       "    <tr>\n",
       "      <th>246271</th>\n",
       "      <td>The homeowner has been trying to get a loan mo...</td>\n",
       "    </tr>\n",
       "    <tr>\n",
       "      <th>246279</th>\n",
       "      <td>I have made on time payments which were not po...</td>\n",
       "    </tr>\n",
       "    <tr>\n",
       "      <th>246281</th>\n",
       "      <td>PNC IS REFUSING TO REMOVE 2 VERY OLD ACCOUNTS ...</td>\n",
       "    </tr>\n",
       "    <tr>\n",
       "      <th>246283</th>\n",
       "      <td>My loan was cleared to close and my mortgage c...</td>\n",
       "    </tr>\n",
       "    <tr>\n",
       "      <th>246290</th>\n",
       "      <td>For me \" Buying a home is XXXX the most import...</td>\n",
       "    </tr>\n",
       "    <tr>\n",
       "      <th>246292</th>\n",
       "      <td>In XX/XX/XXXX I received notice from my mortga...</td>\n",
       "    </tr>\n",
       "    <tr>\n",
       "      <th>246294</th>\n",
       "      <td>I applied for XXXX benefits at my bank, Navy F...</td>\n",
       "    </tr>\n",
       "    <tr>\n",
       "      <th>246296</th>\n",
       "      <td>We received the final closing disclosure from ...</td>\n",
       "    </tr>\n",
       "    <tr>\n",
       "      <th>246302</th>\n",
       "      <td>I ran into some financial issues and contacted...</td>\n",
       "    </tr>\n",
       "    <tr>\n",
       "      <th>246303</th>\n",
       "      <td>Hello, Recently my FHA loan was transferred to...</td>\n",
       "    </tr>\n",
       "    <tr>\n",
       "      <th>246304</th>\n",
       "      <td>My mortgage was sold on XX/XX/2017. I found th...</td>\n",
       "    </tr>\n",
       "    <tr>\n",
       "      <th>246306</th>\n",
       "      <td>2 monthly mortgage payments drafted my account...</td>\n",
       "    </tr>\n",
       "    <tr>\n",
       "      <th>246312</th>\n",
       "      <td>RPM mortgage, XXXX which was presented by XXXX...</td>\n",
       "    </tr>\n",
       "    <tr>\n",
       "      <th>246317</th>\n",
       "      <td>On XXXX/XXXX/16 I paid my mortgage payment to ...</td>\n",
       "    </tr>\n",
       "    <tr>\n",
       "      <th>246325</th>\n",
       "      <td>I made all the payments on my 20 year loan. No...</td>\n",
       "    </tr>\n",
       "    <tr>\n",
       "      <th>246329</th>\n",
       "      <td>My mortgage was transferred by PHH Mortgage to...</td>\n",
       "    </tr>\n",
       "    <tr>\n",
       "      <th>246330</th>\n",
       "      <td>In XXXX of 2013, Bank of America indicated tha...</td>\n",
       "    </tr>\n",
       "    <tr>\n",
       "      <th>246331</th>\n",
       "      <td>The subservicing company I pay my mortgage to ...</td>\n",
       "    </tr>\n",
       "    <tr>\n",
       "      <th>246332</th>\n",
       "      <td>I purchased a house on XX/XX/2015 of this year...</td>\n",
       "    </tr>\n",
       "    <tr>\n",
       "      <th>246333</th>\n",
       "      <td>CITIMORTGAGE IS STEALING MY HOME It 's Gone XX...</td>\n",
       "    </tr>\n",
       "    <tr>\n",
       "      <th>246337</th>\n",
       "      <td>HAMP Modification loan has been permanently mo...</td>\n",
       "    </tr>\n",
       "    <tr>\n",
       "      <th>246343</th>\n",
       "      <td>I have been actively filing loan modifications...</td>\n",
       "    </tr>\n",
       "    <tr>\n",
       "      <th>246346</th>\n",
       "      <td>TLA, XXXX XXXX, XXXX MD XXXX, XXXX sent out a ...</td>\n",
       "    </tr>\n",
       "    <tr>\n",
       "      <th>246347</th>\n",
       "      <td>Recent flood insurance claim check was written...</td>\n",
       "    </tr>\n",
       "    <tr>\n",
       "      <th>246349</th>\n",
       "      <td>After speaking with CFPB supervisor XXXX XXXX ...</td>\n",
       "    </tr>\n",
       "    <tr>\n",
       "      <th>246353</th>\n",
       "      <td>I have a mortgage with Caliber Home Loans ( Ac...</td>\n",
       "    </tr>\n",
       "    <tr>\n",
       "      <th>246357</th>\n",
       "      <td>I was contacted on XX/XX/XXXX email by XXXX fr...</td>\n",
       "    </tr>\n",
       "  </tbody>\n",
       "</table>\n",
       "<p>39734 rows × 1 columns</p>\n",
       "</div>"
      ],
      "text/plain": [
       "                                       consumer_narrative\n",
       "9       Started the refinance of home mortgage process...\n",
       "10      In XXXX, I and my ex-husband applied for a ref...\n",
       "11      Mortgage was transferred to Nationstar as of X...\n",
       "26      Need to move into a XXXX facility. Can no long...\n",
       "36      I had an FHA loan at US Bank that was paid off...\n",
       "38      I went through a divorce several years ago and...\n",
       "42      Select Portfolio Servicing has been deceptive ...\n",
       "55      I got recent modification ( XXXX/XXXX/2015 ) f...\n",
       "58      I was late on my mortgage payments and decided...\n",
       "59      Requested a payoff quote by fax and certified ...\n",
       "61      SENECA MORTGAGE SERVICING XXXX XXXX XXXX XXXX,...\n",
       "69      We are in a hardship and received a letter reg...\n",
       "82      I filed a complain against Chase Mortgage on X...\n",
       "89      XXXX previous case numberSince my last written...\n",
       "90      My present mortgage has been identified as one...\n",
       "96      Quicken loan and fraudulent claims to get you ...\n",
       "101     In XX/XX/2005 I obtained a home equity mortgag...\n",
       "105     I received exceptional service from my lender ...\n",
       "107     We were recently denied a settlement counter-o...\n",
       "113     XX/XX/XXXX my mortgage company Nationstar sent...\n",
       "138     This loan closed as a short sale with XXXX XXX...\n",
       "152     ( To preface this may be nothing but it is fro...\n",
       "156     In XXXX XXXX my wife and I applied through the...\n",
       "174     Submitted a short sale package to Loan Care vi...\n",
       "183     During a loan modification process, prior to h...\n",
       "185     Bank of America has continued to contact me on...\n",
       "192     I have a delinquent tax account with my townsh...\n",
       "203     I was denied a loan modification from BOA. I w...\n",
       "204     the day after I closed on a new loan it was so...\n",
       "206     Ocwen charged me XXXX for postage for sending ...\n",
       "...                                                   ...\n",
       "246262  I started the loan process with a company. The...\n",
       "246263  Greetings All, I have/had a mortgage with HSBC...\n",
       "246270  My loan was sold to XXXX in XX/XX/XXXX who sub...\n",
       "246271  The homeowner has been trying to get a loan mo...\n",
       "246279  I have made on time payments which were not po...\n",
       "246281  PNC IS REFUSING TO REMOVE 2 VERY OLD ACCOUNTS ...\n",
       "246283  My loan was cleared to close and my mortgage c...\n",
       "246290  For me \" Buying a home is XXXX the most import...\n",
       "246292  In XX/XX/XXXX I received notice from my mortga...\n",
       "246294  I applied for XXXX benefits at my bank, Navy F...\n",
       "246296  We received the final closing disclosure from ...\n",
       "246302  I ran into some financial issues and contacted...\n",
       "246303  Hello, Recently my FHA loan was transferred to...\n",
       "246304  My mortgage was sold on XX/XX/2017. I found th...\n",
       "246306  2 monthly mortgage payments drafted my account...\n",
       "246312  RPM mortgage, XXXX which was presented by XXXX...\n",
       "246317  On XXXX/XXXX/16 I paid my mortgage payment to ...\n",
       "246325  I made all the payments on my 20 year loan. No...\n",
       "246329  My mortgage was transferred by PHH Mortgage to...\n",
       "246330  In XXXX of 2013, Bank of America indicated tha...\n",
       "246331  The subservicing company I pay my mortgage to ...\n",
       "246332  I purchased a house on XX/XX/2015 of this year...\n",
       "246333  CITIMORTGAGE IS STEALING MY HOME It 's Gone XX...\n",
       "246337  HAMP Modification loan has been permanently mo...\n",
       "246343  I have been actively filing loan modifications...\n",
       "246346  TLA, XXXX XXXX, XXXX MD XXXX, XXXX sent out a ...\n",
       "246347  Recent flood insurance claim check was written...\n",
       "246349  After speaking with CFPB supervisor XXXX XXXX ...\n",
       "246353  I have a mortgage with Caliber Home Loans ( Ac...\n",
       "246357  I was contacted on XX/XX/XXXX email by XXXX fr...\n",
       "\n",
       "[39734 rows x 1 columns]"
      ]
     },
     "execution_count": 4,
     "metadata": {},
     "output_type": "execute_result"
    }
   ],
   "source": [
    "cf=cf[~cf.consumer_narrative.isnull()]\n",
    "cf[['consumer_narrative']]"
   ]
  },
  {
   "cell_type": "code",
   "execution_count": 5,
   "metadata": {
    "collapsed": false
   },
   "outputs": [
    {
     "data": {
      "text/html": [
       "<div>\n",
       "<style>\n",
       "    .dataframe thead tr:only-child th {\n",
       "        text-align: right;\n",
       "    }\n",
       "\n",
       "    .dataframe thead th {\n",
       "        text-align: left;\n",
       "    }\n",
       "\n",
       "    .dataframe tbody tr th {\n",
       "        vertical-align: top;\n",
       "    }\n",
       "</style>\n",
       "<table border=\"1\" class=\"dataframe\">\n",
       "  <thead>\n",
       "    <tr style=\"text-align: right;\">\n",
       "      <th></th>\n",
       "      <th>complaintdate</th>\n",
       "      <th>product</th>\n",
       "      <th>subproduct</th>\n",
       "      <th>issue</th>\n",
       "      <th>subissue</th>\n",
       "      <th>consumer_narrative</th>\n",
       "      <th>company_public_response</th>\n",
       "      <th>company</th>\n",
       "      <th>state</th>\n",
       "      <th>zip</th>\n",
       "      <th>tags</th>\n",
       "      <th>companyconsent</th>\n",
       "      <th>via</th>\n",
       "      <th>send_to_company_date</th>\n",
       "      <th>company_respons e_consumer</th>\n",
       "      <th>timely</th>\n",
       "      <th>consumer_disputed</th>\n",
       "      <th>id</th>\n",
       "      <th>tokens</th>\n",
       "    </tr>\n",
       "  </thead>\n",
       "  <tbody>\n",
       "    <tr>\n",
       "      <th>9</th>\n",
       "      <td>11/18/2016</td>\n",
       "      <td>Mortgage</td>\n",
       "      <td>Conventional fixed mortgage</td>\n",
       "      <td>Settlement process and costs</td>\n",
       "      <td>NaN</td>\n",
       "      <td>Started the refinance of home mortgage process...</td>\n",
       "      <td>NaN</td>\n",
       "      <td>AMERICAN NEIGHBORHOOD MORTGAGE</td>\n",
       "      <td>NJ</td>\n",
       "      <td>088XX</td>\n",
       "      <td>NaN</td>\n",
       "      <td>Consent provided</td>\n",
       "      <td>Web</td>\n",
       "      <td>11/21/2016</td>\n",
       "      <td>Closed with monetary relief</td>\n",
       "      <td>No</td>\n",
       "      <td>No</td>\n",
       "      <td>2216206</td>\n",
       "      <td>[Started, the, refinance, of, home, mortgage, ...</td>\n",
       "    </tr>\n",
       "    <tr>\n",
       "      <th>10</th>\n",
       "      <td>07/16/2015</td>\n",
       "      <td>Mortgage</td>\n",
       "      <td>Conventional fixed mortgage</td>\n",
       "      <td>Application, originator, mortgage broker</td>\n",
       "      <td>NaN</td>\n",
       "      <td>In XXXX, I and my ex-husband applied for a ref...</td>\n",
       "      <td>NaN</td>\n",
       "      <td>HSBC NORTH AMERICA HOLDINGS INC.</td>\n",
       "      <td>IL</td>\n",
       "      <td>625XX</td>\n",
       "      <td>NaN</td>\n",
       "      <td>Consent provided</td>\n",
       "      <td>Web</td>\n",
       "      <td>07/16/2015</td>\n",
       "      <td>Closed with explanation</td>\n",
       "      <td>Yes</td>\n",
       "      <td>No</td>\n",
       "      <td>1472017</td>\n",
       "      <td>[In, XXXX, I, and, my, ex, husband, applied, f...</td>\n",
       "    </tr>\n",
       "    <tr>\n",
       "      <th>11</th>\n",
       "      <td>04/27/2016</td>\n",
       "      <td>Mortgage</td>\n",
       "      <td>Conventional fixed mortgage</td>\n",
       "      <td>Loan servicing, payments, escrow account</td>\n",
       "      <td>NaN</td>\n",
       "      <td>Mortgage was transferred to Nationstar as of X...</td>\n",
       "      <td>NaN</td>\n",
       "      <td>NATIONSTAR MORTGAGE</td>\n",
       "      <td>CA</td>\n",
       "      <td>954XX</td>\n",
       "      <td>NaN</td>\n",
       "      <td>Consent provided</td>\n",
       "      <td>Web</td>\n",
       "      <td>04/27/2016</td>\n",
       "      <td>Closed with explanation</td>\n",
       "      <td>Yes</td>\n",
       "      <td>Yes</td>\n",
       "      <td>1898476</td>\n",
       "      <td>[Mortgage, was, transferred, to, Nationstar, a...</td>\n",
       "    </tr>\n",
       "    <tr>\n",
       "      <th>26</th>\n",
       "      <td>06/30/2016</td>\n",
       "      <td>Mortgage</td>\n",
       "      <td>Conventional fixed mortgage</td>\n",
       "      <td>Credit decision / Underwriting</td>\n",
       "      <td>NaN</td>\n",
       "      <td>Need to move into a XXXX facility. Can no long...</td>\n",
       "      <td>NaN</td>\n",
       "      <td>VANDERBILT MORTGAGE &amp; FINANCE, INC</td>\n",
       "      <td>GA</td>\n",
       "      <td>300XX</td>\n",
       "      <td>Older American</td>\n",
       "      <td>Consent provided</td>\n",
       "      <td>Web</td>\n",
       "      <td>07-01-2016</td>\n",
       "      <td>Closed with explanation</td>\n",
       "      <td>Yes</td>\n",
       "      <td>No</td>\n",
       "      <td>1992309</td>\n",
       "      <td>[Need, to, move, into, a, XXXX, facility, Can,...</td>\n",
       "    </tr>\n",
       "    <tr>\n",
       "      <th>36</th>\n",
       "      <td>07/20/2015</td>\n",
       "      <td>Mortgage</td>\n",
       "      <td>FHA mortgage</td>\n",
       "      <td>Loan servicing, payments, escrow account</td>\n",
       "      <td>NaN</td>\n",
       "      <td>I had an FHA loan at US Bank that was paid off...</td>\n",
       "      <td>Company chooses not to provide a public response</td>\n",
       "      <td>U.S. BANCORP</td>\n",
       "      <td>TN</td>\n",
       "      <td>370XX</td>\n",
       "      <td>NaN</td>\n",
       "      <td>Consent provided</td>\n",
       "      <td>Web</td>\n",
       "      <td>07/20/2015</td>\n",
       "      <td>Closed with explanation</td>\n",
       "      <td>Yes</td>\n",
       "      <td>No</td>\n",
       "      <td>1474887</td>\n",
       "      <td>[I, had, an, FHA, loan, at, US, Bank, that, wa...</td>\n",
       "    </tr>\n",
       "  </tbody>\n",
       "</table>\n",
       "</div>"
      ],
      "text/plain": [
       "   complaintdate   product                   subproduct  \\\n",
       "9     11/18/2016  Mortgage  Conventional fixed mortgage   \n",
       "10    07/16/2015  Mortgage  Conventional fixed mortgage   \n",
       "11    04/27/2016  Mortgage  Conventional fixed mortgage   \n",
       "26    06/30/2016  Mortgage  Conventional fixed mortgage   \n",
       "36    07/20/2015  Mortgage                 FHA mortgage   \n",
       "\n",
       "                                       issue  subissue  \\\n",
       "9               Settlement process and costs       NaN   \n",
       "10  Application, originator, mortgage broker       NaN   \n",
       "11  Loan servicing, payments, escrow account       NaN   \n",
       "26            Credit decision / Underwriting       NaN   \n",
       "36  Loan servicing, payments, escrow account       NaN   \n",
       "\n",
       "                                   consumer_narrative  \\\n",
       "9   Started the refinance of home mortgage process...   \n",
       "10  In XXXX, I and my ex-husband applied for a ref...   \n",
       "11  Mortgage was transferred to Nationstar as of X...   \n",
       "26  Need to move into a XXXX facility. Can no long...   \n",
       "36  I had an FHA loan at US Bank that was paid off...   \n",
       "\n",
       "                             company_public_response  \\\n",
       "9                                                NaN   \n",
       "10                                               NaN   \n",
       "11                                               NaN   \n",
       "26                                               NaN   \n",
       "36  Company chooses not to provide a public response   \n",
       "\n",
       "                               company state    zip            tags  \\\n",
       "9       AMERICAN NEIGHBORHOOD MORTGAGE    NJ  088XX             NaN   \n",
       "10    HSBC NORTH AMERICA HOLDINGS INC.    IL  625XX             NaN   \n",
       "11                 NATIONSTAR MORTGAGE    CA  954XX             NaN   \n",
       "26  VANDERBILT MORTGAGE & FINANCE, INC    GA  300XX  Older American   \n",
       "36                        U.S. BANCORP    TN  370XX             NaN   \n",
       "\n",
       "      companyconsent  via send_to_company_date   company_respons e_consumer  \\\n",
       "9   Consent provided  Web           11/21/2016  Closed with monetary relief   \n",
       "10  Consent provided  Web           07/16/2015      Closed with explanation   \n",
       "11  Consent provided  Web           04/27/2016      Closed with explanation   \n",
       "26  Consent provided  Web           07-01-2016      Closed with explanation   \n",
       "36  Consent provided  Web           07/20/2015      Closed with explanation   \n",
       "\n",
       "   timely consumer_disputed       id  \\\n",
       "9      No                No  2216206   \n",
       "10    Yes                No  1472017   \n",
       "11    Yes               Yes  1898476   \n",
       "26    Yes                No  1992309   \n",
       "36    Yes                No  1474887   \n",
       "\n",
       "                                               tokens  \n",
       "9   [Started, the, refinance, of, home, mortgage, ...  \n",
       "10  [In, XXXX, I, and, my, ex, husband, applied, f...  \n",
       "11  [Mortgage, was, transferred, to, Nationstar, a...  \n",
       "26  [Need, to, move, into, a, XXXX, facility, Can,...  \n",
       "36  [I, had, an, FHA, loan, at, US, Bank, that, wa...  "
      ]
     },
     "execution_count": 5,
     "metadata": {},
     "output_type": "execute_result"
    }
   ],
   "source": [
    "from nltk.tokenize import RegexpTokenizer \n",
    "tokenizer = RegexpTokenizer(r'\\w+') \n",
    "cf[\"tokens\"] = cf[\"consumer_narrative\"].apply(tokenizer.tokenize) \n",
    "cf.head()"
   ]
  },
  {
   "cell_type": "code",
   "execution_count": 6,
   "metadata": {
    "collapsed": true
   },
   "outputs": [],
   "source": [
    "import nltk\n",
    "from nltk.corpus import stopwords \n",
    "from nltk.stem.porter import PorterStemmer \n",
    "stemmer = PorterStemmer() \n",
    "from nltk.stem import WordNetLemmatizer \n",
    "lemmatizer = WordNetLemmatizer();"
   ]
  },
  {
   "cell_type": "code",
   "execution_count": 7,
   "metadata": {
    "collapsed": true
   },
   "outputs": [],
   "source": [
    "mortgage_dict=['refinance','borrower','mortgage','lender','reporting','refinanced','financed','finance']"
   ]
  },
  {
   "cell_type": "code",
   "execution_count": 8,
   "metadata": {
    "collapsed": true
   },
   "outputs": [],
   "source": [
    "def stemandlemma(consumer_narrative):\n",
    "    preprocess_list = list()\n",
    "    words = consumer_narrative.lower().split()\n",
    "    for w in words:\n",
    "        if(w not in mortgage_dict):\n",
    "            preprocess_list.append( lemmatizer.lemmatize(w) )\n",
    "        else:\n",
    "            preprocess_list.append(w)\n",
    "    return \" \".join(preprocess_list)"
   ]
  },
  {
   "cell_type": "code",
   "execution_count": 9,
   "metadata": {
    "collapsed": true
   },
   "outputs": [],
   "source": [
    "def removeNER(consumer_narrative):\n",
    "    preprocess_list = list()\n",
    "    words = consumer_narrative.lower().split()\n",
    "    for w in words:\n",
    "        preprocess_list.append( stemmer.stem(w) )\n",
    "    return preprocess_list"
   ]
  },
  {
   "cell_type": "code",
   "execution_count": 10,
   "metadata": {
    "collapsed": true
   },
   "outputs": [],
   "source": [
    "def preprocess_consumer_narrative( consumer_narrative):\n",
    "    preprocess_list = list()\n",
    "    for text in consumer_narrative:\n",
    "        letters_only = re.sub(\"[^a-zA-Z]\", \" \", text) \n",
    "        letters_only = re.sub(\"XX\",\"\",letters_only)\n",
    "        words = letters_only.lower().split()                             \n",
    "        stops = set(stopwords.words(\"english\"))                  \n",
    "        meaningful_words = [w for w in words if not w in stops]\n",
    "        preprocess_list.append(\" \".join( meaningful_words ))\n",
    "    return preprocess_list  "
   ]
  },
  {
   "cell_type": "code",
   "execution_count": 11,
   "metadata": {
    "collapsed": true
   },
   "outputs": [],
   "source": [
    "cf['consumer_newnarrative'] = preprocess_consumer_narrative( cf.consumer_narrative)\n",
    "cf['consumer_newnarrative'] = cf['consumer_newnarrative'].map(stemandlemma)"
   ]
  },
  {
   "cell_type": "code",
   "execution_count": 12,
   "metadata": {
    "collapsed": false
   },
   "outputs": [
    {
     "data": {
      "text/plain": [
       "'got recent modification mortgage ocwen service house located tx ocwen adding something principal think much money added please help clarify kind charge addition mortgage loan thanks'"
      ]
     },
     "execution_count": 12,
     "metadata": {},
     "output_type": "execute_result"
    }
   ],
   "source": [
    "cf.iloc[7].consumer_newnarrative"
   ]
  },
  {
   "cell_type": "code",
   "execution_count": 13,
   "metadata": {
    "collapsed": true
   },
   "outputs": [],
   "source": [
    "from sklearn.model_selection import train_test_split\n",
    "cf_consumer_narrative = pd.DataFrame(cf['consumer_newnarrative'])\n",
    "y =cf['issue'] \n",
    "X_train, X_test, y_train, y_test = train_test_split(cf_consumer_narrative, y, test_size=0.3)"
   ]
  },
  {
   "cell_type": "code",
   "execution_count": 14,
   "metadata": {
    "collapsed": true
   },
   "outputs": [],
   "source": [
    "from sklearn.feature_extraction.text import CountVectorizer \n",
    "vectorizer = CountVectorizer(analyzer = \"word\",   \\\n",
    "                             tokenizer = None,    \\\n",
    "                             preprocessor = None, \\\n",
    "                             stop_words = None,   \\\n",
    "                             max_features = 5000) \n",
    "train_data_features = vectorizer.fit_transform(X_train.consumer_newnarrative)"
   ]
  },
  {
   "cell_type": "code",
   "execution_count": 15,
   "metadata": {
    "collapsed": false
   },
   "outputs": [
    {
     "data": {
      "text/plain": [
       "(27813, 5000)"
      ]
     },
     "execution_count": 15,
     "metadata": {},
     "output_type": "execute_result"
    }
   ],
   "source": [
    "train_data_features.shape"
   ]
  },
  {
   "cell_type": "code",
   "execution_count": 16,
   "metadata": {
    "collapsed": true
   },
   "outputs": [],
   "source": [
    "from sklearn import tree\n",
    "from sklearn.tree import DecisionTreeClassifier"
   ]
  },
  {
   "cell_type": "code",
   "execution_count": 17,
   "metadata": {
    "collapsed": true
   },
   "outputs": [],
   "source": [
    "model = tree.DecisionTreeClassifier()"
   ]
  },
  {
   "cell_type": "code",
   "execution_count": 18,
   "metadata": {
    "collapsed": false
   },
   "outputs": [
    {
     "data": {
      "text/plain": [
       "DecisionTreeClassifier(class_weight=None, criterion='gini', max_depth=None,\n",
       "            max_features=None, max_leaf_nodes=None,\n",
       "            min_impurity_decrease=0.0, min_impurity_split=None,\n",
       "            min_samples_leaf=1, min_samples_split=2,\n",
       "            min_weight_fraction_leaf=0.0, presort=False, random_state=None,\n",
       "            splitter='best')"
      ]
     },
     "execution_count": 18,
     "metadata": {},
     "output_type": "execute_result"
    }
   ],
   "source": [
    "model"
   ]
  },
  {
   "cell_type": "code",
   "execution_count": 19,
   "metadata": {
    "collapsed": true
   },
   "outputs": [],
   "source": [
    "model = model.fit(train_data_features, y_train)"
   ]
  },
  {
   "cell_type": "code",
   "execution_count": 20,
   "metadata": {
    "collapsed": true
   },
   "outputs": [],
   "source": [
    "test_data_features = vectorizer.transform(X_test.consumer_newnarrative)"
   ]
  },
  {
   "cell_type": "code",
   "execution_count": 21,
   "metadata": {
    "collapsed": true
   },
   "outputs": [],
   "source": [
    "result=model.predict(test_data_features)"
   ]
  },
  {
   "cell_type": "code",
   "execution_count": 22,
   "metadata": {
    "collapsed": false
   },
   "outputs": [
    {
     "data": {
      "text/plain": [
       "0.45289824679137658"
      ]
     },
     "execution_count": 22,
     "metadata": {},
     "output_type": "execute_result"
    }
   ],
   "source": [
    "from sklearn.metrics import accuracy_score\n",
    "accuracy_score(y_test,result)"
   ]
  },
  {
   "cell_type": "code",
   "execution_count": 29,
   "metadata": {
    "collapsed": false
   },
   "outputs": [
    {
     "name": "stdout",
     "output_type": "stream",
     "text": [
      "[[ 406    5   58   37   81    0    2    2  169  241    0    0  120   26\n",
      "    36    1]\n",
      " [   5    0    1    1    0    0    0    0    4    3    0    0    5    1\n",
      "     1    0]\n",
      " [  62    0    5    6   18    0    0    0   37   52    0    0   23    8\n",
      "     9    0]\n",
      " [  45    0    6   14   13    0    0    0   27   49    0    0   14    4\n",
      "    12    0]\n",
      " [  83    0   20   17   38    0    0    1   62  101    0    1   29    7\n",
      "    19    0]\n",
      " [   0    0    0    0    0    0    0    0    0    2    0    0    1    0\n",
      "     0    0]\n",
      " [   1    0    0    0    0    0    0    0    0    1    0    0    0    0\n",
      "     0    0]\n",
      " [   5    0    0    0    3    0    0    2    8   21    2    0    1    3\n",
      "     8    0]\n",
      " [ 156    1   31   25   41    0    0    5 1801  631    3    2  112  302\n",
      "   105    1]\n",
      " [ 173    2   40   39   87    0    0   13  623 2760    5    0  149  109\n",
      "   433    3]\n",
      " [   0    0    0    0    0    0    0    0    0    6    0    0    1    0\n",
      "     0    0]\n",
      " [   0    0    0    0    0    0    0    0    0    0    0    0    0    0\n",
      "     0    0]\n",
      " [ 102    2   16   25   28    0    0    1  149  201    0    0  104   21\n",
      "    36    0]\n",
      " [  28    0   10    9    9    0    0    1  357  145    0    0   16  106\n",
      "    18    0]\n",
      " [  28    1    6    8   15    0    1    1  122  500    1    0   26   22\n",
      "   101    0]\n",
      " [   0    0    0    0    0    0    0    0    1    0    0    0    0    0\n",
      "     0    0]]\n"
     ]
    }
   ],
   "source": [
    "from sklearn.metrics import confusion_matrix\n",
    "confusion_matrix = confusion_matrix(y_test, result)\n",
    "print(confusion_matrix)"
   ]
  },
  {
   "cell_type": "code",
   "execution_count": 30,
   "metadata": {
    "collapsed": true
   },
   "outputs": [],
   "source": [
    "from sklearn.feature_extraction.text import CountVectorizer\n",
    "from sklearn.feature_extraction.text import TfidfVectorizer\n",
    "vectorizer = TfidfVectorizer(min_df=1,\\\n",
    "                            stop_words = 'english', \\\n",
    "                            max_features = 5000)\n",
    "train_data_features = vectorizer.fit_transform(X_train.consumer_newnarrative)"
   ]
  },
  {
   "cell_type": "code",
   "execution_count": 34,
   "metadata": {
    "collapsed": false
   },
   "outputs": [
    {
     "data": {
      "text/plain": [
       "0.44803288314738698"
      ]
     },
     "execution_count": 34,
     "metadata": {},
     "output_type": "execute_result"
    }
   ],
   "source": [
    "from sklearn.metrics import accuracy_score\n",
    "accuracy_score(y_test,result)"
   ]
  },
  {
   "cell_type": "code",
   "execution_count": null,
   "metadata": {
    "collapsed": true
   },
   "outputs": [],
   "source": [
    "//////////////////////////////////////////////Logistic Regression///////////////////////////////////////////////////////////////"
   ]
  },
  {
   "cell_type": "code",
   "execution_count": 36,
   "metadata": {
    "collapsed": true
   },
   "outputs": [],
   "source": [
    "from sklearn.linear_model import LogisticRegression\n",
    "model=LogisticRegression(penalty='l2',C=1)"
   ]
  },
  {
   "cell_type": "code",
   "execution_count": 37,
   "metadata": {
    "collapsed": false
   },
   "outputs": [
    {
     "data": {
      "text/plain": [
       "LogisticRegression(C=1, class_weight=None, dual=False, fit_intercept=True,\n",
       "          intercept_scaling=1, max_iter=100, multi_class='ovr', n_jobs=1,\n",
       "          penalty='l2', random_state=None, solver='liblinear', tol=0.0001,\n",
       "          verbose=0, warm_start=False)"
      ]
     },
     "execution_count": 37,
     "metadata": {},
     "output_type": "execute_result"
    }
   ],
   "source": [
    "model"
   ]
  },
  {
   "cell_type": "code",
   "execution_count": 38,
   "metadata": {
    "collapsed": true
   },
   "outputs": [],
   "source": [
    "model = model.fit(train_data_features, y_train)"
   ]
  },
  {
   "cell_type": "code",
   "execution_count": 39,
   "metadata": {
    "collapsed": true
   },
   "outputs": [],
   "source": [
    "test_data_features = vectorizer.transform(X_test.consumer_newnarrative)"
   ]
  },
  {
   "cell_type": "code",
   "execution_count": 40,
   "metadata": {
    "collapsed": true
   },
   "outputs": [],
   "source": [
    "result=model.predict(test_data_features)"
   ]
  },
  {
   "cell_type": "code",
   "execution_count": 41,
   "metadata": {
    "collapsed": false
   },
   "outputs": [
    {
     "data": {
      "text/plain": [
       "0.61177753544165758"
      ]
     },
     "execution_count": 41,
     "metadata": {},
     "output_type": "execute_result"
    }
   ],
   "source": [
    "from sklearn.metrics import accuracy_score \n",
    "accuracy_score(y_test,result)"
   ]
  },
  {
   "cell_type": "code",
   "execution_count": 42,
   "metadata": {
    "collapsed": false
   },
   "outputs": [
    {
     "name": "stdout",
     "output_type": "stream",
     "text": [
      "                                                                                  precision    recall  f1-score   support\n",
      "\n",
      "                                        Application, originator, mortgage broker       0.54      0.56      0.55      1184\n",
      "                                                         Applying for a mortgage       0.00      0.00      0.00        21\n",
      "                     Applying for a mortgage or refinancing an existing mortgage       0.00      0.00      0.00       220\n",
      "                                                           Closing on a mortgage       0.50      0.01      0.01       184\n",
      "                                                  Credit decision / Underwriting       0.23      0.01      0.02       378\n",
      "                         Credit monitoring or identity theft protection services       0.00      0.00      0.00         3\n",
      "                                                     Improper use of your report       0.00      0.00      0.00         2\n",
      "                                            Incorrect information on your report       0.00      0.00      0.00        53\n",
      "                                        Loan modification,collection,foreclosure       0.62      0.80      0.70      3216\n",
      "                                        Loan servicing, payments, escrow account       0.63      0.87      0.74      4436\n",
      "Problem with a credit reporting company's investigation into an existing problem       0.00      0.00      0.00         7\n",
      "                                                    Settlement process and costs       0.44      0.19      0.26       685\n",
      "                                                      Struggling to pay mortgage       0.60      0.04      0.08       699\n",
      "                                                  Trouble during payment process       0.27      0.01      0.02       832\n",
      "                                Unable to get your credit report or credit score       0.00      0.00      0.00         1\n",
      "\n",
      "                                                                     avg / total       0.55      0.61      0.54     11921\n",
      "\n"
     ]
    },
    {
     "name": "stderr",
     "output_type": "stream",
     "text": [
      "C:\\Users\\user\\Anaconda3\\lib\\site-packages\\sklearn\\metrics\\classification.py:1135: UndefinedMetricWarning: Precision and F-score are ill-defined and being set to 0.0 in labels with no predicted samples.\n",
      "  'precision', 'predicted', average, warn_for)\n"
     ]
    }
   ],
   "source": [
    "from sklearn.metrics import classification_report\n",
    "print(classification_report(y_test, result))"
   ]
  },
  {
   "cell_type": "code",
   "execution_count": 43,
   "metadata": {
    "collapsed": false
   },
   "outputs": [
    {
     "name": "stdout",
     "output_type": "stream",
     "text": [
      "[[ 662    0    0    0    4    0    0    0  208  239    0   70    0    1\n",
      "     0]\n",
      " [  11    0    0    0    1    0    0    0    4    5    0    0    0    0\n",
      "     0]\n",
      " [ 115    0    0    0    6    0    0    0   36   55    0    5    2    1\n",
      "     0]\n",
      " [  53    0    0    1    0    0    0    0   35   67    0   25    0    3\n",
      "     0]\n",
      " [ 160    0    0    0    5    0    0    0   68  128    0   15    1    1\n",
      "     0]\n",
      " [   0    0    0    0    0    0    0    0    0    3    0    0    0    0\n",
      "     0]\n",
      " [   1    0    0    0    0    0    0    0    0    1    0    0    0    0\n",
      "     0]\n",
      " [   1    0    0    0    0    0    0    0    9   42    0    0    0    1\n",
      "     0]\n",
      " [  29    0    0    0    0    0    0    0 2581  580    0   15    7    4\n",
      "     0]\n",
      " [  41    0    0    0    4    0    0    0  480 3881    0   19    6    5\n",
      "     0]\n",
      " [   0    0    0    0    0    0    0    0    0    7    0    0    0    0\n",
      "     0]\n",
      " [ 125    0    0    1    1    0    0    0  172  256    0  128    2    0\n",
      "     0]\n",
      " [   9    0    0    0    0    0    0    0  528  128    0    3   28    3\n",
      "     0]\n",
      " [  11    0    0    0    1    0    0    0   75  726    0   11    1    7\n",
      "     0]\n",
      " [   1    0    0    0    0    0    0    0    0    0    0    0    0    0\n",
      "     0]]\n"
     ]
    }
   ],
   "source": [
    "from sklearn.metrics import confusion_matrix\n",
    "confusion_matrix = confusion_matrix(y_test, result)\n",
    "print(confusion_matrix)"
   ]
  },
  {
   "cell_type": "code",
   "execution_count": 44,
   "metadata": {
    "collapsed": true
   },
   "outputs": [],
   "source": [
    "from sklearn.feature_extraction.text import CountVectorizer \n",
    "from sklearn.feature_extraction.text import TfidfVectorizer\n",
    "vectorizer = TfidfVectorizer(min_df=1,\\\n",
    "                            stop_words = 'english', \\\n",
    "                            max_features = 5000) \n",
    "train_data_features = vectorizer.fit_transform(X_train.consumer_newnarrative)"
   ]
  },
  {
   "cell_type": "code",
   "execution_count": 51,
   "metadata": {
    "collapsed": false
   },
   "outputs": [
    {
     "data": {
      "text/plain": [
       "0.61177753544165758"
      ]
     },
     "execution_count": 51,
     "metadata": {},
     "output_type": "execute_result"
    }
   ],
   "source": [
    "from sklearn.metrics import accuracy_score \n",
    "accuracy_score(y_test,result)"
   ]
  },
  {
   "cell_type": "code",
   "execution_count": null,
   "metadata": {
    "collapsed": true
   },
   "outputs": [],
   "source": []
  }
 ],
 "metadata": {
  "kernelspec": {
   "display_name": "Python 3",
   "language": "python",
   "name": "python3"
  },
  "language_info": {
   "codemirror_mode": {
    "name": "ipython",
    "version": 3
   },
   "file_extension": ".py",
   "mimetype": "text/x-python",
   "name": "python",
   "nbconvert_exporter": "python",
   "pygments_lexer": "ipython3",
   "version": "3.6.0"
  }
 },
 "nbformat": 4,
 "nbformat_minor": 2
}
