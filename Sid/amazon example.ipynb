{
 "cells": [
  {
   "cell_type": "code",
   "execution_count": null,
   "metadata": {
    "collapsed": true
   },
   "outputs": [],
   "source": [
    "import pandas as pd\n",
    "import numpy as np\n",
    "import nltk"
   ]
  },
  {
   "cell_type": "code",
   "execution_count": 2,
   "metadata": {
    "collapsed": true
   },
   "outputs": [],
   "source": [
    "n= pd.read_csv(\"Amazon_Mobile.csv\")"
   ]
  },
  {
   "cell_type": "code",
   "execution_count": 3,
   "metadata": {
    "collapsed": false
   },
   "outputs": [
    {
     "data": {
      "text/html": [
       "<div>\n",
       "<table border=\"1\" class=\"dataframe\">\n",
       "  <thead>\n",
       "    <tr style=\"text-align: right;\">\n",
       "      <th></th>\n",
       "      <th>Product Name</th>\n",
       "      <th>Brand Name</th>\n",
       "      <th>Price</th>\n",
       "      <th>Rating</th>\n",
       "      <th>Reviews</th>\n",
       "      <th>Review Votes</th>\n",
       "    </tr>\n",
       "  </thead>\n",
       "  <tbody>\n",
       "    <tr>\n",
       "      <th>0</th>\n",
       "      <td>\"CLEAR CLEAN ESN\" Sprint EPIC 4G Galaxy SPH-D7...</td>\n",
       "      <td>Samsung</td>\n",
       "      <td>199.99</td>\n",
       "      <td>5</td>\n",
       "      <td>I feel so LUCKY to have found this used (phone...</td>\n",
       "      <td>1.0</td>\n",
       "    </tr>\n",
       "    <tr>\n",
       "      <th>1</th>\n",
       "      <td>\"CLEAR CLEAN ESN\" Sprint EPIC 4G Galaxy SPH-D7...</td>\n",
       "      <td>Samsung</td>\n",
       "      <td>199.99</td>\n",
       "      <td>4</td>\n",
       "      <td>nice phone, nice up grade from my pantach revu...</td>\n",
       "      <td>0.0</td>\n",
       "    </tr>\n",
       "    <tr>\n",
       "      <th>2</th>\n",
       "      <td>\"CLEAR CLEAN ESN\" Sprint EPIC 4G Galaxy SPH-D7...</td>\n",
       "      <td>Samsung</td>\n",
       "      <td>199.99</td>\n",
       "      <td>5</td>\n",
       "      <td>Very pleased</td>\n",
       "      <td>0.0</td>\n",
       "    </tr>\n",
       "    <tr>\n",
       "      <th>3</th>\n",
       "      <td>\"CLEAR CLEAN ESN\" Sprint EPIC 4G Galaxy SPH-D7...</td>\n",
       "      <td>Samsung</td>\n",
       "      <td>199.99</td>\n",
       "      <td>4</td>\n",
       "      <td>It works good but it goes slow sometimes but i...</td>\n",
       "      <td>0.0</td>\n",
       "    </tr>\n",
       "    <tr>\n",
       "      <th>4</th>\n",
       "      <td>\"CLEAR CLEAN ESN\" Sprint EPIC 4G Galaxy SPH-D7...</td>\n",
       "      <td>Samsung</td>\n",
       "      <td>199.99</td>\n",
       "      <td>4</td>\n",
       "      <td>Great phone to replace my lost phone. The only...</td>\n",
       "      <td>0.0</td>\n",
       "    </tr>\n",
       "  </tbody>\n",
       "</table>\n",
       "</div>"
      ],
      "text/plain": [
       "                                        Product Name Brand Name   Price  \\\n",
       "0  \"CLEAR CLEAN ESN\" Sprint EPIC 4G Galaxy SPH-D7...    Samsung  199.99   \n",
       "1  \"CLEAR CLEAN ESN\" Sprint EPIC 4G Galaxy SPH-D7...    Samsung  199.99   \n",
       "2  \"CLEAR CLEAN ESN\" Sprint EPIC 4G Galaxy SPH-D7...    Samsung  199.99   \n",
       "3  \"CLEAR CLEAN ESN\" Sprint EPIC 4G Galaxy SPH-D7...    Samsung  199.99   \n",
       "4  \"CLEAR CLEAN ESN\" Sprint EPIC 4G Galaxy SPH-D7...    Samsung  199.99   \n",
       "\n",
       "   Rating                                            Reviews  Review Votes  \n",
       "0       5  I feel so LUCKY to have found this used (phone...           1.0  \n",
       "1       4  nice phone, nice up grade from my pantach revu...           0.0  \n",
       "2       5                                       Very pleased           0.0  \n",
       "3       4  It works good but it goes slow sometimes but i...           0.0  \n",
       "4       4  Great phone to replace my lost phone. The only...           0.0  "
      ]
     },
     "execution_count": 3,
     "metadata": {},
     "output_type": "execute_result"
    }
   ],
   "source": [
    "n.head()"
   ]
  },
  {
   "cell_type": "code",
   "execution_count": 4,
   "metadata": {
    "collapsed": true
   },
   "outputs": [],
   "source": [
    "product_name = []\n",
    "for item in n[\"Product Name\"]:\n",
    "    if (item in product_name):\n",
    "        continue\n",
    "    else:\n",
    "        product_name.append(item)"
   ]
  },
  {
   "cell_type": "code",
   "execution_count": 5,
   "metadata": {
    "collapsed": false
   },
   "outputs": [
    {
     "data": {
      "text/plain": [
       "4410"
      ]
     },
     "execution_count": 5,
     "metadata": {},
     "output_type": "execute_result"
    }
   ],
   "source": [
    "len(product_name)"
   ]
  },
  {
   "cell_type": "code",
   "execution_count": 6,
   "metadata": {
    "collapsed": true
   },
   "outputs": [],
   "source": [
    "n[\"Brand Name\"]\n",
    "brands = []\n",
    "for item in n[\"Brand Name\"]:\n",
    "    if (item in brands):\n",
    "        continue\n",
    "    else:\n",
    "        brands.append(item)"
   ]
  },
  {
   "cell_type": "code",
   "execution_count": 7,
   "metadata": {
    "collapsed": false
   },
   "outputs": [
    {
     "data": {
      "text/plain": [
       "385"
      ]
     },
     "execution_count": 7,
     "metadata": {},
     "output_type": "execute_result"
    }
   ],
   "source": [
    "len(brands)"
   ]
  },
  {
   "cell_type": "code",
   "execution_count": 8,
   "metadata": {
    "collapsed": true
   },
   "outputs": [],
   "source": [
    "from sklearn.utils import shuffle\n",
    "#dropped rows having NaN values\n",
    "n = n.dropna()"
   ]
  },
  {
   "cell_type": "code",
   "execution_count": 9,
   "metadata": {
    "collapsed": false
   },
   "outputs": [
    {
     "data": {
      "text/html": [
       "<div>\n",
       "<table border=\"1\" class=\"dataframe\">\n",
       "  <thead>\n",
       "    <tr style=\"text-align: right;\">\n",
       "      <th></th>\n",
       "      <th>Price</th>\n",
       "      <th>Rating</th>\n",
       "      <th>Review Votes</th>\n",
       "    </tr>\n",
       "  </thead>\n",
       "  <tbody>\n",
       "    <tr>\n",
       "      <th>count</th>\n",
       "      <td>334335.000000</td>\n",
       "      <td>334335.000000</td>\n",
       "      <td>334335.000000</td>\n",
       "    </tr>\n",
       "    <tr>\n",
       "      <th>mean</th>\n",
       "      <td>222.585019</td>\n",
       "      <td>3.824888</td>\n",
       "      <td>1.474515</td>\n",
       "    </tr>\n",
       "    <tr>\n",
       "      <th>std</th>\n",
       "      <td>283.139353</td>\n",
       "      <td>1.541203</td>\n",
       "      <td>9.217348</td>\n",
       "    </tr>\n",
       "    <tr>\n",
       "      <th>min</th>\n",
       "      <td>1.730000</td>\n",
       "      <td>1.000000</td>\n",
       "      <td>0.000000</td>\n",
       "    </tr>\n",
       "    <tr>\n",
       "      <th>25%</th>\n",
       "      <td>75.410000</td>\n",
       "      <td>3.000000</td>\n",
       "      <td>0.000000</td>\n",
       "    </tr>\n",
       "    <tr>\n",
       "      <th>50%</th>\n",
       "      <td>139.000000</td>\n",
       "      <td>5.000000</td>\n",
       "      <td>0.000000</td>\n",
       "    </tr>\n",
       "    <tr>\n",
       "      <th>75%</th>\n",
       "      <td>264.100000</td>\n",
       "      <td>5.000000</td>\n",
       "      <td>1.000000</td>\n",
       "    </tr>\n",
       "    <tr>\n",
       "      <th>max</th>\n",
       "      <td>2598.000000</td>\n",
       "      <td>5.000000</td>\n",
       "      <td>645.000000</td>\n",
       "    </tr>\n",
       "  </tbody>\n",
       "</table>\n",
       "</div>"
      ],
      "text/plain": [
       "               Price         Rating   Review Votes\n",
       "count  334335.000000  334335.000000  334335.000000\n",
       "mean      222.585019       3.824888       1.474515\n",
       "std       283.139353       1.541203       9.217348\n",
       "min         1.730000       1.000000       0.000000\n",
       "25%        75.410000       3.000000       0.000000\n",
       "50%       139.000000       5.000000       0.000000\n",
       "75%       264.100000       5.000000       1.000000\n",
       "max      2598.000000       5.000000     645.000000"
      ]
     },
     "execution_count": 9,
     "metadata": {},
     "output_type": "execute_result"
    }
   ],
   "source": [
    "#description of data\n",
    "n.describe()"
   ]
  },
  {
   "cell_type": "code",
   "execution_count": 10,
   "metadata": {
    "collapsed": false
   },
   "outputs": [
    {
     "data": {
      "text/html": [
       "<div>\n",
       "<table border=\"1\" class=\"dataframe\">\n",
       "  <thead>\n",
       "    <tr>\n",
       "      <th></th>\n",
       "      <th colspan=\"2\" halign=\"left\">sum</th>\n",
       "      <th colspan=\"2\" halign=\"left\">mean</th>\n",
       "    </tr>\n",
       "    <tr>\n",
       "      <th></th>\n",
       "      <th>Rating</th>\n",
       "      <th>Review Votes</th>\n",
       "      <th>Rating</th>\n",
       "      <th>Review Votes</th>\n",
       "    </tr>\n",
       "    <tr>\n",
       "      <th>Brand Name</th>\n",
       "      <th></th>\n",
       "      <th></th>\n",
       "      <th></th>\n",
       "      <th></th>\n",
       "    </tr>\n",
       "  </thead>\n",
       "  <tbody>\n",
       "    <tr>\n",
       "      <th>Samsung</th>\n",
       "      <td>250452</td>\n",
       "      <td>96057</td>\n",
       "      <td>3.973032</td>\n",
       "      <td>1.523795</td>\n",
       "    </tr>\n",
       "    <tr>\n",
       "      <th>BLU</th>\n",
       "      <td>226085</td>\n",
       "      <td>54798</td>\n",
       "      <td>3.821069</td>\n",
       "      <td>0.926143</td>\n",
       "    </tr>\n",
       "    <tr>\n",
       "      <th>Apple</th>\n",
       "      <td>220286</td>\n",
       "      <td>112211</td>\n",
       "      <td>3.926597</td>\n",
       "      <td>2.000160</td>\n",
       "    </tr>\n",
       "    <tr>\n",
       "      <th>LG</th>\n",
       "      <td>83266</td>\n",
       "      <td>22929</td>\n",
       "      <td>3.848493</td>\n",
       "      <td>1.059762</td>\n",
       "    </tr>\n",
       "    <tr>\n",
       "      <th>BlackBerry</th>\n",
       "      <td>61892</td>\n",
       "      <td>21114</td>\n",
       "      <td>3.750121</td>\n",
       "      <td>1.279326</td>\n",
       "    </tr>\n",
       "    <tr>\n",
       "      <th>Nokia</th>\n",
       "      <td>61833</td>\n",
       "      <td>25684</td>\n",
       "      <td>3.824879</td>\n",
       "      <td>1.588767</td>\n",
       "    </tr>\n",
       "    <tr>\n",
       "      <th>Motorola</th>\n",
       "      <td>49564</td>\n",
       "      <td>23107</td>\n",
       "      <td>3.811736</td>\n",
       "      <td>1.777051</td>\n",
       "    </tr>\n",
       "    <tr>\n",
       "      <th>HTC</th>\n",
       "      <td>42873</td>\n",
       "      <td>12777</td>\n",
       "      <td>3.474030</td>\n",
       "      <td>1.035329</td>\n",
       "    </tr>\n",
       "    <tr>\n",
       "      <th>CNPGD</th>\n",
       "      <td>38233</td>\n",
       "      <td>20151</td>\n",
       "      <td>3.107869</td>\n",
       "      <td>1.638026</td>\n",
       "    </tr>\n",
       "    <tr>\n",
       "      <th>OtterBox</th>\n",
       "      <td>34556</td>\n",
       "      <td>2268</td>\n",
       "      <td>4.385279</td>\n",
       "      <td>0.287817</td>\n",
       "    </tr>\n",
       "  </tbody>\n",
       "</table>\n",
       "</div>"
      ],
      "text/plain": [
       "               sum                   mean             \n",
       "            Rating Review Votes    Rating Review Votes\n",
       "Brand Name                                            \n",
       "Samsung     250452        96057  3.973032     1.523795\n",
       "BLU         226085        54798  3.821069     0.926143\n",
       "Apple       220286       112211  3.926597     2.000160\n",
       "LG           83266        22929  3.848493     1.059762\n",
       "BlackBerry   61892        21114  3.750121     1.279326\n",
       "Nokia        61833        25684  3.824879     1.588767\n",
       "Motorola     49564        23107  3.811736     1.777051\n",
       "HTC          42873        12777  3.474030     1.035329\n",
       "CNPGD        38233        20151  3.107869     1.638026\n",
       "OtterBox     34556         2268  4.385279     0.287817"
      ]
     },
     "execution_count": 10,
     "metadata": {},
     "output_type": "execute_result"
    }
   ],
   "source": [
    "info = pd.pivot_table(n,index=['Brand Name'],values=['Rating', 'Review Votes'],\n",
    "               columns=[],aggfunc=[np.sum, np.mean],fill_value=0)\n",
    "info = info.sort_values(by=('sum', 'Rating'), ascending = False)\n",
    "\n",
    "info.head(10)"
   ]
  },
  {
   "cell_type": "code",
   "execution_count": 11,
   "metadata": {
    "collapsed": false
   },
   "outputs": [
    {
     "data": {
      "image/png": "[encoded data removed]",
      "text/plain": [
       "<matplotlib.figure.Figure at 0x25701bfd240>"
      ]
     },
     "metadata": {},
     "output_type": "display_data"
    }
   ],
   "source": [
    "import matplotlib.pyplot as plt\n",
    "ylabel = n[\"Price\"]\n",
    "plt.ylabel(\"Price\")\n",
    "plt.xlabel(\"Rating\")\n",
    "xlabel = n[\"Rating\"]\n",
    "plt.scatter(xlabel, ylabel,color='red',alpha=0.1)\n",
    "plt.show()"
   ]
  },
  {
   "cell_type": "code",
   "execution_count": 12,
   "metadata": {
    "collapsed": false
   },
   "outputs": [
    {
     "data": {
      "text/plain": [
       "0    I feel so LUCKY to have found this used (phone...\n",
       "1    nice phone, nice up grade from my pantach revu...\n",
       "2                                         Very pleased\n",
       "3    It works good but it goes slow sometimes but i...\n",
       "4    Great phone to replace my lost phone. The only...\n",
       "Name: Reviews, dtype: object"
      ]
     },
     "execution_count": 12,
     "metadata": {},
     "output_type": "execute_result"
    }
   ],
   "source": [
    "reviews = n[\"Reviews\"]\n",
    "reviews.head()"
   ]
  },
  {
   "cell_type": "code",
   "execution_count": 13,
   "metadata": {
    "collapsed": true
   },
   "outputs": [],
   "source": [
    "reviews=n['Reviews']\n",
    "sent_values=[]\n",
    "sentiments=[]"
   ]
  },
  {
   "cell_type": "code",
   "execution_count": 14,
   "metadata": {
    "collapsed": true
   },
   "outputs": [],
   "source": [
    "import re\n",
    "from nltk.corpus import stopwords \n",
    "from nltk.stem import WordNetLemmatizer \n",
    "lemmatizer = WordNetLemmatizer();"
   ]
  },
  {
   "cell_type": "code",
   "execution_count": 15,
   "metadata": {
    "collapsed": true
   },
   "outputs": [],
   "source": [
    "def removeNER(Reviews):\n",
    "    preprocess_list = list()\n",
    "    words = Reviews.lower().split()\n",
    "    for w in words:\n",
    "        preprocess_list.append( stemmer.stem(w) )\n",
    "    return preprocess_list"
   ]
  },
  {
   "cell_type": "code",
   "execution_count": 16,
   "metadata": {
    "collapsed": true
   },
   "outputs": [],
   "source": [
    "def preprocess_Reviews(Reviews):\n",
    "    preprocess_list = list()\n",
    "    for text in Reviews:\n",
    "        letters_only = re.sub(\"[^a-zA-Z]\", \" \", text) \n",
    "        letters_only = re.sub(\"XX\",\"\",letters_only)\n",
    "        words = letters_only.lower().split()                             \n",
    "        stops = set(stopwords.words(\"english\"))                  \n",
    "        meaningful_words = [w for w in words if not w in stops]\n",
    "        preprocess_list.append(\" \".join( meaningful_words ))\n",
    "    return preprocess_list "
   ]
  },
  {
   "cell_type": "code",
   "execution_count": null,
   "metadata": {
    "collapsed": false
   },
   "outputs": [],
   "source": [
    "n['newReviews'] = preprocess_Reviews(n.Reviews)\n",
    "n['newReviews'] = n['newReviews']"
   ]
  },
  {
   "cell_type": "code",
   "execution_count": 144,
   "metadata": {
    "collapsed": false
   },
   "outputs": [],
   "source": [
    "def remove_stopwords(reviews, n):\n",
    "    stops = set(stopwords.words(\"english\"))\n",
    "    #review_text = re.sub(\"[^a-zA-Z]\",\" \", review[n])\n",
    "    words = reviews[n].lower().split()\n",
    "    words = [''.join(c for c in s if c not in string.punctuation) for s in words]\n",
    "    words = [s for s in words if s]\n",
    "    reviews[n] = words"
   ]
  },
  {
   "cell_type": "code",
   "execution_count": 145,
   "metadata": {
    "collapsed": true
   },
   "outputs": [],
   "source": [
    "def preprocess_reviews(reviews):\n",
    "    preprocess_list = list()\n",
    "    for text in reviews:\n",
    "        letters_only = re.sub(\"[^a-zA-Z]\", \" \", text) \n",
    "        letters_only = re.sub(\"XX\",\"\",letters_only)\n",
    "        words = letters_only.lower().split()                             \n",
    "        stops = set(stopwords.words(\"english\"))                  \n",
    "        meaningful_words = [w for w in words if not w in stops]\n",
    "        preprocess_list.append(\" \".join( meaningful_words ))\n",
    "    return preprocess_list "
   ]
  },
  {
   "cell_type": "code",
   "execution_count": null,
   "metadata": {
    "collapsed": true
   },
   "outputs": [],
   "source": [
    "from nltk.corpus import stopwords\n",
    "def removeStopwords(wordlist, stopwords):\n",
    "    return [w for w in wordlist if w not in stopwords]"
   ]
  },
  {
   "cell_type": "code",
   "execution_count": 147,
   "metadata": {
    "collapsed": false
   },
   "outputs": [
    {
     "data": {
      "text/plain": [
       "0    I feel so LUCKY to have found this used (phone...\n",
       "Name: Reviews, dtype: object"
      ]
     },
     "execution_count": 147,
     "metadata": {},
     "output_type": "execute_result"
    }
   ],
   "source": [
    "reviews.head(1)"
   ]
  },
  {
   "cell_type": "code",
   "execution_count": 135,
   "metadata": {
    "collapsed": false
   },
   "outputs": [],
   "source": [
    "from nltk.sentiment.vader import SentimentIntensityAnalyzer\n",
    "def sentiment_value(paragraph):\n",
    "    analyser = SentimentIntensityAnalyzer()\n",
    "    result = analyser.polarity_scores(paragraph)\n",
    "    score = result['compound']\n",
    "    return round(score,1)"
   ]
  },
  {
   "cell_type": "code",
   "execution_count": 99,
   "metadata": {
    "collapsed": false
   },
   "outputs": [
    {
     "name": "stdout",
     "output_type": "stream",
     "text": [
      "Good phone for the price.The speaker for listening to music audibly a little weak, otherwise no complaints.\n",
      "Sentiment: \n",
      "-0.5\n"
     ]
    }
   ],
   "source": [
    "sample1 = n['Reviews'][99314]\n",
    "print(sample1)\n",
    "print('Sentiment: ')\n",
    "print(sentiment_value(sample1))"
   ]
  },
  {
   "cell_type": "code",
   "execution_count": 100,
   "metadata": {
    "collapsed": false
   },
   "outputs": [
    {
     "name": "stdout",
     "output_type": "stream",
     "text": [
      "I took this phone to two different Verizon stores, and they were unable to activate it. I am very grateful for Amazon's return policy, when I took action to return it a shipping label (i.e., free return shipping) was provided to me and once the phone was returned, I received a refund for the cost of the phone as well as the shipping costs.Because I was still phone-less when this phone would not activate, I went to a phone repair shop and picked up a similar phone for a similar price. If you have lost or broken your phone and need a replacement, I recommend you check out the local phone repair shops first - they may have a temporary solution until you are eligible for an upgrade.\n",
      "Sentiment: \n",
      "0.8\n"
     ]
    }
   ],
   "source": [
    "sample2 = n['Reviews'][9001]\n",
    "print(sample2)\n",
    "print('Sentiment: ')\n",
    "print(sentiment_value(sample2))"
   ]
  },
  {
   "cell_type": "code",
   "execution_count": 91,
   "metadata": {
    "collapsed": true
   },
   "outputs": [],
   "source": [
    "for i in range(0,20000):\n",
    "    sent_values.append(sentiment_value(reviews[i]))"
   ]
  },
  {
   "cell_type": "code",
   "execution_count": 92,
   "metadata": {
    "collapsed": true
   },
   "outputs": [],
   "source": [
    "#Sentiment Analysis on first 20,000 rows\n",
    "temp_n = n[0:20000]"
   ]
  },
  {
   "cell_type": "code",
   "execution_count": 93,
   "metadata": {
    "collapsed": false
   },
   "outputs": [
    {
     "data": {
      "text/plain": [
       "(20000, 6)"
      ]
     },
     "execution_count": 93,
     "metadata": {},
     "output_type": "execute_result"
    }
   ],
   "source": [
    "temp_n.shape"
   ]
  },
  {
   "cell_type": "code",
   "execution_count": null,
   "metadata": {
    "collapsed": true
   },
   "outputs": [],
   "source": [
    "#Intervals\n",
    "[ -1, -0.5] : 1, V.Negative\n",
    "[-0.5, 0] : 2, Negative\n",
    "[0] : 3, Neutral\n",
    "[0, 0.5] : 4, Positive\n",
    "[0.5, 1] : 5, V.Positive"
   ]
  },
  {
   "cell_type": "code",
   "execution_count": 95,
   "metadata": {
    "collapsed": false
   },
   "outputs": [],
   "source": [
    "Sentiment_Value = []\n",
    "Sentiment = []\n",
    "for i in range(0,20000):\n",
    "    sent = sent_values[i]\n",
    "    if (sent<=1 and sent>=0.5):\n",
    "        Sentiment.append('V.Positive')\n",
    "        Sentiment_Value.append(5)\n",
    "    elif (sent<0.5 and sent>0):\n",
    "        Sentiment.append('Positive')\n",
    "        Sentiment_Value.append(4)\n",
    "    elif (sent==0):\n",
    "        Sentiment.append('Neutral')\n",
    "        Sentiment_Value.append(3)\n",
    "    elif (sent<0 and sent>=-0.5):\n",
    "        Sentiment.append('Negative')\n",
    "        Sentiment_Value.append(2)\n",
    "    else:\n",
    "        Sentiment.append('V.Negative')\n",
    "        Sentiment_Value.append(1)\n",
    "        "
   ]
  },
  {
   "cell_type": "code",
   "execution_count": 106,
   "metadata": {
    "collapsed": false
   },
   "outputs": [
    {
     "name": "stderr",
     "output_type": "stream",
     "text": [
      "C:\\ProgramData\\Anaconda3\\lib\\site-packages\\ipykernel\\__main__.py:1: SettingWithCopyWarning: \n",
      "A value is trying to be set on a copy of a slice from a DataFrame.\n",
      "Try using .loc[row_indexer,col_indexer] = value instead\n",
      "\n",
      "See the caveats in the documentation: http://pandas.pydata.org/pandas-docs/stable/indexing.html#indexing-view-versus-copy\n",
      "  if __name__ == '__main__':\n",
      "C:\\ProgramData\\Anaconda3\\lib\\site-packages\\ipykernel\\__main__.py:2: SettingWithCopyWarning: \n",
      "A value is trying to be set on a copy of a slice from a DataFrame.\n",
      "Try using .loc[row_indexer,col_indexer] = value instead\n",
      "\n",
      "See the caveats in the documentation: http://pandas.pydata.org/pandas-docs/stable/indexing.html#indexing-view-versus-copy\n",
      "  from ipykernel import kernelapp as app\n"
     ]
    }
   ],
   "source": [
    "temp_n['Sentiment_Value'] = Sentiment_Value\n",
    "temp_n['Sentiment'] = Sentiment"
   ]
  },
  {
   "cell_type": "code",
   "execution_count": 108,
   "metadata": {
    "collapsed": false
   },
   "outputs": [
    {
     "data": {
      "text/html": [
       "<div>\n",
       "<table border=\"1\" class=\"dataframe\">\n",
       "  <thead>\n",
       "    <tr style=\"text-align: right;\">\n",
       "      <th></th>\n",
       "      <th>Product Name</th>\n",
       "      <th>Brand Name</th>\n",
       "      <th>Price</th>\n",
       "      <th>Rating</th>\n",
       "      <th>Reviews</th>\n",
       "      <th>Review Votes</th>\n",
       "      <th>Sentiment_Value</th>\n",
       "      <th>Sentiment</th>\n",
       "    </tr>\n",
       "  </thead>\n",
       "  <tbody>\n",
       "    <tr>\n",
       "      <th>0</th>\n",
       "      <td>\"CLEAR CLEAN ESN\" Sprint EPIC 4G Galaxy SPH-D7...</td>\n",
       "      <td>Samsung</td>\n",
       "      <td>199.99</td>\n",
       "      <td>5</td>\n",
       "      <td>I feel so LUCKY to have found this used (phone...</td>\n",
       "      <td>1.0</td>\n",
       "      <td>5</td>\n",
       "      <td>V.Positive</td>\n",
       "    </tr>\n",
       "    <tr>\n",
       "      <th>1</th>\n",
       "      <td>\"CLEAR CLEAN ESN\" Sprint EPIC 4G Galaxy SPH-D7...</td>\n",
       "      <td>Samsung</td>\n",
       "      <td>199.99</td>\n",
       "      <td>4</td>\n",
       "      <td>nice phone, nice up grade from my pantach revu...</td>\n",
       "      <td>0.0</td>\n",
       "      <td>5</td>\n",
       "      <td>V.Positive</td>\n",
       "    </tr>\n",
       "    <tr>\n",
       "      <th>2</th>\n",
       "      <td>\"CLEAR CLEAN ESN\" Sprint EPIC 4G Galaxy SPH-D7...</td>\n",
       "      <td>Samsung</td>\n",
       "      <td>199.99</td>\n",
       "      <td>5</td>\n",
       "      <td>Very pleased</td>\n",
       "      <td>0.0</td>\n",
       "      <td>5</td>\n",
       "      <td>V.Positive</td>\n",
       "    </tr>\n",
       "    <tr>\n",
       "      <th>3</th>\n",
       "      <td>\"CLEAR CLEAN ESN\" Sprint EPIC 4G Galaxy SPH-D7...</td>\n",
       "      <td>Samsung</td>\n",
       "      <td>199.99</td>\n",
       "      <td>4</td>\n",
       "      <td>It works good but it goes slow sometimes but i...</td>\n",
       "      <td>0.0</td>\n",
       "      <td>5</td>\n",
       "      <td>V.Positive</td>\n",
       "    </tr>\n",
       "    <tr>\n",
       "      <th>4</th>\n",
       "      <td>\"CLEAR CLEAN ESN\" Sprint EPIC 4G Galaxy SPH-D7...</td>\n",
       "      <td>Samsung</td>\n",
       "      <td>199.99</td>\n",
       "      <td>4</td>\n",
       "      <td>Great phone to replace my lost phone. The only...</td>\n",
       "      <td>0.0</td>\n",
       "      <td>4</td>\n",
       "      <td>Positive</td>\n",
       "    </tr>\n",
       "    <tr>\n",
       "      <th>5</th>\n",
       "      <td>\"CLEAR CLEAN ESN\" Sprint EPIC 4G Galaxy SPH-D7...</td>\n",
       "      <td>Samsung</td>\n",
       "      <td>199.99</td>\n",
       "      <td>1</td>\n",
       "      <td>I already had a phone with problems... I know ...</td>\n",
       "      <td>1.0</td>\n",
       "      <td>1</td>\n",
       "      <td>V.Negative</td>\n",
       "    </tr>\n",
       "    <tr>\n",
       "      <th>6</th>\n",
       "      <td>\"CLEAR CLEAN ESN\" Sprint EPIC 4G Galaxy SPH-D7...</td>\n",
       "      <td>Samsung</td>\n",
       "      <td>199.99</td>\n",
       "      <td>2</td>\n",
       "      <td>The charging port was loose. I got that solder...</td>\n",
       "      <td>0.0</td>\n",
       "      <td>2</td>\n",
       "      <td>Negative</td>\n",
       "    </tr>\n",
       "    <tr>\n",
       "      <th>7</th>\n",
       "      <td>\"CLEAR CLEAN ESN\" Sprint EPIC 4G Galaxy SPH-D7...</td>\n",
       "      <td>Samsung</td>\n",
       "      <td>199.99</td>\n",
       "      <td>2</td>\n",
       "      <td>Phone looks good but wouldn't stay charged, ha...</td>\n",
       "      <td>0.0</td>\n",
       "      <td>4</td>\n",
       "      <td>Positive</td>\n",
       "    </tr>\n",
       "    <tr>\n",
       "      <th>8</th>\n",
       "      <td>\"CLEAR CLEAN ESN\" Sprint EPIC 4G Galaxy SPH-D7...</td>\n",
       "      <td>Samsung</td>\n",
       "      <td>199.99</td>\n",
       "      <td>5</td>\n",
       "      <td>I originally was using the Samsung S2 Galaxy f...</td>\n",
       "      <td>0.0</td>\n",
       "      <td>5</td>\n",
       "      <td>V.Positive</td>\n",
       "    </tr>\n",
       "    <tr>\n",
       "      <th>9</th>\n",
       "      <td>\"CLEAR CLEAN ESN\" Sprint EPIC 4G Galaxy SPH-D7...</td>\n",
       "      <td>Samsung</td>\n",
       "      <td>199.99</td>\n",
       "      <td>3</td>\n",
       "      <td>It's battery life is great. It's very responsi...</td>\n",
       "      <td>0.0</td>\n",
       "      <td>5</td>\n",
       "      <td>V.Positive</td>\n",
       "    </tr>\n",
       "  </tbody>\n",
       "</table>\n",
       "</div>"
      ],
      "text/plain": [
       "                                        Product Name Brand Name   Price  \\\n",
       "0  \"CLEAR CLEAN ESN\" Sprint EPIC 4G Galaxy SPH-D7...    Samsung  199.99   \n",
       "1  \"CLEAR CLEAN ESN\" Sprint EPIC 4G Galaxy SPH-D7...    Samsung  199.99   \n",
       "2  \"CLEAR CLEAN ESN\" Sprint EPIC 4G Galaxy SPH-D7...    Samsung  199.99   \n",
       "3  \"CLEAR CLEAN ESN\" Sprint EPIC 4G Galaxy SPH-D7...    Samsung  199.99   \n",
       "4  \"CLEAR CLEAN ESN\" Sprint EPIC 4G Galaxy SPH-D7...    Samsung  199.99   \n",
       "5  \"CLEAR CLEAN ESN\" Sprint EPIC 4G Galaxy SPH-D7...    Samsung  199.99   \n",
       "6  \"CLEAR CLEAN ESN\" Sprint EPIC 4G Galaxy SPH-D7...    Samsung  199.99   \n",
       "7  \"CLEAR CLEAN ESN\" Sprint EPIC 4G Galaxy SPH-D7...    Samsung  199.99   \n",
       "8  \"CLEAR CLEAN ESN\" Sprint EPIC 4G Galaxy SPH-D7...    Samsung  199.99   \n",
       "9  \"CLEAR CLEAN ESN\" Sprint EPIC 4G Galaxy SPH-D7...    Samsung  199.99   \n",
       "\n",
       "   Rating                                            Reviews  Review Votes  \\\n",
       "0       5  I feel so LUCKY to have found this used (phone...           1.0   \n",
       "1       4  nice phone, nice up grade from my pantach revu...           0.0   \n",
       "2       5                                       Very pleased           0.0   \n",
       "3       4  It works good but it goes slow sometimes but i...           0.0   \n",
       "4       4  Great phone to replace my lost phone. The only...           0.0   \n",
       "5       1  I already had a phone with problems... I know ...           1.0   \n",
       "6       2  The charging port was loose. I got that solder...           0.0   \n",
       "7       2  Phone looks good but wouldn't stay charged, ha...           0.0   \n",
       "8       5  I originally was using the Samsung S2 Galaxy f...           0.0   \n",
       "9       3  It's battery life is great. It's very responsi...           0.0   \n",
       "\n",
       "   Sentiment_Value   Sentiment  \n",
       "0                5  V.Positive  \n",
       "1                5  V.Positive  \n",
       "2                5  V.Positive  \n",
       "3                5  V.Positive  \n",
       "4                4    Positive  \n",
       "5                1  V.Negative  \n",
       "6                2    Negative  \n",
       "7                4    Positive  \n",
       "8                5  V.Positive  \n",
       "9                5  V.Positive  "
      ]
     },
     "execution_count": 108,
     "metadata": {},
     "output_type": "execute_result"
    }
   ],
   "source": [
    "temp_n.head(10)"
   ]
  },
  {
   "cell_type": "code",
   "execution_count": null,
   "metadata": {
    "collapsed": true
   },
   "outputs": [],
   "source": []
  }
 ],
 "metadata": {
  "kernelspec": {
   "display_name": "Python 3",
   "language": "python",
   "name": "python3"
  },
  "language_info": {
   "codemirror_mode": {
    "name": "ipython",
    "version": 3
   },
   "file_extension": ".py",
   "mimetype": "text/x-python",
   "name": "python",
   "nbconvert_exporter": "python",
   "pygments_lexer": "ipython3",
   "version": "3.6.0"
  }
 },
 "nbformat": 4,
 "nbformat_minor": 2
}
