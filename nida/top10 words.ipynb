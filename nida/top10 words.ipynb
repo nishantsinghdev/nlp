{
 "cells": [
  {
   "cell_type": "code",
   "execution_count": 4,
   "metadata": {
    "collapsed": false
   },
   "outputs": [],
   "source": [
    "import pandas as pd\n",
    "import numpy as np\n",
    "from io import StringIO\n",
    "import nltk\n",
    "import collections as co\n",
    "import re"
   ]
  },
  {
   "cell_type": "code",
   "execution_count": 5,
   "metadata": {
    "collapsed": false
   },
   "outputs": [],
   "source": [
    "d = pd.read_csv(\"mortgage.csv\",names=[\"complaintdate\",\"product\",\"subproduct\" ,\"issue\",\"subissue\",\"consumer_narrative\",\"company_public_response\",\"company\",\"state\" ,\"zip\",\"tags\",\"companyconsent\",\"via\",\"send_to_company_date\",\"company_response_consumer\",\"timely\",\"consumer_disputed\",\"id\"],skiprows=1) \n",
    "d=d[d['consumer_narrative'].notnull()]"
   ]
  },
  {
   "cell_type": "code",
   "execution_count": 6,
   "metadata": {
    "collapsed": false
   },
   "outputs": [],
   "source": [
    "s=StringIO()\n",
    "d['consumer_narrative'].apply(lambda x: s.write(x))\n",
    "k=s.getvalue()\n",
    "s.close()\n",
    "k=k.lower()\n",
    "k=k.split()"
   ]
  },
  {
   "cell_type": "code",
   "execution_count": 7,
   "metadata": {
    "collapsed": true
   },
   "outputs": [],
   "source": [
    "words = co.Counter(nltk.corpus.words.words())\n",
    "stopWords =co.Counter( nltk.corpus.stopwords.words() )\n",
    "k=[i for i in k if i in words and i not in stopWords]\n",
    "s=\" \".join(k)\n",
    "c = co.Counter(k)"
   ]
  },
  {
   "cell_type": "code",
   "execution_count": 8,
   "metadata": {
    "collapsed": false
   },
   "outputs": [
    {
     "data": {
      "text/plain": [
       "[('loan', 69159),\n",
       " ('mortgage', 68628),\n",
       " ('payment', 44052),\n",
       " ('would', 43312),\n",
       " ('told', 30370),\n",
       " ('home', 29969),\n",
       " ('bank', 29837),\n",
       " ('received', 27550),\n",
       " ('get', 22569),\n",
       " ('modification', 22276)]"
      ]
     },
     "execution_count": 8,
     "metadata": {},
     "output_type": "execute_result"
    }
   ],
   "source": [
    "c.most_common(10)"
   ]
  },
  {
   "cell_type": "code",
   "execution_count": 21,
   "metadata": {
    "collapsed": false
   },
   "outputs": [],
   "source": [
    "from nltk.tokenize import RegexpTokenizer \n",
    "tokenizer = RegexpTokenizer(r'\\w+') \n",
    "d[\"tokens\"] = d[\"consumer_narrative\"].apply(tokenizer.tokenize)"
   ]
  },
  {
   "cell_type": "code",
   "execution_count": 22,
   "metadata": {
    "collapsed": true
   },
   "outputs": [],
   "source": [
    "import nltk\n",
    "from nltk.corpus import stopwords \n",
    "from nltk.stem.porter import PorterStemmer \n",
    "stemmer = PorterStemmer() \n",
    "from nltk.stem import WordNetLemmatizer \n",
    "lemmatizer = WordNetLemmatizer();"
   ]
  },
  {
   "cell_type": "code",
   "execution_count": 14,
   "metadata": {
    "collapsed": false
   },
   "outputs": [],
   "source": [
    "mortgage_dict=['refinance','borrower','mortgage','lender','reporting','refinanced','financed','finance']"
   ]
  },
  {
   "cell_type": "code",
   "execution_count": 15,
   "metadata": {
    "collapsed": false
   },
   "outputs": [],
   "source": [
    "def stemandlemma(consumer_narrative):\n",
    "    preprocess_list = list()\n",
    "    words = consumer_narrative.lower().split()\n",
    "    for w in words:\n",
    "        if(w not in mortgage_dict):\n",
    "            preprocess_list.append( lemmatizer.lemmatize(w) )\n",
    "        else:\n",
    "            preprocess_list.append(w)\n",
    "    return \" \".join(preprocess_list)"
   ]
  },
  {
   "cell_type": "code",
   "execution_count": 16,
   "metadata": {
    "collapsed": true
   },
   "outputs": [],
   "source": [
    "def removeNER(consumer_narrative):\n",
    "    preprocess_list = list()\n",
    "    words = consumer_narrative.lower().split()\n",
    "    for w in words:\n",
    "        preprocess_list.append( stemmer.stem(w) )\n",
    "    return preprocess_list"
   ]
  },
  {
   "cell_type": "code",
   "execution_count": 17,
   "metadata": {
    "collapsed": true
   },
   "outputs": [],
   "source": [
    "def preprocess_consumer_narrative( consumer_narrative):\n",
    "    preprocess_list = list()\n",
    "    for text in consumer_narrative:\n",
    "        letters_only = re.sub(\"[^a-zA-Z]\", \" \", text) \n",
    "        letters_only = re.sub(\"XX\",\"\",letters_only)\n",
    "        words = letters_only.lower().split()                             \n",
    "        stops = set(stopwords.words(\"english\"))                  \n",
    "        meaningful_words = [w for w in words if not w in stops]\n",
    "        preprocess_list.append(\" \".join( meaningful_words ))\n",
    "    return preprocess_list "
   ]
  },
  {
   "cell_type": "code",
   "execution_count": 18,
   "metadata": {
    "collapsed": true
   },
   "outputs": [],
   "source": [
    "def count_words(consumer_narrative):\n",
    "    words = {}\n",
    "    for w in consumer_narrative.split():\n",
    "        words[w] =words.get(w,0) +1\n",
    "        for w,c in words.consumer_narrative():\n",
    "            print(\"%s: %d times\" % (w,c))"
   ]
  },
  {
   "cell_type": "code",
   "execution_count": 19,
   "metadata": {
    "collapsed": true
   },
   "outputs": [],
   "source": [
    "d['consumer_newnarrative'] = preprocess_consumer_narrative( d.consumer_narrative)\n",
    "d['consumer_newnarrative'] = d['consumer_newnarrative'].map(stemandlemma)"
   ]
  },
  {
   "cell_type": "code",
   "execution_count": 23,
   "metadata": {
    "collapsed": false,
    "scrolled": true
   },
   "outputs": [
    {
     "data": {
      "text/plain": [
       "'ex husband applied refinance heloc beneficial loan granted ex husband passed away time contacted lawyer determine option husband removed title property mortgage lawyer took care husband removed title recently attempted apply refinance remove mortgage take cash learned attempt refinance unable refinance property due deed found indicating interest property deed filed county illinois recorder original purchase home ex husband one listed deed beneficial file mortgage property outraged point took loan home yet never deeded name one rightful owner denied ability refinance time show rightful owner property prior child quit claimed father interest sick company way company misleads customer technically forced remain company secure financing another reputable company wait anywhere month refinance property owned year paying year considered inheritance since quit claimed'"
      ]
     },
     "execution_count": 23,
     "metadata": {},
     "output_type": "execute_result"
    }
   ],
   "source": [
    "d.iloc[1].consumer_newnarrative"
   ]
  },
  {
   "cell_type": "code",
   "execution_count": 25,
   "metadata": {
    "collapsed": false
   },
   "outputs": [
    {
     "ename": "NameError",
     "evalue": "name 'cf' is not defined",
     "output_type": "error",
     "traceback": [
      "\u001b[0;31m---------------------------------------------------------------------------\u001b[0m",
      "\u001b[0;31mNameError\u001b[0m                                 Traceback (most recent call last)",
      "\u001b[0;32m<ipython-input-25-77447ea69790>\u001b[0m in \u001b[0;36m<module>\u001b[0;34m()\u001b[0m\n\u001b[1;32m      1\u001b[0m \u001b[0ms\u001b[0m\u001b[1;33m=\u001b[0m\u001b[0mStringIO\u001b[0m\u001b[1;33m(\u001b[0m\u001b[1;33m)\u001b[0m\u001b[1;33m\u001b[0m\u001b[0m\n\u001b[0;32m----> 2\u001b[0;31m \u001b[0mcf\u001b[0m\u001b[1;33m[\u001b[0m\u001b[1;34m'consumer_newnarrative'\u001b[0m\u001b[1;33m]\u001b[0m\u001b[1;33m.\u001b[0m\u001b[0mapply\u001b[0m\u001b[1;33m(\u001b[0m\u001b[1;32mlambda\u001b[0m \u001b[0mx\u001b[0m\u001b[1;33m:\u001b[0m \u001b[0ms\u001b[0m\u001b[1;33m.\u001b[0m\u001b[0mwrite\u001b[0m\u001b[1;33m(\u001b[0m\u001b[0mx\u001b[0m\u001b[1;33m)\u001b[0m\u001b[1;33m)\u001b[0m\u001b[1;33m\u001b[0m\u001b[0m\n\u001b[0m\u001b[1;32m      3\u001b[0m \u001b[0mk\u001b[0m\u001b[1;33m=\u001b[0m\u001b[0ms\u001b[0m\u001b[1;33m.\u001b[0m\u001b[0mgetvalue\u001b[0m\u001b[1;33m(\u001b[0m\u001b[1;33m)\u001b[0m\u001b[1;33m\u001b[0m\u001b[0m\n\u001b[1;32m      4\u001b[0m \u001b[0ms\u001b[0m\u001b[1;33m.\u001b[0m\u001b[0mclose\u001b[0m\u001b[1;33m(\u001b[0m\u001b[1;33m)\u001b[0m\u001b[1;33m\u001b[0m\u001b[0m\n\u001b[1;32m      5\u001b[0m \u001b[0mk\u001b[0m\u001b[1;33m=\u001b[0m\u001b[0mk\u001b[0m\u001b[1;33m.\u001b[0m\u001b[0mlower\u001b[0m\u001b[1;33m(\u001b[0m\u001b[1;33m)\u001b[0m\u001b[1;33m\u001b[0m\u001b[0m\n",
      "\u001b[0;31mNameError\u001b[0m: name 'cf' is not defined"
     ]
    }
   ],
   "source": [
    "s=StringIO()\n",
    "cf['consumer_newnarrative'].apply(lambda x: s.write(x))\n",
    "k=s.getvalue()\n",
    "s.close()\n",
    "k=k.lower()\n",
    "k=k.split()"
   ]
  },
  {
   "cell_type": "code",
   "execution_count": 32,
   "metadata": {
    "collapsed": true
   },
   "outputs": [],
   "source": [
    "words = co.Counter(nltk.corpus.words.words())\n",
    "stopWords =co.Counter( nltk.corpus.stopwords.words() )\n",
    "k=[i for i in k if i in words and i not in stopWords]\n",
    "s=\" \".join(k)\n",
    "c = co.Counter(k)"
   ]
  },
  {
   "cell_type": "code",
   "execution_count": null,
   "metadata": {
    "collapsed": true
   },
   "outputs": [],
   "source": []
  }
 ],
 "metadata": {
  "kernelspec": {
   "display_name": "Python 3",
   "language": "python",
   "name": "python3"
  },
  "language_info": {
   "codemirror_mode": {
    "name": "ipython",
    "version": 3
   },
   "file_extension": ".py",
   "mimetype": "text/x-python",
   "name": "python",
   "nbconvert_exporter": "python",
   "pygments_lexer": "ipython3",
   "version": "3.6.0"
  }
 },
 "nbformat": 4,
 "nbformat_minor": 2
}
