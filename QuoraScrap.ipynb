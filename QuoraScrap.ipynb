{
 "cells": [
  {
   "cell_type": "code",
   "execution_count": 18,
   "metadata": {
    "collapsed": false
   },
   "outputs": [],
   "source": [
    "from bs4 import BeautifulSoup as B\n",
    "from urllib.request import Request, urlopen\n",
    "req = Request('https://www.quora.com/search?q=US+Mortgage', headers={'User-Agent': 'Mozilla/5.0 (Windows NT 10.0; Win64; x64) AppleWebKit/537.36 (KHTML, like Gecko) Chrome/64.0.3282.167 Safari/537.36'})\n",
    "page = urlopen(req).read()\n",
    "soup = B(page, 'html.parser')\n",
    "#print(soup)\n",
    "res = soup.find_all('a', class_=\"question_link\")\n",
    "for i in res:\n",
    "    #print(i.string)\n",
    "    print(i.attrs.get)  #To get only the text\n",
    "\n",
    "#questions = soup.find(class_='Question')"
   ]
  },
  {
   "cell_type": "code",
   "execution_count": 19,
   "metadata": {
    "collapsed": false
   },
   "outputs": [
    {
     "name": "stdout",
     "output_type": "stream",
     "text": [
      "['/Why-do-many-middle-and-lower-middle-class-people-in-the-US-mortgage-a-house-then-put-it-up-for-rent-as-an-investment-but-most-wealthy-people-do-not', '/How-does-the-US-mortgage-interest-tax-deduction-work', '/Why-are-US-mortgage-rates-going-up-after-the-election', '/What-is-the-size-of-the-us-mortgage-market', '/unanswered/What-will-happen-to-US-mortgage-rates-after-the-2012-State-of-the-Union-address', '/How-many-mortgage-pools-are-there-in-the-US-mortgage-market-by-agencies', '/unanswered/What-is-the-latest-technology-in-US-Mortgage-industry', '/unanswered/How-much-does-a-US-Mortgage-Underwriter-earn-In-Mumbai', '/Does-the-US-mortgage-interest-deduction-make-economic-sense', '/unanswered/How-will-the-Massachussetts-ruling-on-the-validity-of-mortgage-transfers-in-securitizations-affect-the-US-mortgage-securitization-industry']\n"
     ]
    }
   ],
   "source": [
    "print(questionList)"
   ]
  },
  {
   "cell_type": "code",
   "execution_count": 39,
   "metadata": {
    "collapsed": false
   },
   "outputs": [
    {
     "name": "stdout",
     "output_type": "stream",
     "text": [
      "Why do many middle and lower middle class people in the US mortgage a house then put it up for rent (as an investment) but most wealthy people do not?\n",
      "https://www.quora.com/Why-do-many-middle-and-lower-middle-class-people-in-the-US-mortgage-a-house-then-put-it-up-for-rent-as-an-investment-but-most-wealthy-people-do-not\n",
      "How does the US mortgage interest tax deduction work?\n",
      "https://www.quora.com/How-does-the-US-mortgage-interest-tax-deduction-work\n",
      "Why are US mortgage rates going up after the election?\n",
      "https://www.quora.com/Why-are-US-mortgage-rates-going-up-after-the-election\n",
      "What is the size of the us mortgage market?\n",
      "https://www.quora.com/What-is-the-size-of-the-us-mortgage-market\n",
      "What will happen to US mortgage rates after the 2012 State of the Union address?\n",
      "https://www.quora.com/unanswered/What-will-happen-to-US-mortgage-rates-after-the-2012-State-of-the-Union-address\n",
      "How many mortgage pools are there in the US mortgage market by agencies?\n",
      "https://www.quora.com/How-many-mortgage-pools-are-there-in-the-US-mortgage-market-by-agencies\n",
      "What is the latest technology in US Mortgage industry?\n",
      "https://www.quora.com/unanswered/What-is-the-latest-technology-in-US-Mortgage-industry\n",
      "How much does a US Mortgage Underwriter earn In Mumbai?\n",
      "https://www.quora.com/unanswered/How-much-does-a-US-Mortgage-Underwriter-earn-In-Mumbai\n",
      "How will the Massachussetts ruling on the validity of mortgage transfers in securitizations affect the US mortgage securitization industry?\n",
      "https://www.quora.com/unanswered/How-will-the-Massachussetts-ruling-on-the-validity-of-mortgage-transfers-in-securitizations-affect-the-US-mortgage-securitization-industry\n",
      "Does the US mortgage interest deduction make economic sense?\n",
      "https://www.quora.com/Does-the-US-mortgage-interest-deduction-make-economic-sense\n",
      "What is the job profile for US mortgage position in Indian BPO companies?\n",
      "https://www.quora.com/unanswered/What-is-the-job-profile-for-US-mortgage-position-in-Indian-BPO-companies\n",
      "Will the 2017 French election hurt US mortgage rates?\n",
      "https://www.quora.com/unanswered/Will-the-2017-French-election-hurt-US-mortgage-rates\n",
      "What fraction of US mortgages are floating rate? What is the dollar value of these outstanding debts?\n",
      "https://www.quora.com/What-fraction-of-US-mortgages-are-floating-rate-What-is-the-dollar-value-of-these-outstanding-debts\n",
      "Where can I get US mortgage jobs in Delhi?\n",
      "https://www.quora.com/Where-can-I-get-US-mortgage-jobs-in-Delhi\n",
      "What is the best source of understanding US Mortgage?\n",
      "https://www.quora.com/What-is-the-best-source-of-understanding-US-Mortgage\n",
      "Is working in US Mortgage job is good for future?\n",
      "https://www.quora.com/unanswered/Is-working-in-US-Mortgage-job-is-good-for-future\n",
      "What do the terms \"judicial\" and \"non-judicicial\" mean with regards to US mortgage foreclosure?\n",
      "https://www.quora.com/What-do-the-terms-judicial-and-non-judicicial-mean-with-regards-to-US-mortgage-foreclosure\n",
      "What is the scope for financial analyst of the US mortgage in India? Also, what will be the future scope in it?\n",
      "https://www.quora.com/unanswered/What-is-the-scope-for-financial-analyst-of-the-US-mortgage-in-India-Also-what-will-be-the-future-scope-in-it\n",
      "What are the options to switch a job for a guy who is working as a US mortgage underwriter in India?\n",
      "https://www.quora.com/unanswered/What-are-the-options-to-switch-a-job-for-a-guy-who-is-working-as-a-US-mortgage-underwriter-in-India\n",
      "What is the difference between the Canadian and the US mortgage legislation?\n",
      "https://www.quora.com/unanswered/What-is-the-difference-between-the-Canadian-and-the-US-mortgage-legislation\n",
      "What is the scope of professionals specialised in the US mortgage?\n",
      "https://www.quora.com/unanswered/What-is-the-scope-of-professionals-specialised-in-the-US-mortgage\n",
      "How low will US mortgage interests go, and for how long will they remain low?\n",
      "https://www.quora.com/How-low-will-US-mortgage-interests-go-and-for-how-long-will-they-remain-low\n",
      "If a heavy conventional conflict, or even a limited nuclear one, broke out between the U.S. and North Korea, what effect, if any, would it likely have on typical US mortgage rates?\n",
      "https://www.quora.com/If-a-heavy-conventional-conflict-or-even-a-limited-nuclear-one-broke-out-between-the-U-S-and-North-Korea-what-effect-if-any-would-it-likely-have-on-typical-US-mortgage-rates\n",
      "How does Goldman Sachs get away with so many questionable deals? To state a few: Greek debt, US Mortgages, Libyan sovereign fund & 1MDB (Malaysia)\n",
      "https://www.quora.com/How-does-Goldman-Sachs-get-away-with-so-many-questionable-deals-To-state-a-few-Greek-debt-US-Mortgages-Libyan-sovereign-fund-1MDB-Malaysia\n",
      "How much should I expect to pay for a US mortgage refinance of $109,000 in origination fee, brokers fee and closing costs to the attorney?\n",
      "https://www.quora.com/How-much-should-I-expect-to-pay-for-a-US-mortgage-refinance-of-109-000-in-origination-fee-brokers-fee-and-closing-costs-to-the-attorney\n",
      "US mortgages were packaged as bonds and sold to the public as a high-returns instruments. Since mortgages are a liability, how would they generate any returns?\n",
      "https://www.quora.com/US-mortgages-were-packaged-as-bonds-and-sold-to-the-public-as-a-high-returns-instruments-Since-mortgages-are-a-liability-how-would-they-generate-any-returns\n",
      "Will Diploma in Home loan course will give opportunity to work in Indian banks? As i have work exp in US Mortgage Underwriting of 5 yrs?\n",
      "https://www.quora.com/unanswered/Will-Diploma-in-Home-loan-course-will-give-opportunity-to-work-in-Indian-banks-As-i-have-work-exp-in-US-Mortgage-Underwriting-of-5-yrs\n",
      "I have 3 years of experience in US mortgage. Now I want to change my platform. Which will be a better choice: SAP or something else?\n"
     ]
    },
    {
     "ename": "WebDriverException",
     "evalue": "Message: chrome not reachable\n  (Session info: chrome=64.0.3282.167)\n  (Driver info: chromedriver=2.35.528161 (5b82f2d2aae0ca24b877009200ced9065a772e73),platform=Windows NT 10.0.16299 x86_64)\n",
     "output_type": "error",
     "traceback": [
      "\u001b[1;31m---------------------------------------------------------------------------\u001b[0m",
      "\u001b[1;31mWebDriverException\u001b[0m                        Traceback (most recent call last)",
      "\u001b[1;32m~\\AppData\\Local\\Enthought\\Canopy\\edm\\envs\\python\\lib\\site-packages\\selenium\\webdriver\\remote\\webelement.py\u001b[0m in \u001b[0;36mget_property\u001b[1;34m(self, name)\u001b[0m\n\u001b[0;32m    108\u001b[0m         \u001b[1;32mtry\u001b[0m\u001b[1;33m:\u001b[0m\u001b[1;33m\u001b[0m\u001b[0m\n\u001b[1;32m--> 109\u001b[1;33m             \u001b[1;32mreturn\u001b[0m \u001b[0mself\u001b[0m\u001b[1;33m.\u001b[0m\u001b[0m_execute\u001b[0m\u001b[1;33m(\u001b[0m\u001b[0mCommand\u001b[0m\u001b[1;33m.\u001b[0m\u001b[0mGET_ELEMENT_PROPERTY\u001b[0m\u001b[1;33m,\u001b[0m \u001b[1;33m{\u001b[0m\u001b[1;34m\"name\"\u001b[0m\u001b[1;33m:\u001b[0m \u001b[0mname\u001b[0m\u001b[1;33m}\u001b[0m\u001b[1;33m)\u001b[0m\u001b[1;33m[\u001b[0m\u001b[1;34m\"value\"\u001b[0m\u001b[1;33m]\u001b[0m\u001b[1;33m\u001b[0m\u001b[0m\n\u001b[0m\u001b[0;32m    110\u001b[0m         \u001b[1;32mexcept\u001b[0m \u001b[0mWebDriverException\u001b[0m\u001b[1;33m:\u001b[0m\u001b[1;33m\u001b[0m\u001b[0m\n",
      "\u001b[1;32m~\\AppData\\Local\\Enthought\\Canopy\\edm\\envs\\python\\lib\\site-packages\\selenium\\webdriver\\remote\\webelement.py\u001b[0m in \u001b[0;36m_execute\u001b[1;34m(self, command, params)\u001b[0m\n\u001b[0;32m    627\u001b[0m         \u001b[0mparams\u001b[0m\u001b[1;33m[\u001b[0m\u001b[1;34m'id'\u001b[0m\u001b[1;33m]\u001b[0m \u001b[1;33m=\u001b[0m \u001b[0mself\u001b[0m\u001b[1;33m.\u001b[0m\u001b[0m_id\u001b[0m\u001b[1;33m\u001b[0m\u001b[0m\n\u001b[1;32m--> 628\u001b[1;33m         \u001b[1;32mreturn\u001b[0m \u001b[0mself\u001b[0m\u001b[1;33m.\u001b[0m\u001b[0m_parent\u001b[0m\u001b[1;33m.\u001b[0m\u001b[0mexecute\u001b[0m\u001b[1;33m(\u001b[0m\u001b[0mcommand\u001b[0m\u001b[1;33m,\u001b[0m \u001b[0mparams\u001b[0m\u001b[1;33m)\u001b[0m\u001b[1;33m\u001b[0m\u001b[0m\n\u001b[0m\u001b[0;32m    629\u001b[0m \u001b[1;33m\u001b[0m\u001b[0m\n",
      "\u001b[1;32m~\\AppData\\Local\\Enthought\\Canopy\\edm\\envs\\python\\lib\\site-packages\\selenium\\webdriver\\remote\\webdriver.py\u001b[0m in \u001b[0;36mexecute\u001b[1;34m(self, driver_command, params)\u001b[0m\n\u001b[0;32m    311\u001b[0m         \u001b[1;32mif\u001b[0m \u001b[0mresponse\u001b[0m\u001b[1;33m:\u001b[0m\u001b[1;33m\u001b[0m\u001b[0m\n\u001b[1;32m--> 312\u001b[1;33m             \u001b[0mself\u001b[0m\u001b[1;33m.\u001b[0m\u001b[0merror_handler\u001b[0m\u001b[1;33m.\u001b[0m\u001b[0mcheck_response\u001b[0m\u001b[1;33m(\u001b[0m\u001b[0mresponse\u001b[0m\u001b[1;33m)\u001b[0m\u001b[1;33m\u001b[0m\u001b[0m\n\u001b[0m\u001b[0;32m    313\u001b[0m             response['value'] = self._unwrap_value(\n",
      "\u001b[1;32m~\\AppData\\Local\\Enthought\\Canopy\\edm\\envs\\python\\lib\\site-packages\\selenium\\webdriver\\remote\\errorhandler.py\u001b[0m in \u001b[0;36mcheck_response\u001b[1;34m(self, response)\u001b[0m\n\u001b[0;32m    207\u001b[0m                 \u001b[1;32mraise\u001b[0m \u001b[0mexception_class\u001b[0m\u001b[1;33m(\u001b[0m\u001b[0mresponse\u001b[0m\u001b[1;33m,\u001b[0m \u001b[0mvalue\u001b[0m\u001b[1;33m)\u001b[0m\u001b[1;33m\u001b[0m\u001b[0m\n\u001b[1;32m--> 208\u001b[1;33m             \u001b[1;32mraise\u001b[0m \u001b[0mexception_class\u001b[0m\u001b[1;33m(\u001b[0m\u001b[0mvalue\u001b[0m\u001b[1;33m)\u001b[0m\u001b[1;33m\u001b[0m\u001b[0m\n\u001b[0m\u001b[0;32m    209\u001b[0m         \u001b[1;32mif\u001b[0m \u001b[0mmessage\u001b[0m \u001b[1;33m==\u001b[0m \u001b[1;34m\"\"\u001b[0m \u001b[1;32mand\u001b[0m \u001b[1;34m'message'\u001b[0m \u001b[1;32min\u001b[0m \u001b[0mvalue\u001b[0m\u001b[1;33m:\u001b[0m\u001b[1;33m\u001b[0m\u001b[0m\n",
      "\u001b[1;31mWebDriverException\u001b[0m: Message: unknown command: session/e8088b6152a9fa4f061bb2eebc4b7a56/element/0.12418518581513416-29/property/href\n",
      "\nDuring handling of the above exception, another exception occurred:\n",
      "\u001b[1;31mWebDriverException\u001b[0m                        Traceback (most recent call last)",
      "\u001b[1;32m<ipython-input-39-944a6faaf04c>\u001b[0m in \u001b[0;36m<module>\u001b[1;34m()\u001b[0m\n\u001b[0;32m     15\u001b[0m \u001b[1;32mfor\u001b[0m \u001b[0mquestion\u001b[0m \u001b[1;32min\u001b[0m \u001b[0mquestions\u001b[0m\u001b[1;33m:\u001b[0m\u001b[1;33m\u001b[0m\u001b[0m\n\u001b[0;32m     16\u001b[0m     \u001b[0mprint\u001b[0m\u001b[1;33m(\u001b[0m\u001b[0mquestion\u001b[0m\u001b[1;33m.\u001b[0m\u001b[0mtext\u001b[0m\u001b[1;33m)\u001b[0m\u001b[1;33m\u001b[0m\u001b[0m\n\u001b[1;32m---> 17\u001b[1;33m     \u001b[0mprint\u001b[0m\u001b[1;33m(\u001b[0m\u001b[0mquestion\u001b[0m\u001b[1;33m.\u001b[0m\u001b[0mget_property\u001b[0m\u001b[1;33m(\u001b[0m\u001b[1;34m'href'\u001b[0m\u001b[1;33m)\u001b[0m\u001b[1;33m)\u001b[0m\u001b[1;33m\u001b[0m\u001b[0m\n\u001b[0m",
      "\u001b[1;32m~\\AppData\\Local\\Enthought\\Canopy\\edm\\envs\\python\\lib\\site-packages\\selenium\\webdriver\\remote\\webelement.py\u001b[0m in \u001b[0;36mget_property\u001b[1;34m(self, name)\u001b[0m\n\u001b[0;32m    110\u001b[0m         \u001b[1;32mexcept\u001b[0m \u001b[0mWebDriverException\u001b[0m\u001b[1;33m:\u001b[0m\u001b[1;33m\u001b[0m\u001b[0m\n\u001b[0;32m    111\u001b[0m             \u001b[1;31m# if we hit an end point that doesnt understand getElementProperty lets fake it\u001b[0m\u001b[1;33m\u001b[0m\u001b[1;33m\u001b[0m\u001b[0m\n\u001b[1;32m--> 112\u001b[1;33m             \u001b[1;32mreturn\u001b[0m \u001b[0mself\u001b[0m\u001b[1;33m.\u001b[0m\u001b[0mparent\u001b[0m\u001b[1;33m.\u001b[0m\u001b[0mexecute_script\u001b[0m\u001b[1;33m(\u001b[0m\u001b[1;34m'return arguments[0][arguments[1]]'\u001b[0m\u001b[1;33m,\u001b[0m \u001b[0mself\u001b[0m\u001b[1;33m,\u001b[0m \u001b[0mname\u001b[0m\u001b[1;33m)\u001b[0m\u001b[1;33m\u001b[0m\u001b[0m\n\u001b[0m\u001b[0;32m    113\u001b[0m \u001b[1;33m\u001b[0m\u001b[0m\n\u001b[0;32m    114\u001b[0m     \u001b[1;32mdef\u001b[0m \u001b[0mget_attribute\u001b[0m\u001b[1;33m(\u001b[0m\u001b[0mself\u001b[0m\u001b[1;33m,\u001b[0m \u001b[0mname\u001b[0m\u001b[1;33m)\u001b[0m\u001b[1;33m:\u001b[0m\u001b[1;33m\u001b[0m\u001b[0m\n",
      "\u001b[1;32m~\\AppData\\Local\\Enthought\\Canopy\\edm\\envs\\python\\lib\\site-packages\\selenium\\webdriver\\remote\\webdriver.py\u001b[0m in \u001b[0;36mexecute_script\u001b[1;34m(self, script, *args)\u001b[0m\n\u001b[0;32m    625\u001b[0m         return self.execute(command, {\n\u001b[0;32m    626\u001b[0m             \u001b[1;34m'script'\u001b[0m\u001b[1;33m:\u001b[0m \u001b[0mscript\u001b[0m\u001b[1;33m,\u001b[0m\u001b[1;33m\u001b[0m\u001b[0m\n\u001b[1;32m--> 627\u001b[1;33m             'args': converted_args})['value']\n\u001b[0m\u001b[0;32m    628\u001b[0m \u001b[1;33m\u001b[0m\u001b[0m\n\u001b[0;32m    629\u001b[0m     \u001b[1;32mdef\u001b[0m \u001b[0mexecute_async_script\u001b[0m\u001b[1;33m(\u001b[0m\u001b[0mself\u001b[0m\u001b[1;33m,\u001b[0m \u001b[0mscript\u001b[0m\u001b[1;33m,\u001b[0m \u001b[1;33m*\u001b[0m\u001b[0margs\u001b[0m\u001b[1;33m)\u001b[0m\u001b[1;33m:\u001b[0m\u001b[1;33m\u001b[0m\u001b[0m\n",
      "\u001b[1;32m~\\AppData\\Local\\Enthought\\Canopy\\edm\\envs\\python\\lib\\site-packages\\selenium\\webdriver\\remote\\webdriver.py\u001b[0m in \u001b[0;36mexecute\u001b[1;34m(self, driver_command, params)\u001b[0m\n\u001b[0;32m    310\u001b[0m         \u001b[0mresponse\u001b[0m \u001b[1;33m=\u001b[0m \u001b[0mself\u001b[0m\u001b[1;33m.\u001b[0m\u001b[0mcommand_executor\u001b[0m\u001b[1;33m.\u001b[0m\u001b[0mexecute\u001b[0m\u001b[1;33m(\u001b[0m\u001b[0mdriver_command\u001b[0m\u001b[1;33m,\u001b[0m \u001b[0mparams\u001b[0m\u001b[1;33m)\u001b[0m\u001b[1;33m\u001b[0m\u001b[0m\n\u001b[0;32m    311\u001b[0m         \u001b[1;32mif\u001b[0m \u001b[0mresponse\u001b[0m\u001b[1;33m:\u001b[0m\u001b[1;33m\u001b[0m\u001b[0m\n\u001b[1;32m--> 312\u001b[1;33m             \u001b[0mself\u001b[0m\u001b[1;33m.\u001b[0m\u001b[0merror_handler\u001b[0m\u001b[1;33m.\u001b[0m\u001b[0mcheck_response\u001b[0m\u001b[1;33m(\u001b[0m\u001b[0mresponse\u001b[0m\u001b[1;33m)\u001b[0m\u001b[1;33m\u001b[0m\u001b[0m\n\u001b[0m\u001b[0;32m    313\u001b[0m             response['value'] = self._unwrap_value(\n\u001b[0;32m    314\u001b[0m                 response.get('value', None))\n",
      "\u001b[1;32m~\\AppData\\Local\\Enthought\\Canopy\\edm\\envs\\python\\lib\\site-packages\\selenium\\webdriver\\remote\\errorhandler.py\u001b[0m in \u001b[0;36mcheck_response\u001b[1;34m(self, response)\u001b[0m\n\u001b[0;32m    240\u001b[0m                 \u001b[0malert_text\u001b[0m \u001b[1;33m=\u001b[0m \u001b[0mvalue\u001b[0m\u001b[1;33m[\u001b[0m\u001b[1;34m'alert'\u001b[0m\u001b[1;33m]\u001b[0m\u001b[1;33m.\u001b[0m\u001b[0mget\u001b[0m\u001b[1;33m(\u001b[0m\u001b[1;34m'text'\u001b[0m\u001b[1;33m)\u001b[0m\u001b[1;33m\u001b[0m\u001b[0m\n\u001b[0;32m    241\u001b[0m             \u001b[1;32mraise\u001b[0m \u001b[0mexception_class\u001b[0m\u001b[1;33m(\u001b[0m\u001b[0mmessage\u001b[0m\u001b[1;33m,\u001b[0m \u001b[0mscreen\u001b[0m\u001b[1;33m,\u001b[0m \u001b[0mstacktrace\u001b[0m\u001b[1;33m,\u001b[0m \u001b[0malert_text\u001b[0m\u001b[1;33m)\u001b[0m\u001b[1;33m\u001b[0m\u001b[0m\n\u001b[1;32m--> 242\u001b[1;33m         \u001b[1;32mraise\u001b[0m \u001b[0mexception_class\u001b[0m\u001b[1;33m(\u001b[0m\u001b[0mmessage\u001b[0m\u001b[1;33m,\u001b[0m \u001b[0mscreen\u001b[0m\u001b[1;33m,\u001b[0m \u001b[0mstacktrace\u001b[0m\u001b[1;33m)\u001b[0m\u001b[1;33m\u001b[0m\u001b[0m\n\u001b[0m\u001b[0;32m    243\u001b[0m \u001b[1;33m\u001b[0m\u001b[0m\n\u001b[0;32m    244\u001b[0m     \u001b[1;32mdef\u001b[0m \u001b[0m_value_or_default\u001b[0m\u001b[1;33m(\u001b[0m\u001b[0mself\u001b[0m\u001b[1;33m,\u001b[0m \u001b[0mobj\u001b[0m\u001b[1;33m,\u001b[0m \u001b[0mkey\u001b[0m\u001b[1;33m,\u001b[0m \u001b[0mdefault\u001b[0m\u001b[1;33m)\u001b[0m\u001b[1;33m:\u001b[0m\u001b[1;33m\u001b[0m\u001b[0m\n",
      "\u001b[1;31mWebDriverException\u001b[0m: Message: chrome not reachable\n  (Session info: chrome=64.0.3282.167)\n  (Driver info: chromedriver=2.35.528161 (5b82f2d2aae0ca24b877009200ced9065a772e73),platform=Windows NT 10.0.16299 x86_64)\n"
     ]
    }
   ],
   "source": [
    "from selenium import webdriver\n",
    "import time\n",
    "from selenium.webdriver.common.keys import Keys\n",
    "browser = webdriver.Chrome('G:\\\\work\\\\software\\\\chromedriver.exe')\n",
    "url='https://www.quora.com/search?q=US+Mortgage'\n",
    "browser.get(url)\n",
    "\n",
    "body=browser.find_element_by_tag_name('body')\n",
    "\n",
    "for i in range(10):\n",
    "    body.send_keys(Keys.PAGE_DOWN)\n",
    "    time.sleep(0.5)\n",
    "\n",
    "questions=browser.find_elements_by_class_name('question_link')\n",
    "for question in questions:\n",
    "    print(question.text)\n",
    "    print(question.get_property('href'))"
   ]
  }
 ],
 "metadata": {
  "kernelspec": {
   "display_name": "Python 3",
   "language": "python",
   "name": "python3"
  },
  "language_info": {
   "codemirror_mode": {
    "name": "ipython",
    "version": 3
   },
   "file_extension": ".py",
   "mimetype": "text/x-python",
   "name": "python",
   "nbconvert_exporter": "python",
   "pygments_lexer": "ipython3",
   "version": "3.5.2"
  }
 },
 "nbformat": 4,
 "nbformat_minor": 2
}
