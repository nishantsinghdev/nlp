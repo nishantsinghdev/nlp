{
 "cells": [
  {
   "cell_type": "code",
   "execution_count": 7,
   "metadata": {},
   "outputs": [
    {
     "name": "stdout",
     "output_type": "stream",
     "text": [
      "Say Something!\n",
      "Done!\n",
      "hi I am Bryan want to be available high quality text to speech voices select download now to install my voice\n"
     ]
    }
   ],
   "source": [
    "import speech_recognition as sr\n",
    "import webbrowser as wb\n",
    "\n",
    "r = sr.Recognizer()\n",
    "audio = 'brian.wav'\n",
    "\n",
    "with sr.AudioFile(audio) as source:\n",
    "    print ('Say Something!')\n",
    "    audio = r.record(source)\n",
    "    print ('Done!')\n",
    " \n",
    "try:\n",
    "    text = r.recognize_google(audio)\n",
    "    print(text)\n",
    " \n",
    "except Exception as e:\n",
    "    print(e)"
   ]
  },
  {
   "cell_type": "code",
   "execution_count": null,
   "metadata": {
    "collapsed": true
   },
   "outputs": [],
   "source": []
  }
 ],
 "metadata": {
  "kernelspec": {
   "display_name": "Python 3",
   "language": "python",
   "name": "python3"
  },
  "language_info": {
   "codemirror_mode": {
    "name": "ipython",
    "version": 3
   },
   "file_extension": ".py",
   "mimetype": "text/x-python",
   "name": "python",
   "nbconvert_exporter": "python",
   "pygments_lexer": "ipython3",
   "version": "3.6.4"
  }
 },
 "nbformat": 4,
 "nbformat_minor": 2
}
