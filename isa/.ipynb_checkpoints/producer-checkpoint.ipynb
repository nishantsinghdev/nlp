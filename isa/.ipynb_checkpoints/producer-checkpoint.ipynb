{
 "cells": [
  {
   "cell_type": "code",
   "execution_count": 71,
   "metadata": {
    "collapsed": true
   },
   "outputs": [],
   "source": [
    "from kafka import KafkaProducer,KafkaConsumer\n",
    "from kafka.errors import KafkaError\n",
    "\n",
    "producer = KafkaProducer(bootstrap_servers=['localhost:9092'])\n",
    "\n",
    "\n",
    "# Asynchronous by default\n",
    "future=producer.send('input', b'and now you?')"
   ]
  },
  {
   "cell_type": "code",
   "execution_count": 3,
   "metadata": {},
   "outputs": [
    {
     "name": "stdout",
     "output_type": "stream",
     "text": [
      "Error: 0\n",
      "Offset: 9\n"
     ]
    }
   ],
   "source": [
    "from kafka import SimpleProducer, KafkaClient \n",
    "\n",
    "def print_response(response=None):\n",
    "    if response:\n",
    "        print('Error: {0}'.format(response[0].error))\n",
    "        print('Offset: {0}'.format(response[0].offset))\n",
    "\n",
    "\n",
    "def main():\n",
    "    kafka = KafkaClient('localhost:9092')\n",
    "    producer = SimpleProducer(kafka)\n",
    "\n",
    "    topic = 'test'\n",
    "    msg = b'Hello World'\n",
    "\n",
    "    print_response(producer.send_messages(topic, msg))\n",
    "\n",
    "    kafka.close()\n",
    "\n",
    "if __name__ == \"__main__\":\n",
    "    main()\n"
   ]
  }
 ],
 "metadata": {
  "kernelspec": {
   "display_name": "Python 3",
   "language": "python",
   "name": "python3"
  },
  "language_info": {
   "codemirror_mode": {
    "name": "ipython",
    "version": 3
   },
   "file_extension": ".py",
   "mimetype": "text/x-python",
   "name": "python",
   "nbconvert_exporter": "python",
   "pygments_lexer": "ipython3",
   "version": "3.6.3"
  }
 },
 "nbformat": 4,
 "nbformat_minor": 2
}
