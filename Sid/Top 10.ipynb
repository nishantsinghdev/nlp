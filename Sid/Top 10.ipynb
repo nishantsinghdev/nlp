{
 "cells": [
  {
   "cell_type": "code",
   "execution_count": 1,
   "metadata": {
    "collapsed": true
   },
   "outputs": [],
   "source": [
    "import pandas as pd\n",
    "import re "
   ]
  },
  {
   "cell_type": "code",
   "execution_count": 2,
   "metadata": {
    "collapsed": true
   },
   "outputs": [],
   "source": [
    "cfp=pd.read_csv(\"cfpb.csv\",names=[\"complaintdate\",\"product\",\"subproduct\"\n",
    ",\"issue\",\"subissue\",\"narrative\",\"company_public_response\",\"company\",\"state\"\n",
    ",\"zip\",\"tags\",\"companyconsent\",\"via\",\"send_to_company_date\",\"company_response_consumer\",\"timely\",\"consumer_disputed\",\"id\"],skiprows=1)\n"
   ]
  },
  {
   "cell_type": "code",
   "execution_count": 3,
   "metadata": {
    "collapsed": true
   },
   "outputs": [],
   "source": [
    "cfp=cfp[(cfp['product']=='Mortgage')]"
   ]
  },
  {
   "cell_type": "code",
   "execution_count": 4,
   "metadata": {
    "collapsed": false
   },
   "outputs": [
    {
     "data": {
      "text/plain": [
       "(39734, 18)"
      ]
     },
     "execution_count": 4,
     "metadata": {},
     "output_type": "execute_result"
    }
   ],
   "source": [
    "cfp=cfp[~cfp.narrative.isnull()]\n",
    "cfp.shape"
   ]
  },
  {
   "cell_type": "code",
   "execution_count": 9,
   "metadata": {
    "collapsed": false
   },
   "outputs": [
    {
     "data": {
      "text/html": [
       "<div>\n",
       "<table border=\"1\" class=\"dataframe\">\n",
       "  <thead>\n",
       "    <tr style=\"text-align: right;\">\n",
       "      <th></th>\n",
       "      <th>complaintdate</th>\n",
       "      <th>product</th>\n",
       "      <th>subproduct</th>\n",
       "      <th>issue</th>\n",
       "      <th>subissue</th>\n",
       "      <th>narrative</th>\n",
       "      <th>company_public_response</th>\n",
       "      <th>company</th>\n",
       "      <th>state</th>\n",
       "      <th>zip</th>\n",
       "      <th>tags</th>\n",
       "      <th>companyconsent</th>\n",
       "      <th>via</th>\n",
       "      <th>send_to_company_date</th>\n",
       "      <th>company_response_consumer</th>\n",
       "      <th>timely</th>\n",
       "      <th>consumer_disputed</th>\n",
       "      <th>id</th>\n",
       "      <th>tokens</th>\n",
       "    </tr>\n",
       "  </thead>\n",
       "  <tbody>\n",
       "    <tr>\n",
       "      <th>25</th>\n",
       "      <td>11/18/2016</td>\n",
       "      <td>Mortgage</td>\n",
       "      <td>Conventional fixed mortgage</td>\n",
       "      <td>Settlement process and costs</td>\n",
       "      <td>NaN</td>\n",
       "      <td>Started the refinance of home mortgage process...</td>\n",
       "      <td>NaN</td>\n",
       "      <td>AMERICAN NEIGHBORHOOD MORTGAGE</td>\n",
       "      <td>NJ</td>\n",
       "      <td>088XX</td>\n",
       "      <td>NaN</td>\n",
       "      <td>Consent provided</td>\n",
       "      <td>Web</td>\n",
       "      <td>11/21/2016</td>\n",
       "      <td>Closed with monetary relief</td>\n",
       "      <td>No</td>\n",
       "      <td>No</td>\n",
       "      <td>2216206</td>\n",
       "      <td>[Started, the, refinance, of, home, mortgage, ...</td>\n",
       "    </tr>\n",
       "    <tr>\n",
       "      <th>26</th>\n",
       "      <td>7/16/2015</td>\n",
       "      <td>Mortgage</td>\n",
       "      <td>Conventional fixed mortgage</td>\n",
       "      <td>Application, originator, mortgage broker</td>\n",
       "      <td>NaN</td>\n",
       "      <td>In XXXX, I and my ex-husband applied for a ref...</td>\n",
       "      <td>NaN</td>\n",
       "      <td>HSBC NORTH AMERICA HOLDINGS INC.</td>\n",
       "      <td>IL</td>\n",
       "      <td>625XX</td>\n",
       "      <td>NaN</td>\n",
       "      <td>Consent provided</td>\n",
       "      <td>Web</td>\n",
       "      <td>7/16/2015</td>\n",
       "      <td>Closed with explanation</td>\n",
       "      <td>Yes</td>\n",
       "      <td>No</td>\n",
       "      <td>1472017</td>\n",
       "      <td>[In, XXXX, I, and, my, ex, husband, applied, f...</td>\n",
       "    </tr>\n",
       "    <tr>\n",
       "      <th>29</th>\n",
       "      <td>4/27/2016</td>\n",
       "      <td>Mortgage</td>\n",
       "      <td>Conventional fixed mortgage</td>\n",
       "      <td>Loan servicing, payments, escrow account</td>\n",
       "      <td>NaN</td>\n",
       "      <td>Mortgage was transferred to Nationstar as of X...</td>\n",
       "      <td>NaN</td>\n",
       "      <td>NATIONSTAR MORTGAGE</td>\n",
       "      <td>CA</td>\n",
       "      <td>954XX</td>\n",
       "      <td>NaN</td>\n",
       "      <td>Consent provided</td>\n",
       "      <td>Web</td>\n",
       "      <td>4/27/2016</td>\n",
       "      <td>Closed with explanation</td>\n",
       "      <td>Yes</td>\n",
       "      <td>Yes</td>\n",
       "      <td>1898476</td>\n",
       "      <td>[Mortgage, was, transferred, to, Nationstar, a...</td>\n",
       "    </tr>\n",
       "    <tr>\n",
       "      <th>69</th>\n",
       "      <td>6/30/2016</td>\n",
       "      <td>Mortgage</td>\n",
       "      <td>Conventional fixed mortgage</td>\n",
       "      <td>Credit decision / Underwriting</td>\n",
       "      <td>NaN</td>\n",
       "      <td>Need to move into a XXXX facility. Can no long...</td>\n",
       "      <td>NaN</td>\n",
       "      <td>VANDERBILT MORTGAGE &amp; FINANCE, INC</td>\n",
       "      <td>GA</td>\n",
       "      <td>300XX</td>\n",
       "      <td>Older American</td>\n",
       "      <td>Consent provided</td>\n",
       "      <td>Web</td>\n",
       "      <td>7/1/2016</td>\n",
       "      <td>Closed with explanation</td>\n",
       "      <td>Yes</td>\n",
       "      <td>No</td>\n",
       "      <td>1992309</td>\n",
       "      <td>[Need, to, move, into, a, XXXX, facility, Can,...</td>\n",
       "    </tr>\n",
       "    <tr>\n",
       "      <th>85</th>\n",
       "      <td>7/20/2015</td>\n",
       "      <td>Mortgage</td>\n",
       "      <td>FHA mortgage</td>\n",
       "      <td>Loan servicing, payments, escrow account</td>\n",
       "      <td>NaN</td>\n",
       "      <td>I had an FHA loan at US Bank that was paid off...</td>\n",
       "      <td>Company chooses not to provide a public response</td>\n",
       "      <td>U.S. BANCORP</td>\n",
       "      <td>TN</td>\n",
       "      <td>370XX</td>\n",
       "      <td>NaN</td>\n",
       "      <td>Consent provided</td>\n",
       "      <td>Web</td>\n",
       "      <td>7/20/2015</td>\n",
       "      <td>Closed with explanation</td>\n",
       "      <td>Yes</td>\n",
       "      <td>No</td>\n",
       "      <td>1474887</td>\n",
       "      <td>[I, had, an, FHA, loan, at, US, Bank, that, wa...</td>\n",
       "    </tr>\n",
       "  </tbody>\n",
       "</table>\n",
       "</div>"
      ],
      "text/plain": [
       "   complaintdate   product                   subproduct  \\\n",
       "25    11/18/2016  Mortgage  Conventional fixed mortgage   \n",
       "26     7/16/2015  Mortgage  Conventional fixed mortgage   \n",
       "29     4/27/2016  Mortgage  Conventional fixed mortgage   \n",
       "69     6/30/2016  Mortgage  Conventional fixed mortgage   \n",
       "85     7/20/2015  Mortgage                 FHA mortgage   \n",
       "\n",
       "                                       issue subissue  \\\n",
       "25              Settlement process and costs      NaN   \n",
       "26  Application, originator, mortgage broker      NaN   \n",
       "29  Loan servicing, payments, escrow account      NaN   \n",
       "69            Credit decision / Underwriting      NaN   \n",
       "85  Loan servicing, payments, escrow account      NaN   \n",
       "\n",
       "                                            narrative  \\\n",
       "25  Started the refinance of home mortgage process...   \n",
       "26  In XXXX, I and my ex-husband applied for a ref...   \n",
       "29  Mortgage was transferred to Nationstar as of X...   \n",
       "69  Need to move into a XXXX facility. Can no long...   \n",
       "85  I had an FHA loan at US Bank that was paid off...   \n",
       "\n",
       "                             company_public_response  \\\n",
       "25                                               NaN   \n",
       "26                                               NaN   \n",
       "29                                               NaN   \n",
       "69                                               NaN   \n",
       "85  Company chooses not to provide a public response   \n",
       "\n",
       "                               company state    zip            tags  \\\n",
       "25      AMERICAN NEIGHBORHOOD MORTGAGE    NJ  088XX             NaN   \n",
       "26    HSBC NORTH AMERICA HOLDINGS INC.    IL  625XX             NaN   \n",
       "29                 NATIONSTAR MORTGAGE    CA  954XX             NaN   \n",
       "69  VANDERBILT MORTGAGE & FINANCE, INC    GA  300XX  Older American   \n",
       "85                        U.S. BANCORP    TN  370XX             NaN   \n",
       "\n",
       "      companyconsent  via send_to_company_date    company_response_consumer  \\\n",
       "25  Consent provided  Web           11/21/2016  Closed with monetary relief   \n",
       "26  Consent provided  Web            7/16/2015      Closed with explanation   \n",
       "29  Consent provided  Web            4/27/2016      Closed with explanation   \n",
       "69  Consent provided  Web             7/1/2016      Closed with explanation   \n",
       "85  Consent provided  Web            7/20/2015      Closed with explanation   \n",
       "\n",
       "   timely consumer_disputed       id  \\\n",
       "25     No                No  2216206   \n",
       "26    Yes                No  1472017   \n",
       "29    Yes               Yes  1898476   \n",
       "69    Yes                No  1992309   \n",
       "85    Yes                No  1474887   \n",
       "\n",
       "                                               tokens  \n",
       "25  [Started, the, refinance, of, home, mortgage, ...  \n",
       "26  [In, XXXX, I, and, my, ex, husband, applied, f...  \n",
       "29  [Mortgage, was, transferred, to, Nationstar, a...  \n",
       "69  [Need, to, move, into, a, XXXX, facility, Can,...  \n",
       "85  [I, had, an, FHA, loan, at, US, Bank, that, wa...  "
      ]
     },
     "execution_count": 9,
     "metadata": {},
     "output_type": "execute_result"
    }
   ],
   "source": [
    "from nltk.tokenize import RegexpTokenizer\n",
    "tokenizer = RegexpTokenizer(r'\\w+')\n",
    "cfp[\"tokens\"] = cfp[\"narrative\"].apply(tokenizer.tokenize)\n",
    "cfp.head()"
   ]
  },
  {
   "cell_type": "code",
   "execution_count": 10,
   "metadata": {
    "collapsed": true
   },
   "outputs": [],
   "source": [
    "import nltk\n",
    "from nltk.corpus import stopwords\n",
    "from nltk.stem.porter import PorterStemmer\n",
    "stemmer = PorterStemmer()\n",
    "from nltk.stem import WordNetLemmatizer\n",
    "lemmatizer = WordNetLemmatizer();"
   ]
  },
  {
   "cell_type": "code",
   "execution_count": 11,
   "metadata": {
    "collapsed": true
   },
   "outputs": [],
   "source": [
    "mortgage_dict=['refinance','borrower','mortgage','lender','reporting','refinanced','financed','finance']"
   ]
  },
  {
   "cell_type": "code",
   "execution_count": 12,
   "metadata": {
    "collapsed": false
   },
   "outputs": [],
   "source": [
    "def stemandlemma(narrative):\n",
    "    \n",
    "    preprocess_list = list()\n",
    "    words = narrative.lower().split()\n",
    "    #print(words)\n",
    "    for w in words:\n",
    "        if(w not in mortgage_dict):\n",
    "            preprocess_list.append( lemmatizer.lemmatize(w) )\n",
    "        else:\n",
    "            preprocess_list.append(w)\n",
    "    return \" \".join(preprocess_list)"
   ]
  },
  {
   "cell_type": "code",
   "execution_count": 13,
   "metadata": {
    "collapsed": true
   },
   "outputs": [],
   "source": [
    "def removeNER(narrative):\n",
    "    \n",
    "    preprocess_list = list()\n",
    "    words = narrative.lower().split()\n",
    "    #print(words)\n",
    "    for w in words:\n",
    "        preprocess_list.append( stemmer.stem(w) )\n",
    "    return preprocess_list"
   ]
  },
  {
   "cell_type": "code",
   "execution_count": 14,
   "metadata": {
    "collapsed": true
   },
   "outputs": [],
   "source": [
    "def preprocess_narrative( narrative ):\n",
    "    \n",
    "    preprocess_list = list()\n",
    "    for text in narrative:\n",
    "        letters_only = re.sub(\"[^a-zA-Z]\", \" \", text)\n",
    "        letters_only = re.sub(\"XX\",\"\",letters_only)\n",
    "        words = letters_only.lower().split()\n",
    "        stops = set(stopwords.words(\"english\"))\n",
    "        meaningful_words = [w for w in words if not w in stops]\n",
    "        #print(meaningful_words)\n",
    "        #meaningful_words = [w for w in meaningful_words stemmer.stem(w)]\n",
    "        preprocess_list.append(\" \".join( meaningful_words ))\n",
    "    return preprocess_list"
   ]
  },
  {
   "cell_type": "code",
   "execution_count": 15,
   "metadata": {
    "collapsed": true
   },
   "outputs": [],
   "source": [
    "import numpy as np"
   ]
  },
  {
   "cell_type": "code",
   "execution_count": 16,
   "metadata": {
    "collapsed": true
   },
   "outputs": [],
   "source": [
    "cfp['complaintdate'] = pd.to_datetime(cfp['complaintdate'])"
   ]
  },
  {
   "cell_type": "code",
   "execution_count": 17,
   "metadata": {
    "collapsed": true
   },
   "outputs": [],
   "source": [
    "cfp['newnarrative'] = preprocess_narrative( cfp.narrative )\n",
    "cfp['newnarrative'] = cfp['newnarrative'].map(stemandlemma)"
   ]
  },
  {
   "cell_type": "code",
   "execution_count": 19,
   "metadata": {
    "collapsed": false
   },
   "outputs": [
    {
     "data": {
      "text/plain": [
       "Loan servicing, payments, escrow account                                            14728\n",
       "Loan modification,collection,foreclosure                                            10791\n",
       "Application, originator, mortgage broker                                             3749\n",
       "Trouble during payment process                                                       2898\n",
       "Struggling to pay mortgage                                                           2401\n",
       "Settlement process and costs                                                         2250\n",
       "Credit decision / Underwriting                                                       1289\n",
       "Applying for a mortgage or refinancing an existing mortgage                           752\n",
       "Closing on a mortgage                                                                 624\n",
       "Incorrect information on your report                                                  133\n",
       "Applying for a mortgage                                                                62\n",
       "Problem with a credit reporting company's investigation into an existing problem       29\n",
       "Credit monitoring or identity theft protection services                                10\n",
       "Improper use of your report                                                             9\n",
       "Unable to get your credit report or credit score                                        7\n",
       "Problem with fraud alerts or security freezes                                           2\n",
       "Name: issue, dtype: int64"
      ]
     },
     "execution_count": 19,
     "metadata": {},
     "output_type": "execute_result"
    }
   ],
   "source": [
    "cfp[\"issue\"].value_counts()"
   ]
  },
  {
   "cell_type": "code",
   "execution_count": 24,
   "metadata": {
    "collapsed": false
   },
   "outputs": [
    {
     "data": {
      "text/plain": [
       "25                 Settlement process and costs\n",
       "26     Application, originator, mortgage broker\n",
       "29     Loan servicing, payments, escrow account\n",
       "69               Credit decision / Underwriting\n",
       "85     Loan servicing, payments, escrow account\n",
       "95     Loan modification,collection,foreclosure\n",
       "118    Loan servicing, payments, escrow account\n",
       "161                Settlement process and costs\n",
       "172    Loan modification,collection,foreclosure\n",
       "175    Loan servicing, payments, escrow account\n",
       "177    Loan servicing, payments, escrow account\n",
       "201    Loan servicing, payments, escrow account\n",
       "238                Settlement process and costs\n",
       "254                Settlement process and costs\n",
       "261    Loan servicing, payments, escrow account\n",
       "278    Application, originator, mortgage broker\n",
       "293    Loan servicing, payments, escrow account\n",
       "302    Application, originator, mortgage broker\n",
       "306    Loan modification,collection,foreclosure\n",
       "322    Loan servicing, payments, escrow account\n",
       "Name: issue, dtype: object"
      ]
     },
     "execution_count": 24,
     "metadata": {},
     "output_type": "execute_result"
    }
   ],
   "source": [
    "ISSUE_LIST=cfp.loc[:,'issue']\n",
    "ISSUE_LIST.head(20)"
   ]
  },
  {
   "cell_type": "code",
   "execution_count": 52,
   "metadata": {
    "collapsed": false
   },
   "outputs": [],
   "source": [
    "from collections import defaultdict\n",
    "from collections import OrderedDict\n",
    "def findMostUsedWords(cfp,issue,value,mydict):\n",
    "    wordtokens=cfp.tokens[issue[ISSUE_LIST]==\"value\"]\n",
    "    for words in wordtokens:\n",
    "        for word in words:\n",
    "            mydict[word]+=1\n",
    "    return OrderedDict(sorted(mydict.items(),reverse=True,key=lambda item:item[1]))"
   ]
  },
  {
   "cell_type": "code",
   "execution_count": 53,
   "metadata": {
    "collapsed": false
   },
   "outputs": [
    {
     "ename": "TypeError",
     "evalue": "string indices must be integers",
     "output_type": "error",
     "traceback": [
      "\u001b[0;31m---------------------------------------------------------------------------\u001b[0m",
      "\u001b[0;31mTypeError\u001b[0m                                 Traceback (most recent call last)",
      "\u001b[0;32m<ipython-input-53-0d666b3c2cf1>\u001b[0m in \u001b[0;36m<module>\u001b[0;34m()\u001b[0m\n\u001b[1;32m      1\u001b[0m \u001b[1;32mfor\u001b[0m \u001b[0missue\u001b[0m \u001b[1;32min\u001b[0m \u001b[0mISSUE_LIST\u001b[0m\u001b[1;33m:\u001b[0m\u001b[1;33m\u001b[0m\u001b[0m\n\u001b[1;32m      2\u001b[0m     \u001b[0mmydict\u001b[0m\u001b[1;33m=\u001b[0m\u001b[0mdefaultdict\u001b[0m\u001b[1;33m(\u001b[0m\u001b[0mint\u001b[0m\u001b[1;33m)\u001b[0m\u001b[1;33m\u001b[0m\u001b[0m\n\u001b[0;32m----> 3\u001b[0;31m     \u001b[0mprint\u001b[0m\u001b[1;33m(\u001b[0m\u001b[0missue\u001b[0m\u001b[1;33m,\u001b[0m\u001b[0mlist\u001b[0m\u001b[1;33m(\u001b[0m\u001b[0mfindMostUsedWords\u001b[0m\u001b[1;33m(\u001b[0m\u001b[0mcfp\u001b[0m\u001b[1;33m,\u001b[0m\u001b[0missue\u001b[0m\u001b[1;33m,\u001b[0m\u001b[1;36m1\u001b[0m\u001b[1;33m,\u001b[0m\u001b[0mmydict\u001b[0m\u001b[1;33m)\u001b[0m\u001b[1;33m.\u001b[0m\u001b[0mitems\u001b[0m\u001b[1;33m(\u001b[0m\u001b[1;33m)\u001b[0m\u001b[1;33m)\u001b[0m\u001b[1;33m[\u001b[0m\u001b[1;33m:\u001b[0m\u001b[1;36m5\u001b[0m\u001b[1;33m]\u001b[0m\u001b[1;33m)\u001b[0m\u001b[1;33m\u001b[0m\u001b[0m\n\u001b[0m",
      "\u001b[0;32m<ipython-input-52-4ac7cf466c68>\u001b[0m in \u001b[0;36mfindMostUsedWords\u001b[0;34m(cfp, issue, value, mydict)\u001b[0m\n\u001b[1;32m      2\u001b[0m \u001b[1;32mfrom\u001b[0m \u001b[0mcollections\u001b[0m \u001b[1;32mimport\u001b[0m \u001b[0mOrderedDict\u001b[0m\u001b[1;33m\u001b[0m\u001b[0m\n\u001b[1;32m      3\u001b[0m \u001b[1;32mdef\u001b[0m \u001b[0mfindMostUsedWords\u001b[0m\u001b[1;33m(\u001b[0m\u001b[0mcfp\u001b[0m\u001b[1;33m,\u001b[0m\u001b[0missue\u001b[0m\u001b[1;33m,\u001b[0m\u001b[0mvalue\u001b[0m\u001b[1;33m,\u001b[0m\u001b[0mmydict\u001b[0m\u001b[1;33m)\u001b[0m\u001b[1;33m:\u001b[0m\u001b[1;33m\u001b[0m\u001b[0m\n\u001b[0;32m----> 4\u001b[0;31m     \u001b[0mwordtokens\u001b[0m\u001b[1;33m=\u001b[0m\u001b[0mcfp\u001b[0m\u001b[1;33m.\u001b[0m\u001b[0mtokens\u001b[0m\u001b[1;33m[\u001b[0m\u001b[0missue\u001b[0m\u001b[1;33m[\u001b[0m\u001b[0mISSUE_LIST\u001b[0m\u001b[1;33m]\u001b[0m\u001b[1;33m==\u001b[0m\u001b[1;34m\"value\"\u001b[0m\u001b[1;33m]\u001b[0m\u001b[1;33m\u001b[0m\u001b[0m\n\u001b[0m\u001b[1;32m      5\u001b[0m     \u001b[1;32mfor\u001b[0m \u001b[0mwords\u001b[0m \u001b[1;32min\u001b[0m \u001b[0mwordtokens\u001b[0m\u001b[1;33m:\u001b[0m\u001b[1;33m\u001b[0m\u001b[0m\n\u001b[1;32m      6\u001b[0m         \u001b[1;32mfor\u001b[0m \u001b[0mword\u001b[0m \u001b[1;32min\u001b[0m \u001b[0mwords\u001b[0m\u001b[1;33m:\u001b[0m\u001b[1;33m\u001b[0m\u001b[0m\n",
      "\u001b[0;31mTypeError\u001b[0m: string indices must be integers"
     ]
    }
   ],
   "source": [
    "for issue in ISSUE_LIST:\n",
    "    mydict=defaultdict(int)\n",
    "    print(issue,list(findMostUsedWords(cfp,issue,1,mydict).items())[:5])"
   ]
  },
  {
   "cell_type": "code",
   "execution_count": null,
   "metadata": {
    "collapsed": true
   },
   "outputs": [],
   "source": []
  }
 ],
 "metadata": {
  "kernelspec": {
   "display_name": "Python 3",
   "language": "python",
   "name": "python3"
  },
  "language_info": {
   "codemirror_mode": {
    "name": "ipython",
    "version": 3
   },
   "file_extension": ".py",
   "mimetype": "text/x-python",
   "name": "python",
   "nbconvert_exporter": "python",
   "pygments_lexer": "ipython3",
   "version": "3.6.0"
  }
 },
 "nbformat": 4,
 "nbformat_minor": 2
}
