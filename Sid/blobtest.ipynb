{
 "cells": [
  {
   "cell_type": "code",
   "execution_count": 4,
   "metadata": {
    "collapsed": false
   },
   "outputs": [],
   "source": [
    "from textblob import TextBlob\n",
    "text=\"Hello, My home mortgage is managed by PHH Loans XXXX My mortgage owed each month is roughly {$920.00}. I pay {$470.00} every XXXX weeks. So I pay extra, and at the end of the year I 'm usually a month to 6 weeks ahead in payments. So in the long run of 30 years, I 'll save thousands in interest and a few years off the loan. However, the mortgage company does not process my payments correctly. Every few months, I will received a call saying that I am short on my payment. I 've even had foreclosure paperwork sent to me. I 've spoken to their representatives about correcting the mistakes. Because I should be 2-3 months ahead of my payments, and I 've put extra money toward principal. I am very concerned about how this company is managing my payments. They seem to adjust things randomly. They should at least know that I am not behind in my payments.\"\n",
    "blob=TextBlob(text)"
   ]
  },
  {
   "cell_type": "code",
   "execution_count": 5,
   "metadata": {
    "collapsed": false
   },
   "outputs": [
    {
     "data": {
      "text/plain": [
       "TextBlob(\"Hello, My home mortgage is managed by PHH Loans XXXX My mortgage owed each month is roughly {$920.00}. I pay {$470.00} every XXXX weeks. So I pay extra, and at the end of the year I 'm usually a month to 6 weeks ahead in payments. So in the long run of 30 years, I 'll save thousands in interest and a few years off the loan. However, the mortgage company does not process my payments correctly. Every few months, I will received a call saying that I am short on my payment. I 've even had foreclosure paperwork sent to me. I 've spoken to their representatives about correcting the mistakes. Because I should be 2-3 months ahead of my payments, and I 've put extra money toward principal. I am very concerned about how this company is managing my payments. They seem to adjust things randomly. They should at least know that I am not behind in my payments.\")"
      ]
     },
     "execution_count": 5,
     "metadata": {},
     "output_type": "execute_result"
    }
   ],
   "source": [
    "blob"
   ]
  },
  {
   "cell_type": "code",
   "execution_count": 6,
   "metadata": {
    "collapsed": false
   },
   "outputs": [
    {
     "data": {
      "text/plain": [
       "WordList(['Hello', 'My', 'home', 'mortgage', 'is', 'managed', 'by', 'PHH', 'Loans', 'XXXX', 'My', 'mortgage', 'owed', 'each', 'month', 'is', 'roughly', '920.00', 'I', 'pay', '470.00', 'every', 'XXXX', 'weeks', 'So', 'I', 'pay', 'extra', 'and', 'at', 'the', 'end', 'of', 'the', 'year', 'I', \"'m\", 'usually', 'a', 'month', 'to', '6', 'weeks', 'ahead', 'in', 'payments', 'So', 'in', 'the', 'long', 'run', 'of', '30', 'years', 'I', \"'ll\", 'save', 'thousands', 'in', 'interest', 'and', 'a', 'few', 'years', 'off', 'the', 'loan', 'However', 'the', 'mortgage', 'company', 'does', 'not', 'process', 'my', 'payments', 'correctly', 'Every', 'few', 'months', 'I', 'will', 'received', 'a', 'call', 'saying', 'that', 'I', 'am', 'short', 'on', 'my', 'payment', 'I', \"'ve\", 'even', 'had', 'foreclosure', 'paperwork', 'sent', 'to', 'me', 'I', \"'ve\", 'spoken', 'to', 'their', 'representatives', 'about', 'correcting', 'the', 'mistakes', 'Because', 'I', 'should', 'be', '2-3', 'months', 'ahead', 'of', 'my', 'payments', 'and', 'I', \"'ve\", 'put', 'extra', 'money', 'toward', 'principal', 'I', 'am', 'very', 'concerned', 'about', 'how', 'this', 'company', 'is', 'managing', 'my', 'payments', 'They', 'seem', 'to', 'adjust', 'things', 'randomly', 'They', 'should', 'at', 'least', 'know', 'that', 'I', 'am', 'not', 'behind', 'in', 'my', 'payments'])"
      ]
     },
     "execution_count": 6,
     "metadata": {},
     "output_type": "execute_result"
    }
   ],
   "source": [
    "blob.words"
   ]
  },
  {
   "cell_type": "code",
   "execution_count": 7,
   "metadata": {
    "collapsed": false
   },
   "outputs": [
    {
     "data": {
      "text/plain": [
       "[Sentence(\"Hello, My home mortgage is managed by PHH Loans XXXX My mortgage owed each month is roughly {$920.00}.\"),\n",
       " Sentence(\"I pay {$470.00} every XXXX weeks.\"),\n",
       " Sentence(\"So I pay extra, and at the end of the year I 'm usually a month to 6 weeks ahead in payments.\"),\n",
       " Sentence(\"So in the long run of 30 years, I 'll save thousands in interest and a few years off the loan.\"),\n",
       " Sentence(\"However, the mortgage company does not process my payments correctly.\"),\n",
       " Sentence(\"Every few months, I will received a call saying that I am short on my payment.\"),\n",
       " Sentence(\"I 've even had foreclosure paperwork sent to me.\"),\n",
       " Sentence(\"I 've spoken to their representatives about correcting the mistakes.\"),\n",
       " Sentence(\"Because I should be 2-3 months ahead of my payments, and I 've put extra money toward principal.\"),\n",
       " Sentence(\"I am very concerned about how this company is managing my payments.\"),\n",
       " Sentence(\"They seem to adjust things randomly.\"),\n",
       " Sentence(\"They should at least know that I am not behind in my payments.\")]"
      ]
     },
     "execution_count": 7,
     "metadata": {},
     "output_type": "execute_result"
    }
   ],
   "source": [
    "blob.sentences"
   ]
  },
  {
   "cell_type": "code",
   "execution_count": 8,
   "metadata": {
    "collapsed": false
   },
   "outputs": [
    {
     "data": {
      "text/plain": [
       "[('Hello', 'NNP'),\n",
       " ('My', 'NNP'),\n",
       " ('home', 'NN'),\n",
       " ('mortgage', 'NN'),\n",
       " ('is', 'VBZ'),\n",
       " ('managed', 'VBN'),\n",
       " ('by', 'IN'),\n",
       " ('PHH', 'NNP'),\n",
       " ('Loans', 'NNPS'),\n",
       " ('XXXX', 'NNP'),\n",
       " ('My', 'NNP'),\n",
       " ('mortgage', 'NN'),\n",
       " ('owed', 'VBD'),\n",
       " ('each', 'DT'),\n",
       " ('month', 'NN'),\n",
       " ('is', 'VBZ'),\n",
       " ('roughly', 'RB'),\n",
       " ('920.00', 'CD'),\n",
       " ('I', 'PRP'),\n",
       " ('pay', 'VBP'),\n",
       " ('470.00', 'CD'),\n",
       " ('every', 'DT'),\n",
       " ('XXXX', 'JJ'),\n",
       " ('weeks', 'NNS'),\n",
       " ('So', 'RB'),\n",
       " ('I', 'PRP'),\n",
       " ('pay', 'VBP'),\n",
       " ('extra', 'JJ'),\n",
       " ('and', 'CC'),\n",
       " ('at', 'IN'),\n",
       " ('the', 'DT'),\n",
       " ('end', 'NN'),\n",
       " ('of', 'IN'),\n",
       " ('the', 'DT'),\n",
       " ('year', 'NN'),\n",
       " ('I', 'PRP'),\n",
       " (\"'m\", 'VBP'),\n",
       " ('usually', 'RB'),\n",
       " ('a', 'DT'),\n",
       " ('month', 'NN'),\n",
       " ('to', 'TO'),\n",
       " ('6', 'CD'),\n",
       " ('weeks', 'NNS'),\n",
       " ('ahead', 'RB'),\n",
       " ('in', 'IN'),\n",
       " ('payments', 'NNS'),\n",
       " ('So', 'RB'),\n",
       " ('in', 'IN'),\n",
       " ('the', 'DT'),\n",
       " ('long', 'JJ'),\n",
       " ('run', 'NN'),\n",
       " ('of', 'IN'),\n",
       " ('30', 'CD'),\n",
       " ('years', 'NNS'),\n",
       " ('I', 'PRP'),\n",
       " (\"'ll\", 'MD'),\n",
       " ('save', 'VB'),\n",
       " ('thousands', 'NNS'),\n",
       " ('in', 'IN'),\n",
       " ('interest', 'NN'),\n",
       " ('and', 'CC'),\n",
       " ('a', 'DT'),\n",
       " ('few', 'JJ'),\n",
       " ('years', 'NNS'),\n",
       " ('off', 'IN'),\n",
       " ('the', 'DT'),\n",
       " ('loan', 'NN'),\n",
       " ('However', 'RB'),\n",
       " ('the', 'DT'),\n",
       " ('mortgage', 'NN'),\n",
       " ('company', 'NN'),\n",
       " ('does', 'VBZ'),\n",
       " ('not', 'RB'),\n",
       " ('process', 'VB'),\n",
       " ('my', 'PRP$'),\n",
       " ('payments', 'NNS'),\n",
       " ('correctly', 'RB'),\n",
       " ('Every', 'DT'),\n",
       " ('few', 'JJ'),\n",
       " ('months', 'NNS'),\n",
       " ('I', 'PRP'),\n",
       " ('will', 'MD'),\n",
       " ('received', 'VB'),\n",
       " ('a', 'DT'),\n",
       " ('call', 'NN'),\n",
       " ('saying', 'VBG'),\n",
       " ('that', 'IN'),\n",
       " ('I', 'PRP'),\n",
       " ('am', 'VBP'),\n",
       " ('short', 'JJ'),\n",
       " ('on', 'IN'),\n",
       " ('my', 'PRP$'),\n",
       " ('payment', 'NN'),\n",
       " ('I', 'PRP'),\n",
       " (\"'ve\", 'VBP'),\n",
       " ('even', 'RB'),\n",
       " ('had', 'VBD'),\n",
       " ('foreclosure', 'NN'),\n",
       " ('paperwork', 'NN'),\n",
       " ('sent', 'VBD'),\n",
       " ('to', 'TO'),\n",
       " ('me', 'PRP'),\n",
       " ('I', 'PRP'),\n",
       " (\"'ve\", 'VBP'),\n",
       " ('spoken', 'VBN'),\n",
       " ('to', 'TO'),\n",
       " ('their', 'PRP$'),\n",
       " ('representatives', 'NNS'),\n",
       " ('about', 'IN'),\n",
       " ('correcting', 'VBG'),\n",
       " ('the', 'DT'),\n",
       " ('mistakes', 'NNS'),\n",
       " ('Because', 'IN'),\n",
       " ('I', 'PRP'),\n",
       " ('should', 'MD'),\n",
       " ('be', 'VB'),\n",
       " ('2-3', 'JJ'),\n",
       " ('months', 'NNS'),\n",
       " ('ahead', 'RB'),\n",
       " ('of', 'IN'),\n",
       " ('my', 'PRP$'),\n",
       " ('payments', 'NNS'),\n",
       " ('and', 'CC'),\n",
       " ('I', 'PRP'),\n",
       " (\"'ve\", 'VBP'),\n",
       " ('put', 'VBN'),\n",
       " ('extra', 'JJ'),\n",
       " ('money', 'NN'),\n",
       " ('toward', 'IN'),\n",
       " ('principal', 'NN'),\n",
       " ('I', 'PRP'),\n",
       " ('am', 'VBP'),\n",
       " ('very', 'RB'),\n",
       " ('concerned', 'JJ'),\n",
       " ('about', 'IN'),\n",
       " ('how', 'WRB'),\n",
       " ('this', 'DT'),\n",
       " ('company', 'NN'),\n",
       " ('is', 'VBZ'),\n",
       " ('managing', 'VBG'),\n",
       " ('my', 'PRP$'),\n",
       " ('payments', 'NNS'),\n",
       " ('They', 'PRP'),\n",
       " ('seem', 'VBP'),\n",
       " ('to', 'TO'),\n",
       " ('adjust', 'VB'),\n",
       " ('things', 'NNS'),\n",
       " ('randomly', 'RB'),\n",
       " ('They', 'PRP'),\n",
       " ('should', 'MD'),\n",
       " ('at', 'IN'),\n",
       " ('least', 'JJS'),\n",
       " ('know', 'VBP'),\n",
       " ('that', 'IN'),\n",
       " ('I', 'PRP'),\n",
       " ('am', 'VBP'),\n",
       " ('not', 'RB'),\n",
       " ('behind', 'IN'),\n",
       " ('in', 'IN'),\n",
       " ('my', 'PRP$'),\n",
       " ('payments', 'NNS')]"
      ]
     },
     "execution_count": 8,
     "metadata": {},
     "output_type": "execute_result"
    }
   ],
   "source": [
    "blob.tags"
   ]
  },
  {
   "cell_type": "code",
   "execution_count": 9,
   "metadata": {
    "collapsed": false
   },
   "outputs": [
    {
     "data": {
      "text/plain": [
       "WordList(['hello', 'home mortgage', 'phh loans xxxx', '{ $', '{ $', 'xxxx', 'long run', 'mortgage company', 'foreclosure paperwork', 'extra money'])"
      ]
     },
     "execution_count": 9,
     "metadata": {},
     "output_type": "execute_result"
    }
   ],
   "source": [
    "blob.noun_phrases"
   ]
  },
  {
   "cell_type": "code",
   "execution_count": 10,
   "metadata": {
    "collapsed": false
   },
   "outputs": [
    {
     "data": {
      "text/plain": [
       "Sentiment(polarity=-0.10000000000000002, subjectivity=0.3041666666666667)"
      ]
     },
     "execution_count": 10,
     "metadata": {},
     "output_type": "execute_result"
    }
   ],
   "source": [
    "blob.sentiment"
   ]
  },
  {
   "cell_type": "code",
   "execution_count": 11,
   "metadata": {
    "collapsed": false
   },
   "outputs": [
    {
     "data": {
      "text/plain": [
       "-0.10000000000000002"
      ]
     },
     "execution_count": 11,
     "metadata": {},
     "output_type": "execute_result"
    }
   ],
   "source": [
    "blob.sentiment.polarity"
   ]
  },
  {
   "cell_type": "code",
   "execution_count": null,
   "metadata": {
    "collapsed": true
   },
   "outputs": [],
   "source": []
  }
 ],
 "metadata": {
  "kernelspec": {
   "display_name": "Python 3",
   "language": "python",
   "name": "python3"
  }
 },
 "nbformat": 4,
 "nbformat_minor": 2
}
