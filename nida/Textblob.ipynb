{
 "cells": [
  {
   "cell_type": "code",
   "execution_count": 17,
   "metadata": {
    "collapsed": false
   },
   "outputs": [],
   "source": [
    "from textblob import TextBlob\n",
    "text=\"My husband asked me to sign some loan documents to help him refinance his home loan. He stated that I had to be on the title for the refinance. When the papers were brought to me, they had the wrong name on them. I never took my husbands name and my driver 's license specified my maiden name. I was told by him and the notary to sign the documents anyway even though I protested.\"\n",
    "blob=TextBlob(text)"
   ]
  },
  {
   "cell_type": "code",
   "execution_count": 18,
   "metadata": {
    "collapsed": false
   },
   "outputs": [
    {
     "data": {
      "text/plain": [
       "TextBlob(\"My husband asked me to sign some loan documents to help him refinance his home loan. He stated that I had to be on the title for the refinance. When the papers were brought to me, they had the wrong name on them. I never took my husbands name and my driver 's license specified my maiden name. I was told by him and the notary to sign the documents anyway even though I protested.\")"
      ]
     },
     "execution_count": 18,
     "metadata": {},
     "output_type": "execute_result"
    }
   ],
   "source": [
    "blob"
   ]
  },
  {
   "cell_type": "code",
   "execution_count": 19,
   "metadata": {
    "collapsed": false
   },
   "outputs": [
    {
     "data": {
      "text/plain": [
       "WordList(['My', 'husband', 'asked', 'me', 'to', 'sign', 'some', 'loan', 'documents', 'to', 'help', 'him', 'refinance', 'his', 'home', 'loan', 'He', 'stated', 'that', 'I', 'had', 'to', 'be', 'on', 'the', 'title', 'for', 'the', 'refinance', 'When', 'the', 'papers', 'were', 'brought', 'to', 'me', 'they', 'had', 'the', 'wrong', 'name', 'on', 'them', 'I', 'never', 'took', 'my', 'husbands', 'name', 'and', 'my', 'driver', \"'s\", 'license', 'specified', 'my', 'maiden', 'name', 'I', 'was', 'told', 'by', 'him', 'and', 'the', 'notary', 'to', 'sign', 'the', 'documents', 'anyway', 'even', 'though', 'I', 'protested'])"
      ]
     },
     "execution_count": 19,
     "metadata": {},
     "output_type": "execute_result"
    }
   ],
   "source": [
    "blob.words"
   ]
  },
  {
   "cell_type": "code",
   "execution_count": 20,
   "metadata": {
    "collapsed": false
   },
   "outputs": [
    {
     "data": {
      "text/plain": [
       "[Sentence(\"My husband asked me to sign some loan documents to help him refinance his home loan.\"),\n",
       " Sentence(\"He stated that I had to be on the title for the refinance.\"),\n",
       " Sentence(\"When the papers were brought to me, they had the wrong name on them.\"),\n",
       " Sentence(\"I never took my husbands name and my driver 's license specified my maiden name.\"),\n",
       " Sentence(\"I was told by him and the notary to sign the documents anyway even though I protested.\")]"
      ]
     },
     "execution_count": 20,
     "metadata": {},
     "output_type": "execute_result"
    }
   ],
   "source": [
    "blob.sentences"
   ]
  },
  {
   "cell_type": "code",
   "execution_count": 21,
   "metadata": {
    "collapsed": false
   },
   "outputs": [
    {
     "data": {
      "text/plain": [
       "[('My', 'PRP$'),\n",
       " ('husband', 'NN'),\n",
       " ('asked', 'VBD'),\n",
       " ('me', 'PRP'),\n",
       " ('to', 'TO'),\n",
       " ('sign', 'VB'),\n",
       " ('some', 'DT'),\n",
       " ('loan', 'NN'),\n",
       " ('documents', 'NNS'),\n",
       " ('to', 'TO'),\n",
       " ('help', 'VB'),\n",
       " ('him', 'PRP'),\n",
       " ('refinance', 'VB'),\n",
       " ('his', 'PRP$'),\n",
       " ('home', 'NN'),\n",
       " ('loan', 'NN'),\n",
       " ('He', 'PRP'),\n",
       " ('stated', 'VBD'),\n",
       " ('that', 'IN'),\n",
       " ('I', 'PRP'),\n",
       " ('had', 'VBD'),\n",
       " ('to', 'TO'),\n",
       " ('be', 'VB'),\n",
       " ('on', 'IN'),\n",
       " ('the', 'DT'),\n",
       " ('title', 'NN'),\n",
       " ('for', 'IN'),\n",
       " ('the', 'DT'),\n",
       " ('refinance', 'NN'),\n",
       " ('When', 'WRB'),\n",
       " ('the', 'DT'),\n",
       " ('papers', 'NNS'),\n",
       " ('were', 'VBD'),\n",
       " ('brought', 'VBN'),\n",
       " ('to', 'TO'),\n",
       " ('me', 'PRP'),\n",
       " ('they', 'PRP'),\n",
       " ('had', 'VBD'),\n",
       " ('the', 'DT'),\n",
       " ('wrong', 'JJ'),\n",
       " ('name', 'NN'),\n",
       " ('on', 'IN'),\n",
       " ('them', 'PRP'),\n",
       " ('I', 'PRP'),\n",
       " ('never', 'RB'),\n",
       " ('took', 'VBD'),\n",
       " ('my', 'PRP$'),\n",
       " ('husbands', 'NNS'),\n",
       " ('name', 'NN'),\n",
       " ('and', 'CC'),\n",
       " ('my', 'PRP$'),\n",
       " ('driver', 'NN'),\n",
       " (\"'s\", 'POS'),\n",
       " ('license', 'NN'),\n",
       " ('specified', 'VBD'),\n",
       " ('my', 'PRP$'),\n",
       " ('maiden', 'JJ'),\n",
       " ('name', 'NN'),\n",
       " ('I', 'PRP'),\n",
       " ('was', 'VBD'),\n",
       " ('told', 'VBN'),\n",
       " ('by', 'IN'),\n",
       " ('him', 'PRP'),\n",
       " ('and', 'CC'),\n",
       " ('the', 'DT'),\n",
       " ('notary', 'JJ'),\n",
       " ('to', 'TO'),\n",
       " ('sign', 'VB'),\n",
       " ('the', 'DT'),\n",
       " ('documents', 'NNS'),\n",
       " ('anyway', 'RB'),\n",
       " ('even', 'RB'),\n",
       " ('though', 'IN'),\n",
       " ('I', 'PRP'),\n",
       " ('protested', 'VBD')]"
      ]
     },
     "execution_count": 21,
     "metadata": {},
     "output_type": "execute_result"
    }
   ],
   "source": [
    "blob.tags"
   ]
  },
  {
   "cell_type": "code",
   "execution_count": 22,
   "metadata": {
    "collapsed": false
   },
   "outputs": [
    {
     "data": {
      "text/plain": [
       "WordList(['loan documents', 'home loan', 'wrong name', 'husbands name', \"driver 's license\", 'maiden name'])"
      ]
     },
     "execution_count": 22,
     "metadata": {},
     "output_type": "execute_result"
    }
   ],
   "source": [
    "blob.noun_phrases"
   ]
  },
  {
   "cell_type": "code",
   "execution_count": 23,
   "metadata": {
    "collapsed": false
   },
   "outputs": [
    {
     "data": {
      "text/plain": [
       "Sentiment(polarity=-0.5, subjectivity=0.9)"
      ]
     },
     "execution_count": 23,
     "metadata": {},
     "output_type": "execute_result"
    }
   ],
   "source": [
    "blob.sentiment"
   ]
  },
  {
   "cell_type": "code",
   "execution_count": 24,
   "metadata": {
    "collapsed": false
   },
   "outputs": [
    {
     "data": {
      "text/plain": [
       "-0.5"
      ]
     },
     "execution_count": 24,
     "metadata": {},
     "output_type": "execute_result"
    }
   ],
   "source": [
    "blob.sentiment.polarity"
   ]
  },
  {
   "cell_type": "code",
   "execution_count": 25,
   "metadata": {
    "collapsed": true
   },
   "outputs": [],
   "source": [
    "text1=\"I was late on my mortgage payments and decided to sell my property, however I have a XXXX tax lien hold that I have been trying to clear form IRS as a lien hold on my house, NOW that I have finally fixed the issue and have a buyer that will buy my house AS IS, the lender Wells Fargo is NOT being cooperative and taking too long for the process plus they have put me in FORECLOSURE status and NOT willing to extend my DUE date of XXXX XXXX 2016 ... On top of HOLIDAYS!!\""
   ]
  },
  {
   "cell_type": "code",
   "execution_count": 27,
   "metadata": {
    "collapsed": false
   },
   "outputs": [
    {
     "data": {
      "text/plain": [
       "TextBlob(\"I was late on my mortgage payments and decided to sell my property, however I have a XXXX tax lien hold that I have been trying to clear form IRS as a lien hold on my house, NOW that I have finally fixed the issue and have a buyer that will buy my house AS IS, the lender Wells Fargo is NOT being cooperative and taking too long for the process plus they have put me in FORECLOSURE status and NOT willing to extend my DUE date of XXXX XXXX 2016 ... On top of HOLIDAYS!!\")"
      ]
     },
     "execution_count": 27,
     "metadata": {},
     "output_type": "execute_result"
    }
   ],
   "source": [
    "blob=TextBlob(text1)\n",
    "blob"
   ]
  },
  {
   "cell_type": "code",
   "execution_count": 28,
   "metadata": {
    "collapsed": false
   },
   "outputs": [
    {
     "data": {
      "text/plain": [
       "Sentiment(polarity=0.05446428571428572, subjectivity=0.45833333333333337)"
      ]
     },
     "execution_count": 28,
     "metadata": {},
     "output_type": "execute_result"
    }
   ],
   "source": [
    "blob.sentiment"
   ]
  },
  {
   "cell_type": "code",
   "execution_count": null,
   "metadata": {
    "collapsed": true
   },
   "outputs": [],
   "source": []
  }
 ],
 "metadata": {
  "kernelspec": {
   "display_name": "Python 3",
   "language": "python",
   "name": "python3"
  },
  "language_info": {
   "codemirror_mode": {
    "name": "ipython",
    "version": 3
   },
   "file_extension": ".py",
   "mimetype": "text/x-python",
   "name": "python",
   "nbconvert_exporter": "python",
   "pygments_lexer": "ipython3",
   "version": "3.6.0"
  }
 },
 "nbformat": 4,
 "nbformat_minor": 2
}
