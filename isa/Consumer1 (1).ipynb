{
 "cells": [
  {
   "cell_type": "code",
   "execution_count": null,
   "metadata": {},
   "outputs": [],
   "source": [
    "# Auto commit setup.\n",
    "import time\n",
    "from kafka import KafkaConsumer\n",
    "import json\n",
    "from kafka import TopicPartition\n",
    "\n",
    "consumer1 = KafkaConsumer(\n",
    "    bootstrap_servers=['localhost:9092'],\n",
    "    #auto_offset_reset='earliest',         #To pull messages starting from earliest arrived.\n",
    "    #client_id=KAFKA_CONSUMER_CLIENT_ID,\n",
    "    group_id=\"test_group\",\n",
    "    enable_auto_commit=True,\n",
    "    auto_commit_interval_ms=1000*5,       #Auto commit every 5 seconds on next message fetch.\n",
    "    api_version=(0,9),value_deserializer=lambda m:json.loads(m.decode('ascii'))\n",
    ")\n",
    "\n",
    "\n",
    "consumer1.subscribe(['new-topic'])\n",
    " \n",
    "for msg in consumer1:\n",
    "    print(msg.value,msg.)\n",
    "    time.sleep(1)"
   ]
  },
  {
   "cell_type": "code",
   "execution_count": null,
   "metadata": {
    "collapsed": true
   },
   "outputs": [],
   "source": []
  }
 ],
 "metadata": {
  "kernelspec": {
   "display_name": "Python 3",
   "language": "python",
   "name": "python3"
  },
  "language_info": {
   "codemirror_mode": {
    "name": "ipython",
    "version": 3
   },
   "file_extension": ".py",
   "mimetype": "text/x-python",
   "name": "python",
   "nbconvert_exporter": "python",
   "pygments_lexer": "ipython3",
   "version": "3.6.4"
  }
 },
 "nbformat": 4,
 "nbformat_minor": 2
}
