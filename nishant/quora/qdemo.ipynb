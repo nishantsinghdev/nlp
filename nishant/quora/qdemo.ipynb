{
 "cells": [
  {
   "cell_type": "code",
   "execution_count": 1,
   "metadata": {
    "collapsed": true
   },
   "outputs": [],
   "source": [
    "from selenium import webdriver\n",
    "from selenium.webdriver.chrome.options import Options\n",
    "import time\n",
    "from selenium.webdriver.common.keys import Keys"
   ]
  },
  {
   "cell_type": "code",
   "execution_count": 2,
   "metadata": {
    "collapsed": true
   },
   "outputs": [],
   "source": [
    "def getBrowser():\n",
    "    chrome_options = Options()\n",
    "    chrome_options.add_argument(\"--headless\")\n",
    "    chrome_options.add_argument('--disable-gpu')\n",
    "    chrome_options.add_argument(\"--window-size=1920x1080\")\n",
    "    chrome_driver = \"C:\\\\Users\\\\arvin\\\\Documents\\\\GitHub\\\\nlp\\\\nishant\\\\quora\\\\Drivers\\\\chromedriver_Windows.exe\"\n",
    "\n",
    "    browser = webdriver.Chrome(chrome_options=chrome_options, executable_path=chrome_driver)\n",
    "    return browser"
   ]
  },
  {
   "cell_type": "code",
   "execution_count": 3,
   "metadata": {
    "collapsed": false
   },
   "outputs": [],
   "source": [
    "import re\n",
    "\n",
    "def getNumList(msg=\"\", sep=True):\n",
    "    nlist = []\n",
    "    if msg==\"\":\n",
    "        return nlist\n",
    "    if sep==False:\n",
    "        reg = re.findall(r'\\d+', msg)\n",
    "    else:\n",
    "        reg = re.findall(r'\\b\\d+\\b', msg)\n",
    "    for i in reg:\n",
    "        nlist.append(int(i))\n",
    "    \n",
    "    return nlist\n",
    "\n",
    "\n",
    "from urlvalidator import validate_url, validate_email, ValidationError\n",
    "def isUrl(link=\"\"):\n",
    "    try:\n",
    "        validate_url(link)\n",
    "    except ValidationError:\n",
    "        #raise ValidationError(\"Invalid URL\")\n",
    "        return False\n",
    "    \n",
    "    return True\n"
   ]
  },
  {
   "cell_type": "code",
   "execution_count": 4,
   "metadata": {
    "collapsed": false,
    "scrolled": true
   },
   "outputs": [
    {
     "name": "stdout",
     "output_type": "stream",
     "text": [
      "4\n",
      "\n",
      "[4, 80, 2]\n",
      "\n",
      "[3, 0, 4, 80, 2, 1]\n"
     ]
    }
   ],
   "source": [
    "print(getNumList(\"He003ll0oo 4, 080 and 2 by1e.\")[0], end=\"\\n\\n\")\n",
    "print(getNumList(\"He003ll0oo 4, 080 and 2 by1e.\"), end=\"\\n\\n\")\n",
    "print(getNumList(\"He003ll0oo 4, 080 and 2 by1e.\", False))"
   ]
  },
  {
   "cell_type": "code",
   "execution_count": 5,
   "metadata": {
    "collapsed": false,
    "scrolled": true
   },
   "outputs": [
    {
     "data": {
      "text/plain": [
       "True"
      ]
     },
     "execution_count": 5,
     "metadata": {},
     "output_type": "execute_result"
    }
   ],
   "source": [
    "isUrl(\"http://localhost:6060/\")"
   ]
  },
  {
   "cell_type": "code",
   "execution_count": 6,
   "metadata": {
    "collapsed": false
   },
   "outputs": [],
   "source": [
    "def getQlinks(url=\"\", qno=0):\n",
    "    qlist = []\n",
    "    ans_links = []\n",
    "    if url==\"\" or isUrl(url)==False or qno<=0:\n",
    "        return (qlist, ans_links)\n",
    "    qno = int(qno)\n",
    "    \n",
    "    browser = getBrowser()\n",
    "    browser.get(url)\n",
    "    body=browser.find_element_by_tag_name('body')\n",
    "    for i in range(qno):\n",
    "        body.send_keys(Keys.PAGE_DOWN)\n",
    "        time.sleep(1.5)\n",
    "    questions=browser.find_elements_by_class_name('question_link')\n",
    "    n=1\n",
    "    for question in questions:\n",
    "        qlist.append(question.text)\n",
    "        ans_links.append(question.get_property('href'))\n",
    "        #print(str(n)+\".) \"+question.text)\n",
    "        #print(\"Link : \"+question.get_property('href'), end=\"\\n\\n\")\n",
    "        n += 1\n",
    "        if n==qno+1:\n",
    "            break\n",
    "    browser.quit()\n",
    "    return (qlist, ans_links)"
   ]
  },
  {
   "cell_type": "code",
   "execution_count": 7,
   "metadata": {
    "collapsed": false
   },
   "outputs": [
    {
     "name": "stdout",
     "output_type": "stream",
     "text": [
      "Questions :-\n",
      "==========\n",
      "1.) Why do many middle and lower middle class people in the US mortgage a house then put it up for rent (as an investment) but most wealthy people do not?\n",
      "2.) How does the US mortgage interest tax deduction work?\n",
      "3.) Why are US mortgage rates going up after the election?\n",
      "4.) What is the size of the us mortgage market?\n",
      "5.) What will happen to US mortgage rates after the 2012 State of the Union address?\n",
      "6.) How many mortgage pools are there in the US mortgage market by agencies?\n",
      "7.) What is the latest technology in US Mortgage industry?\n",
      "8.) How much does a US Mortgage Underwriter earn In Mumbai?\n",
      "9.) Does the US mortgage interest deduction make economic sense?\n",
      "10.) How will the Massachussetts ruling on the validity of mortgage transfers in securitizations affect the US mortgage securitization industry?\n",
      "11.) What fraction of US mortgages are floating rate? What is the dollar value of these outstanding debts?\n",
      "12.) What is the job profile for US mortgage position in Indian BPO companies?\n",
      "\n",
      "Answer Links :-\n",
      "============\n",
      "1.) https://www.quora.com/Why-do-many-middle-and-lower-middle-class-people-in-the-US-mortgage-a-house-then-put-it-up-for-rent-as-an-investment-but-most-wealthy-people-do-not\n",
      "2.) https://www.quora.com/How-does-the-US-mortgage-interest-tax-deduction-work\n",
      "3.) https://www.quora.com/Why-are-US-mortgage-rates-going-up-after-the-election\n",
      "4.) https://www.quora.com/What-is-the-size-of-the-us-mortgage-market\n",
      "5.) https://www.quora.com/unanswered/What-will-happen-to-US-mortgage-rates-after-the-2012-State-of-the-Union-address\n",
      "6.) https://www.quora.com/How-many-mortgage-pools-are-there-in-the-US-mortgage-market-by-agencies\n",
      "7.) https://www.quora.com/unanswered/What-is-the-latest-technology-in-US-Mortgage-industry\n",
      "8.) https://www.quora.com/unanswered/How-much-does-a-US-Mortgage-Underwriter-earn-In-Mumbai\n",
      "9.) https://www.quora.com/Does-the-US-mortgage-interest-deduction-make-economic-sense\n",
      "10.) https://www.quora.com/unanswered/How-will-the-Massachussetts-ruling-on-the-validity-of-mortgage-transfers-in-securitizations-affect-the-US-mortgage-securitization-industry\n",
      "11.) https://www.quora.com/What-fraction-of-US-mortgages-are-floating-rate-What-is-the-dollar-value-of-these-outstanding-debts\n",
      "12.) https://www.quora.com/unanswered/What-is-the-job-profile-for-US-mortgage-position-in-Indian-BPO-companies\n",
      "\n"
     ]
    }
   ],
   "source": [
    "questions, links = getQlinks('https://www.quora.com//search?q=US+Mortgage', 12)\n",
    "\n",
    "print(\"Questions :-\\n==========\")\n",
    "i = 1\n",
    "for q in questions:\n",
    "    print(str(i)+\".)\",q)\n",
    "    i+=1\n",
    "print()\n",
    "\n",
    "print(\"Answer Links :-\\n============\")\n",
    "i = 1\n",
    "for ln in links:\n",
    "    print(str(i)+\".)\",ln)\n",
    "    i+=1\n",
    "print()"
   ]
  },
  {
   "cell_type": "code",
   "execution_count": 8,
   "metadata": {
    "collapsed": false
   },
   "outputs": [
    {
     "data": {
      "text/plain": [
       "([], [])"
      ]
     },
     "execution_count": 8,
     "metadata": {},
     "output_type": "execute_result"
    }
   ],
   "source": [
    "getQlinks('fsfsfsf', 2)"
   ]
  },
  {
   "cell_type": "code",
   "execution_count": 9,
   "metadata": {
    "collapsed": true
   },
   "outputs": [],
   "source": [
    "def getAns(url=\"\"):\n",
    "    alist = []\n",
    "    # ano = 0\n",
    "    \n",
    "    if url==\"\" or isUrl(url)==False:\n",
    "        return alist\n",
    "    \n",
    "    browser = getBrowser()\n",
    "    browser.get(url)\n",
    "    body=browser.find_element_by_tag_name('body')\n",
    "    \n",
    "    try:\n",
    "        ano = browser.find_elements_by_class_name('answer_count')[0].text\n",
    "        ano = int(getNumList(ano)[0])\n",
    "    except IndexError:\n",
    "        ano = 0\n",
    "        \n",
    "    # return(\"Total no. of Anss = %s\" % ano)\n",
    "    \n",
    "    for i in range(ano):\n",
    "        body.send_keys(Keys.PAGE_DOWN)\n",
    "        time.sleep(1.5)\n",
    "    \n",
    "    comment_2 = '''\n",
    "    if qno==0:\n",
    "        return alist\n",
    "    '''\n",
    "    \n",
    "    n = 1\n",
    "    answers = browser.find_elements_by_xpath(\"//span[@class='ui_qtext_rendered_qtext']\")\n",
    "    for answer in answers:\n",
    "        alist.append((answer.text).replace(\"\\n\\n\",\"\\n\").replace(\"\\n \\n\",\"\\n\").replace(\"\\n\",\"\\n\\n\"))\n",
    "        \n",
    "        n += 1\n",
    "        if n==ano+1:\n",
    "            break\n",
    "    \n",
    "    return alist\n",
    "    #'''\n",
    "    "
   ]
  },
  {
   "cell_type": "code",
   "execution_count": 10,
   "metadata": {
    "collapsed": false
   },
   "outputs": [
    {
     "data": {
      "text/plain": [
       "[]"
      ]
     },
     "execution_count": 10,
     "metadata": {},
     "output_type": "execute_result"
    }
   ],
   "source": [
    "getAns('sfsffs')"
   ]
  },
  {
   "cell_type": "code",
   "execution_count": 11,
   "metadata": {
    "collapsed": false
   },
   "outputs": [
    {
     "name": "stdout",
     "output_type": "stream",
     "text": [
      "['In the GSE space, Loans are assembled into groups of similar features. (term, origination date, interest rate, credit quality) and securitized into Pools, in that process a sliver of interest is peeled off and paid to FRE, FNM, as an insurance premium so that if a loan goes bad, FRE/FNM buy the offending loan out of the pool at face value. The market quotes pricing for the entire cohort of pools (rate, term, guarantor) w/ similar stats, and all of those pools are deliverable into that generic bid.\\n\\nAbout 300 loans create a pool, there are north of 1 million individual pools but they are quoted in roughly 3 groups (FRE/FNM/GNM), 7 rates (2.5,3,3.5,4,4.5,5), 2 original terms (15y and 30y) and 6 vintages (2012 thru 2017). There are of course other subsets (20y, older vintages, higher and lower cpns, Adjustable rates, etc.) but these cover the vast majority of the market.\\n\\nThose tickers in your question denote guarantor and original term (FH30y), an example TBA price quote would be FH 30y 3.5% for May Settle. Many, many pools fit the delivery guidelines of that TBA bid.\\n\\nI’ll try to grab a table showing the exact breakdown of loans/pools per guarantor etc.\\n\\n(BTW, Pools get aggregated into larger pools as well as ReSecuritizarions that create various classes of securities w/ competing payment priorities relative to one another. The REMIC market)\\n\\nLoan>Pool>Group Pools>REMIC>reREMIC', 'The number of outstanding agency mbs pools with loans as collateral are as follows:\\n\\nFannie Mae: 510,000 (459k fixed rate, 49k arms)\\n\\nFreddie Mac: 272,000 (245k fixed, 26k arms)\\n\\nGinnie Mae: 241,000 (231k fixed, 9k arms)\\n\\nTotal: 1,022,521\\n\\nYtd, 53,420 pools have been issued, 24,977 FNMA, 13,144 Freddie, 15,299 Ginnie Mae', 'Mortgage outsourcing & BPO specialists Nexval brings over two decades of rich experience in providing global mortgage, technology outsourcing and IT services.']\n"
     ]
    }
   ],
   "source": [
    "ans = getAns('https://www.quora.com/How-many-mortgage-pools-are-there-in-the-US-mortgage-market-by-agencies')\n",
    "print(ans)"
   ]
  },
  {
   "cell_type": "code",
   "execution_count": 12,
   "metadata": {
    "collapsed": false,
    "scrolled": true
   },
   "outputs": [
    {
     "name": "stdout",
     "output_type": "stream",
     "text": [
      "No. of Answers = 3\n",
      "\n",
      "\n",
      "Ans No. - 1\n",
      "===========\n",
      "In the GSE space, Loans are assembled into groups of similar features. (term, origination date, interest rate, credit quality) and securitized into Pools, in that process a sliver of interest is peeled off and paid to FRE, FNM, as an insurance premium so that if a loan goes bad, FRE/FNM buy the offending loan out of the pool at face value. The market quotes pricing for the entire cohort of pools (rate, term, guarantor) w/ similar stats, and all of those pools are deliverable into that generic bid.\n",
      "\n",
      "About 300 loans create a pool, there are north of 1 million individual pools but they are quoted in roughly 3 groups (FRE/FNM/GNM), 7 rates (2.5,3,3.5,4,4.5,5), 2 original terms (15y and 30y) and 6 vintages (2012 thru 2017). There are of course other subsets (20y, older vintages, higher and lower cpns, Adjustable rates, etc.) but these cover the vast majority of the market.\n",
      "\n",
      "Those tickers in your question denote guarantor and original term (FH30y), an example TBA price quote would be FH 30y 3.5% for May Settle. Many, many pools fit the delivery guidelines of that TBA bid.\n",
      "\n",
      "I’ll try to grab a table showing the exact breakdown of loans/pools per guarantor etc.\n",
      "\n",
      "(BTW, Pools get aggregated into larger pools as well as ReSecuritizarions that create various classes of securities w/ competing payment priorities relative to one another. The REMIC market)\n",
      "\n",
      "Loan>Pool>Group Pools>REMIC>reREMIC\n",
      "\n",
      "Ans No. - 2\n",
      "===========\n",
      "The number of outstanding agency mbs pools with loans as collateral are as follows:\n",
      "\n",
      "Fannie Mae: 510,000 (459k fixed rate, 49k arms)\n",
      "\n",
      "Freddie Mac: 272,000 (245k fixed, 26k arms)\n",
      "\n",
      "Ginnie Mae: 241,000 (231k fixed, 9k arms)\n",
      "\n",
      "Total: 1,022,521\n",
      "\n",
      "Ytd, 53,420 pools have been issued, 24,977 FNMA, 13,144 Freddie, 15,299 Ginnie Mae\n",
      "\n",
      "Ans No. - 3\n",
      "===========\n",
      "Mortgage outsourcing & BPO specialists Nexval brings over two decades of rich experience in providing global mortgage, technology outsourcing and IT services.\n",
      "\n"
     ]
    }
   ],
   "source": [
    "#print(len(ans))\n",
    "print(\"No. of Answers = %s\\n\\n\" % len(ans))\n",
    "\n",
    "i=1\n",
    "for a in ans:\n",
    "    print(\"Ans No. - %s\\n===========\\n%s\\n\" % (i, a))\n",
    "    i+=1"
   ]
  },
  {
   "cell_type": "code",
   "execution_count": 13,
   "metadata": {
    "collapsed": true
   },
   "outputs": [],
   "source": [
    "def getBestAns(url=\"\"):\n",
    "    alist = []\n",
    "    vlist = []\n",
    "    max_view_pos = 0\n",
    "    best_ans = \"\"\n",
    "    ano = 0\n",
    "    \n",
    "    if url==\"\" or isUrl(url)==False:\n",
    "        return best_ans\n",
    "    \n",
    "    browser = getBrowser()\n",
    "    browser.get(url)\n",
    "    body=browser.find_element_by_tag_name('body')\n",
    "    \n",
    "    try:\n",
    "        ano = browser.find_elements_by_class_name('answer_count')[0].text\n",
    "        ano = int(getNumList(ano)[0])\n",
    "    except IndexError:\n",
    "        ano = 0\n",
    "    \n",
    "    for i in range(ano):\n",
    "        body.send_keys(Keys.PAGE_DOWN)\n",
    "        time.sleep(1.5)\n",
    "    \n",
    "    qno = browser.find_elements_by_class_name('answer_count')[0].text\n",
    "    qno = int(getNumList(qno)[0])\n",
    "    \n",
    "    #return(\"Total no. of Anss = %s\" % qno)\n",
    "    \n",
    "    #comm = '''\n",
    "    if qno==0:\n",
    "        return best_ans\n",
    "    #'''\n",
    "    \n",
    "    #com2 = '''\n",
    "    answers = browser.find_elements_by_xpath(\"//span[@class='ui_qtext_rendered_qtext']\")\n",
    "    for answer in answers:\n",
    "        alist.append((answer.text).replace(\"\\n\",\"\\n\\n\"))\n",
    "    \n",
    "    #return alist\n",
    "    #'''\n",
    "    \n",
    "    views = browser.find_elements_by_xpath(\"//span[@class='meta_num']\")\n",
    "    \n",
    "    for v in views:\n",
    "        vlist.append(getNumList(v.text)[0])\n",
    "    \n",
    "    max_view_pos = vlist.index(max(vlist))\n",
    "    best_ans = alist[max_view_pos]\n",
    "    return best_ans\n",
    "    #return vlist\n",
    "    #'''"
   ]
  },
  {
   "cell_type": "code",
   "execution_count": 14,
   "metadata": {
    "collapsed": false
   },
   "outputs": [],
   "source": [
    "bans = getBestAns('https://www.quora.com/How-many-mortgage-pools-are-there-in-the-US-mortgage-market-by-agencies')"
   ]
  },
  {
   "cell_type": "code",
   "execution_count": 15,
   "metadata": {
    "collapsed": false
   },
   "outputs": [
    {
     "name": "stdout",
     "output_type": "stream",
     "text": [
      "In the GSE space, Loans are assembled into groups of similar features. (term, origination date, interest rate, credit quality) and securitized into Pools, in that process a sliver of interest is peeled off and paid to FRE, FNM, as an insurance premium so that if a loan goes bad, FRE/FNM buy the offending loan out of the pool at face value. The market quotes pricing for the entire cohort of pools (rate, term, guarantor) w/ similar stats, and all of those pools are deliverable into that generic bid.\n",
      "\n",
      "About 300 loans create a pool, there are north of 1 million individual pools but they are quoted in roughly 3 groups (FRE/FNM/GNM), 7 rates (2.5,3,3.5,4,4.5,5), 2 original terms (15y and 30y) and 6 vintages (2012 thru 2017). There are of course other subsets (20y, older vintages, higher and lower cpns, Adjustable rates, etc.) but these cover the vast majority of the market.\n",
      "\n",
      "Those tickers in your question denote guarantor and original term (FH30y), an example TBA price quote would be FH 30y 3.5% for May Settle. Many, many pools fit the delivery guidelines of that TBA bid.\n",
      "\n",
      "I’ll try to grab a table showing the exact breakdown of loans/pools per guarantor etc.\n",
      "\n",
      "(BTW, Pools get aggregated into larger pools as well as ReSecuritizarions that create various classes of securities w/ competing payment priorities relative to one another. The REMIC market)\n",
      "\n",
      "Loan>Pool>Group Pools>REMIC>reREMIC\n"
     ]
    }
   ],
   "source": [
    "print(bans)"
   ]
  },
  {
   "cell_type": "markdown",
   "metadata": {
    "collapsed": true
   },
   "source": [
    "---\n",
    "\n",
    "## Experiment\n"
   ]
  },
  {
   "cell_type": "code",
   "execution_count": 16,
   "metadata": {
    "collapsed": false
   },
   "outputs": [],
   "source": [
    "# questions, links = getQlinks('https://www.quora.com//search?q=dffgd', 3)"
   ]
  },
  {
   "cell_type": "markdown",
   "metadata": {},
   "source": [
    "---"
   ]
  },
  {
   "cell_type": "code",
   "execution_count": null,
   "metadata": {
    "collapsed": true
   },
   "outputs": [],
   "source": []
  }
 ],
 "metadata": {
  "kernelspec": {
   "display_name": "Python 3",
   "language": "python",
   "name": "python3"
  },
  "language_info": {
   "codemirror_mode": {
    "name": "ipython",
    "version": 3
   },
   "file_extension": ".py",
   "mimetype": "text/x-python",
   "name": "python",
   "nbconvert_exporter": "python",
   "pygments_lexer": "ipython3",
   "version": "3.6.0"
  }
 },
 "nbformat": 4,
 "nbformat_minor": 2
}
