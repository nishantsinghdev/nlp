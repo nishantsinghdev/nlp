{
 "cells": [
  {
   "cell_type": "code",
   "execution_count": 6,
   "metadata": {
    "collapsed": true
   },
   "outputs": [],
   "source": [
    "from kafka import KafkaProducer, KafkaClient\n",
    "client=KafkaClient('localhost:9092')\n",
    "producer = KafkaProducer(bootstrap_servers='localhost:9092')\n",
    "\n",
    "#import json\n",
    "jsonData = {\"action\": \"Hollywood\"} #\"drama\": \"Bollywood\", \"mystery\":\"Mix\"}'\n",
    "#jsonToPython = json.loads(jsonData)\n",
    "\n",
    "producer = KafkaProducer(value_serializer=lambda m: json.dumps(m).encode('ascii'))\n",
    "\n",
    "\n",
    "future =  producer.send('new-topic',jsonData)\n",
    "#future =  producer.send(topic='new-topic', value= b'Bollywood', key=None, partition=drama)\n",
    "#future =  producer.send(topic='new-topic', value= b'Mix', key=None, partition=mystery) "
   ]
  },
  {
   "cell_type": "code",
   "execution_count": null,
   "metadata": {
    "collapsed": true
   },
   "outputs": [],
   "source": [
    "client.topics"
   ]
  },
  {
   "cell_type": "code",
   "execution_count": null,
   "metadata": {
    "collapsed": true
   },
   "outputs": [],
   "source": [
    "\n",
    "from kafka import KafkaProducer\n",
    "import json\n",
    "import base64\n",
    " \n",
    "KAFKA_TOPIC = \"scraped-data\"\n",
    "KAFKA_HOST = \"localhost:9092\"\n",
    " \n",
    "producer = KafkaProducer(bootstrap_servers=KAFKA_HOST, value_serializer=lambda v: json.dumps(v).encode('utf-8'))\n",
    " \n",
    "print (\"start producing to: \" + KAFKA_TOPIC)\n",
    " \n",
    "for _ in range(10):\n",
    "    data = \"message_\"+str(_)\n",
    " \n",
    "    try:\n",
    "        print (data)\n",
    "        encoded = data + base64.b32encode(data)\n",
    "        print (encoded)\n",
    "        producer.send(KAFKA_TOPIC, encoded)\n",
    "    except Exception as ex:\n",
    "        print (ex)\n",
    " \n",
    "producer.flush()\n",
    " \n",
    "print (\"kafka-topic producer finished\")"
   ]
  },
  {
   "cell_type": "code",
   "execution_count": null,
   "metadata": {
    "collapsed": true
   },
   "outputs": [],
   "source": []
  }
 ],
 "metadata": {
  "kernelspec": {
   "display_name": "Python 3",
   "language": "python",
   "name": "python3"
  },
  "language_info": {
   "codemirror_mode": {
    "name": "ipython",
    "version": 3
   },
   "file_extension": ".py",
   "mimetype": "text/x-python",
   "name": "python",
   "nbconvert_exporter": "python",
   "pygments_lexer": "ipython3",
   "version": "3.6.4"
  }
 },
 "nbformat": 4,
 "nbformat_minor": 2
}
