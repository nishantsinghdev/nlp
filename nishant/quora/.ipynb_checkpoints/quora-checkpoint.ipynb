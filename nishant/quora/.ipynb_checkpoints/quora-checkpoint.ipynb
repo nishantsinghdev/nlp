{
 "cells": [
  {
   "cell_type": "code",
   "execution_count": 1,
   "metadata": {},
   "outputs": [],
   "source": [
    "import re\n",
    "import os\n",
    "import time\n",
    "import glob\n",
    "import platform\n",
    "\n",
    "from selenium import webdriver\n",
    "from selenium.webdriver.chrome.options import Options\n",
    "from selenium.webdriver.common.keys import Keys\n",
    "from urlvalidator import validate_url, validate_email, ValidationError"
   ]
  },
  {
   "cell_type": "code",
   "execution_count": 2,
   "metadata": {},
   "outputs": [],
   "source": [
    "# print(os.getcwd()+\"/Drivers/chromedriver_\"+platform.system())\n",
    "# os.getcwd().replace(\"/\",\"\\\\\")+\"\\\\Drivers\\\\chromedriver_\"+platform.system()+\".exe\""
   ]
  },
  {
   "cell_type": "code",
   "execution_count": 3,
   "metadata": {},
   "outputs": [],
   "source": [
    "# os.path.isdir(\"/Applications/Google Chrome Canary.app\")"
   ]
  },
  {
   "cell_type": "code",
   "execution_count": 4,
   "metadata": {},
   "outputs": [],
   "source": [
    "browser = None\n",
    "bno = 0\n",
    "\n",
    "def getBrowser():\n",
    "    global bno\n",
    "    \n",
    "    bno += 1\n",
    "    chrome_options = Options()\n",
    "    chrome_options.add_argument(\"--headless\")\n",
    "    chrome_options.add_argument('--disable-gpu')\n",
    "    chrome_options.add_argument(\"--window-size=1920x1080\")\n",
    "    \n",
    "    os_name = platform.system()\n",
    "    if os_name == \"Windows\":\n",
    "        chrome_driver = os.getcwd().replace(\"/\",\"\\\\\")+\"\\\\Drivers\\\\chromedriver_\"+os_name+\".exe\"\n",
    "    elif os_name == \"Darwin\":\n",
    "        chrome_browser = \"Google Chrome\"\n",
    "        chrome_dev_browser = \"Google Chrome Canary\"\n",
    "        \n",
    "        # Browser -> /Applications/Google Chrome.app\n",
    "        # Binary -> /Applications/Google Chrome.app/Contents/MacOS/Google Chrome\n",
    "        \n",
    "        # Dev Browser -> /Applications/Google Chrome Canary.app\n",
    "        # Dev Binary -> /Applications/Google Chrome Canary.app/Contents/MacOS/Google Chrome Canary\n",
    "        \n",
    "        if os.path.isdir(\"/Applications/\"+chrome_browser+\".app\"):\n",
    "            chrome_options.binary_location = \"/Applications/\"+chrome_browser+\".app/Contents/MacOS/\"+chrome_browser\n",
    "        elif os.path.isdir(\"/Applications/\"+chrome_dev_browser+\".app\"):\n",
    "            chrome_options.binary_location = \"/Applications/\"+chrome_dev_browser+\".app/Contents/MacOS/\"+chrome_dev_browser\n",
    "        chrome_driver = os.getcwd()+\"/Drivers/chromedriver_\"+os_name\n",
    "    else:\n",
    "        chrome_driver = os.getcwd()+\"/Drivers/chromedriver_\"+os_name\n",
    "\n",
    "    browser = webdriver.Chrome(chrome_options=chrome_options, executable_path=chrome_driver)\n",
    "    print(\"Browser - \"+str(bno)+\" Created Successfully !!\")\n",
    "    return browser\n",
    "\n",
    "\n",
    "def startBrowsers():\n",
    "    global browser1, browser2\n",
    "    browser1 = getBrowser()\n",
    "    browser2 = getBrowser()\n",
    "    print()\n",
    "\n",
    "\n",
    "def closeBrowser1():\n",
    "    global browser1, bno\n",
    "    \n",
    "    if browser1 != None:\n",
    "        browser1.quit()\n",
    "        print(\"Browser - 1 Closed Successfully !!\")\n",
    "    else:\n",
    "        print(\"Browser - 1 Not Found !!\")\n",
    "    if bno > 0:\n",
    "        bno -= 1\n",
    "\n",
    "\n",
    "def closeBrowser2():\n",
    "    global browser2, bno\n",
    "    \n",
    "    if browser2 != None:\n",
    "        browser2.quit()\n",
    "        print(\"Browser - 2 Closed Successfully !!\")\n",
    "    else:\n",
    "        print(\"Browser - 2 Not Found !!\")\n",
    "    if bno > 0:\n",
    "        bno -= 1\n",
    "\n",
    "\n",
    "def stopBrowsers():\n",
    "    closeBrowser2()\n",
    "    closeBrowser1()\n",
    "\n",
    "\n",
    "def getNumList(msg=\"\", sep=True):\n",
    "    nlist = []\n",
    "    reg = []\n",
    "    ano = 0\n",
    "    if msg==\"\":\n",
    "        return [0]\n",
    "    if sep==False:\n",
    "        reg = re.findall(r'\\d+', msg)\n",
    "    else:\n",
    "        reg = re.findall(r'\\b\\d+\\b', msg)\n",
    "    \n",
    "    for i in reg:\n",
    "        nlist.append(int(i))\n",
    "    \n",
    "    return nlist\n",
    "\n",
    "\n",
    "def isUrl(link=\"\"):\n",
    "    try:\n",
    "        validate_url(link)\n",
    "    except ValidationError:\n",
    "        return False\n",
    "    \n",
    "    return True\n",
    "            "
   ]
  },
  {
   "cell_type": "code",
   "execution_count": 5,
   "metadata": {},
   "outputs": [
    {
     "data": {
      "text/plain": [
       "[0]"
      ]
     },
     "execution_count": 5,
     "metadata": {},
     "output_type": "execute_result"
    }
   ],
   "source": [
    "getNumList(\"\")"
   ]
  },
  {
   "cell_type": "code",
   "execution_count": 6,
   "metadata": {},
   "outputs": [],
   "source": [
    "def getAns(url=\"\"):\n",
    "    global browser2\n",
    "    alist = []\n",
    "    ano = 0\n",
    "    \n",
    "    if url==\"\" or isUrl(url)==False:\n",
    "        return alist\n",
    "    \n",
    "    browser2.get(url)\n",
    "    body=browser2.find_element_by_tag_name('body')\n",
    "    \n",
    "    try:\n",
    "        ano = browser2.find_elements_by_class_name('answer_count')[0].text\n",
    "        ano = int(getNumList(ano)[0])\n",
    "    except IndexError:\n",
    "        ano = 0\n",
    "    \n",
    "    for i in range(ano):\n",
    "        body.send_keys(Keys.PAGE_DOWN)\n",
    "        time.sleep(1.5)\n",
    "    \n",
    "    n=1\n",
    "    answers = browser2.find_elements_by_xpath(\"//span[@class='ui_qtext_rendered_qtext']\")\n",
    "    for answer in answers:\n",
    "        alist.append((answer.text).replace(\"\\n\\n\",\"\\n\").replace(\"\\n \\n\",\"\\n\").replace(\"\\n\",\"\\n\\n\"))\n",
    "        \n",
    "        n += 1\n",
    "        if n==ano+1:\n",
    "            break\n",
    "    \n",
    "    return alist"
   ]
  },
  {
   "cell_type": "code",
   "execution_count": 7,
   "metadata": {},
   "outputs": [],
   "source": [
    "def genFName(fname=\"\"):\n",
    "    fname = fname.split(\".\")[0]\n",
    "    if fname == \"\":\n",
    "        return fname\n",
    "    \n",
    "    if os.path.exists(fname+\".txt\"):\n",
    "        if fname[-2] == \"_\" :\n",
    "            fname = fname[:-2]\n",
    "        elif fname[-3] == \"_\" :\n",
    "            fname = fname[:-3]\n",
    "        total = len(glob.glob1(\".\",fname+\"*\"))\n",
    "        fname = fname+\"_\"+str(total)+\".txt\"\n",
    "    else:\n",
    "        fname = fname+\".txt\"\n",
    "    \n",
    "    return fname"
   ]
  },
  {
   "cell_type": "code",
   "execution_count": 8,
   "metadata": {},
   "outputs": [
    {
     "data": {
      "text/plain": [
       "'quora.txt'"
      ]
     },
     "execution_count": 8,
     "metadata": {},
     "output_type": "execute_result"
    }
   ],
   "source": [
    "genFName(\"quora\")"
   ]
  },
  {
   "cell_type": "code",
   "execution_count": 9,
   "metadata": {},
   "outputs": [],
   "source": [
    "def writeToTextFile(fname=\"\", res=\"\", write_count=1):\n",
    "    if fname==\"\":\n",
    "        print(\"Please give a File Name !!\")\n",
    "        return \"\"\n",
    "    elif res==\"\":\n",
    "        print(\"Please give a Text to Write !!\")\n",
    "        return \"\"\n",
    "    elif write_count == 0:\n",
    "        fname = fname.split(\".\")[0]\n",
    "        fname = genFName(fname)\n",
    "    else:\n",
    "        fname = fname.split(\".\")[0]\n",
    "        \n",
    "    append_write = 'w'      # make a new file if not\n",
    "    if os.path.exists(fname+\".txt\"):\n",
    "        append_write = 'a'  # append if already exists\n",
    "        fname = fname+\".txt\"\n",
    "    else:\n",
    "        fname = genFName(fname)\n",
    "    \n",
    "    with open(fname, append_write) as wf:\n",
    "        wf.write(res)\n",
    "    \n",
    "    return fname"
   ]
  },
  {
   "cell_type": "code",
   "execution_count": 10,
   "metadata": {},
   "outputs": [],
   "source": [
    "# writeToTextFile(\"quora\", \"xyz\")"
   ]
  },
  {
   "cell_type": "code",
   "execution_count": 11,
   "metadata": {},
   "outputs": [],
   "source": [
    "comment_1 = '''\n",
    "def searchQuora(key=\"\", qno=0):\n",
    "    global browser1\n",
    "    res = \"\"\n",
    "    \n",
    "    startBrowsers()\n",
    "    \n",
    "    if key==\"\" or qno==0:\n",
    "        return key\n",
    "    qno = int(qno)\n",
    "    search_link = 'https://www.quora.com//search?q='+key.replace(' ','+')\n",
    "    browser1.get(search_link)\n",
    "    \n",
    "    body=browser1.find_element_by_tag_name('body')\n",
    "    for i in range(10):\n",
    "        body.send_keys(Keys.PAGE_DOWN)\n",
    "        time.sleep(0.5)\n",
    "        \n",
    "    questions=browser1.find_elements_by_class_name('question_link')\n",
    "    \n",
    "    i=1\n",
    "    n=1\n",
    "    for question in questions:\n",
    "        q = question.text\n",
    "        l = question.get_property('href')\n",
    "        ans = getAns(l)\n",
    "        if ans==[]:\n",
    "            ans = [\"\"]\n",
    "        \n",
    "        res += \"\\n\\n\\nQ\"+str(i)+\".) \"+q+\"\\n\\nLink : \"+str(l)\n",
    "        j=1\n",
    "        for a in ans:\n",
    "            if a == \"\":\n",
    "                res += \"\\n\\nNO ANSWERS FOUND !!\"\n",
    "            else:\n",
    "                res += \"\\n\\nAns No.-\"+str(j)+\"\\n=========\\n\"+a\n",
    "            j+=1\n",
    "        res+=\"\\n\"\n",
    "        i += 1\n",
    "        \n",
    "        n += 1\n",
    "        if n==qno+1:\n",
    "            break\n",
    "            \n",
    "    stopBrowsers()\n",
    "    return res\n",
    "    # return search_link\n",
    "'''"
   ]
  },
  {
   "cell_type": "code",
   "execution_count": 12,
   "metadata": {},
   "outputs": [],
   "source": [
    "# print(searchQuora(key=\"US Mortgage\", qno=10))\n"
   ]
  },
  {
   "cell_type": "code",
   "execution_count": 13,
   "metadata": {},
   "outputs": [
    {
     "ename": "SyntaxError",
     "evalue": "invalid syntax (<ipython-input-13-478d792a0ff4>, line 10)",
     "output_type": "error",
     "traceback": [
      "\u001b[0;36m  File \u001b[0;32m\"<ipython-input-13-478d792a0ff4>\"\u001b[0;36m, line \u001b[0;32m10\u001b[0m\n\u001b[0;31m    if fname=\"\" or key==\"\" or qno==0:\u001b[0m\n\u001b[0m            ^\u001b[0m\n\u001b[0;31mSyntaxError\u001b[0m\u001b[0;31m:\u001b[0m invalid syntax\n"
     ]
    }
   ],
   "source": [
    "file_name = \"\"\n",
    "def searchQuoraToText(key=\"\", qno=0, fname=\"\"):\n",
    "    global browser1, file_name\n",
    "    res = \"\"\n",
    "    # fname = \"quora\"\n",
    "    write_count = 0\n",
    "    \n",
    "    startBrowsers()\n",
    "    \n",
    "    if fname==\"\" or key==\"\" or qno==0:\n",
    "        return key\n",
    "    qno = int(qno)\n",
    "    search_link = 'https://www.quora.com//search?q='+key.replace(' ','+')\n",
    "    browser1.get(search_link)\n",
    "    \n",
    "    body=browser1.find_element_by_tag_name('body')\n",
    "    for i in range(qno):\n",
    "        body.send_keys(Keys.PAGE_DOWN)\n",
    "        time.sleep(1.5)\n",
    "        \n",
    "    questions=browser1.find_elements_by_class_name('question_link')\n",
    "    \n",
    "    n=1\n",
    "    for question in questions:\n",
    "        q = question.text\n",
    "        l = question.get_property('href')\n",
    "        ans = getAns(l)\n",
    "        if ans==[]:\n",
    "            ans = [\"\"]\n",
    "        \n",
    "        res = \"Q$Q$Q\\n\"+q\n",
    "        for a in ans:\n",
    "            if a == \"\":\n",
    "                res += \"\\nA$A$A\"\n",
    "            else:\n",
    "                res += \"\\nA$A$A\\n\"+a\n",
    "        res+=\"\\nE$E$E\\n\\n\"\n",
    "        \n",
    "        fname = writeToTextFile(fname, res, write_count)\n",
    "        if write_count == 0:\n",
    "            print(\"File Created : %s\\n\" % fname)\n",
    "        write_count += 1\n",
    "        if fname==\"\":\n",
    "            print(\"Write to File Unsuccessfull !!\\n\")\n",
    "            return\n",
    "        else:\n",
    "            print(\"Q%s. written to : %s\" % (write_count, fname))\n",
    "        \n",
    "        n += 1\n",
    "        if n==qno+1:\n",
    "            break\n",
    "    \n",
    "    print()\n",
    "    write_count = 0\n",
    "    file_name = fname\n",
    "    stopBrowsers()"
   ]
  },
  {
   "cell_type": "markdown",
   "metadata": {},
   "source": [
    "---\n",
    "### Search Quora for topic and save to a text file"
   ]
  },
  {
   "cell_type": "code",
   "execution_count": null,
   "metadata": {},
   "outputs": [],
   "source": [
    "searchQuoraToText(key=\"US Mortgage\", qno=10, fname=\"quora\")"
   ]
  },
  {
   "cell_type": "markdown",
   "metadata": {},
   "source": [
    "---\n",
    "\n",
    "### Syntax for saving in the text file :\n",
    "### - - - - - - - - - - - - - - - - - - - - - - -\n",
    "\n",
    "**Q\\$Q\\$Q**\n",
    "\n",
    "_Question No. - **1**_\n",
    "\n",
    "**A\\$A\\$A**\n",
    "\n",
    "_Answer No. - 1_\n",
    "\n",
    "**A\\$A\\$A**\n",
    "\n",
    "_Answer No. - 2_\n",
    "\n",
    "**A\\$A\\$A**\n",
    "\n",
    "_._\n",
    "\n",
    "**A\\$A\\$A**\n",
    "\n",
    "_._\n",
    "\n",
    "\n",
    "**A\\$A\\$A**\n",
    "\n",
    "_Answer No. - N_\n",
    "\n",
    "**E\\$E\\$E**\n",
    "\n",
    "**.**\n",
    "\n",
    "**.**\n",
    "\n",
    "**.**\n",
    "\n",
    "**.**\n",
    "\n",
    "**.**\n",
    "\n",
    "**Q\\$Q\\$Q**\n",
    "\n",
    "_Question No. - **M**_\n",
    "\n",
    "**A\\$A\\$A**\n",
    "\n",
    "_._\n",
    "\n",
    "**A\\$A\\$A**\n",
    "\n",
    "_Answer No. - N_\n",
    "\n",
    "**E\\$E\\$E**\n",
    "\n",
    "---"
   ]
  },
  {
   "cell_type": "code",
   "execution_count": null,
   "metadata": {},
   "outputs": [],
   "source": [
    "def showData(fname=\"\"):\n",
    "    data = \"\"\n",
    "    if os.path.exists(fname):\n",
    "        with open(fname, \"r\") as rf:\n",
    "            for line in rf:\n",
    "                data += line\n",
    "        print(data)\n",
    "    else:\n",
    "        print(\"File Not Found : %s\" % fname)"
   ]
  },
  {
   "cell_type": "code",
   "execution_count": null,
   "metadata": {},
   "outputs": [],
   "source": [
    "showData(file_name)"
   ]
  },
  {
   "cell_type": "markdown",
   "metadata": {},
   "source": [
    "---\n",
    "\n",
    "<center><h3>END</h3></center>"
   ]
  },
  {
   "cell_type": "code",
   "execution_count": null,
   "metadata": {},
   "outputs": [],
   "source": [
    "def getList(fname=\"\"):\n",
    "    data = \"\"\n",
    "    dlist = []\n",
    "    if os.path.exists(fname):\n",
    "        data = open(fname, 'r', encoding=\"iso-8859-15\").read()\n",
    "        # data = data.split(\"E$E$E\")[0].split(\"Q$Q$Q\")[1].split(\"A$A$A\")\n",
    "        data = data.split(\"E$E$E\")\n",
    "        data = data[0:-1]\n",
    "        \n",
    "        i=0\n",
    "        for sub_data in data:\n",
    "            temp = []\n",
    "            dlist.append([])\n",
    "            temp = sub_data.split(\"Q$Q$Q\")[1].split(\"A$A$A\")\n",
    "            for t in temp:\n",
    "                t = t.replace(\"\\n\\n\",\" \").replace(\"\\n\",\"\").replace(u'\\x93',\"\").replace(u'\\x94',\"\")\n",
    "                dlist[i].append(t)\n",
    "                while '' in dlist[i]:\n",
    "                    dlist[i].remove('')\n",
    "            i += 1\n",
    "        \n",
    "            \n",
    "        return dlist\n",
    "    else:\n",
    "        return \"File Not Found : %s\" % fname"
   ]
  },
  {
   "cell_type": "code",
   "execution_count": null,
   "metadata": {},
   "outputs": [],
   "source": [
    "var = getList(\"quora.txt\")"
   ]
  },
  {
   "cell_type": "markdown",
   "metadata": {},
   "source": [
    "---\n",
    "\n",
    "### Format\n",
    "\n",
    "var = \\[ \n",
    "        \\[Q1, a1, a2, .... , an\\],\n",
    "        \\[Q2, a1, a2, .... , an\\],\n",
    "                  .\n",
    "                  .\n",
    "                  .\n",
    "        \\[Qm, a1, a2, .... , an\\]\n",
    "      \\]\n",
    " \n",
    " var\\[0\\] => \\[Q1, a1, a2, .... , an\\]\n",
    " \n",
    " ---"
   ]
  },
  {
   "cell_type": "code",
   "execution_count": null,
   "metadata": {},
   "outputs": [],
   "source": [
    "var[7]"
   ]
  }
 ],
 "metadata": {
  "kernelspec": {
   "display_name": "Python 3",
   "language": "python",
   "name": "python3"
  },
  "language_info": {
   "codemirror_mode": {
    "name": "ipython",
    "version": 3
   },
   "file_extension": ".py",
   "mimetype": "text/x-python",
   "name": "python",
   "nbconvert_exporter": "python",
   "pygments_lexer": "ipython3",
   "version": "3.5.4"
  }
 },
 "nbformat": 4,
 "nbformat_minor": 2
}
